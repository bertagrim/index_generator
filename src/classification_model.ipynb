{
 "cells": [
  {
   "cell_type": "code",
   "execution_count": 41,
   "id": "6e1e6559",
   "metadata": {},
   "outputs": [],
   "source": [
    "from sklearn.model_selection import cross_validate\n",
    "from sklearn.model_selection import train_test_split\n",
    "from sklearn.model_selection import GridSearchCV\n",
    "from sklearn.metrics import accuracy_score,recall_score,precision_score,f1_score\n",
    "from sklearn.linear_model import LogisticRegression, LogisticRegressionCV\n",
    "from sklearn.ensemble import RandomForestClassifier\n",
    "from sklearn.metrics import confusion_matrix\n",
    "from sklearn.preprocessing import MinMaxScaler\n",
    "from imblearn.over_sampling import SMOTE\n",
    "from imblearn.under_sampling import ClusterCentroids, CondensedNearestNeighbour, RandomUnderSampler\n",
    "from sklearn.ensemble import GradientBoostingClassifier\n",
    "from xgboost import XGBClassifier\n",
    "from sklearn.decomposition import PCA\n",
    "from sklearn.svm import SVC\n",
    "\n",
    "import numpy as np\n",
    "import pandas as pd\n",
    "import seaborn as sns\n",
    "import matplotlib.pyplot as plt\n",
    "\n",
    "import pickle\n",
    "\n",
    "import pathlib\n",
    "from glob import glob\n",
    "from data_loader import get_pdf_filepaths"
   ]
  },
  {
   "cell_type": "code",
   "execution_count": 42,
   "id": "778e8495",
   "metadata": {},
   "outputs": [],
   "source": [
    "from IPython import get_ipython\n",
    "ip = get_ipython()\n",
    "ip.InteractiveTB.set_mode(mode=\"Verbose\")"
   ]
  },
  {
   "cell_type": "code",
   "execution_count": 43,
   "id": "94c9e953",
   "metadata": {},
   "outputs": [],
   "source": [
    "def get_agg_dfs_filepaths(folder_path):\n",
    "    absolute_folder_path = pathlib.Path(folder_path).resolve()\n",
    "    #print(absolute_folder_path)\n",
    "    pattern = str(absolute_folder_path / '**/aggregated.csv')\n",
    "    #print(pattern)\n",
    "    return glob(pattern)"
   ]
  },
  {
   "cell_type": "code",
   "execution_count": 48,
   "id": "1175e7f1",
   "metadata": {},
   "outputs": [],
   "source": [
    "def get_agg_dfs_filepaths_philosophy(folder_path):\n",
    "    absolute_folder_path = pathlib.Path(folder_path).resolve()\n",
    "    #print(absolute_folder_path)\n",
    "    pattern = str(absolute_folder_path / 'philosophy/**/aggregated.csv')\n",
    "    #print(pattern)\n",
    "    return glob(pattern)"
   ]
  },
  {
   "cell_type": "markdown",
   "id": "317f1d1b",
   "metadata": {},
   "source": [
    "# 0. Create dataset from the csvs of all books"
   ]
  },
  {
   "cell_type": "code",
   "execution_count": 44,
   "id": "3dbbab06",
   "metadata": {},
   "outputs": [],
   "source": [
    "DATA_DIR_PATH = \"../data/\"\n",
    "PDF_SOURCE_DIR_PATH = DATA_DIR_PATH + \"pdf/\"\n",
    "PROCESSED_DATA_DIR_PATH = DATA_DIR_PATH + \"processed/\""
   ]
  },
  {
   "cell_type": "code",
   "execution_count": 55,
   "id": "71204b40",
   "metadata": {},
   "outputs": [
    {
     "data": {
      "text/plain": [
       "['/Users/bertagrim/dev_projects/final_project/index_generator/data/processed/lycan_08/aggregated.csv',\n",
       " '/Users/bertagrim/dev_projects/final_project/index_generator/data/processed/2015_Book_LinearAlgebra/aggregated.csv',\n",
       " '/Users/bertagrim/dev_projects/final_project/index_generator/data/processed/2007BoolosComputability and Logic Fifth Edition/aggregated.csv',\n",
       " '/Users/bertagrim/dev_projects/final_project/index_generator/data/processed/christensen_04/aggregated.csv',\n",
       " '/Users/bertagrim/dev_projects/final_project/index_generator/data/processed/williamson_94/aggregated.csv',\n",
       " '/Users/bertagrim/dev_projects/final_project/index_generator/data/processed/2014_Book_Microeconomics/aggregated.csv',\n",
       " '/Users/bertagrim/dev_projects/final_project/index_generator/data/processed/jacobson_14/aggregated.csv',\n",
       " '/Users/bertagrim/dev_projects/final_project/index_generator/data/processed/morris_07/aggregated.csv',\n",
       " '/Users/bertagrim/dev_projects/final_project/index_generator/data/processed/moltmann_97/aggregated.csv',\n",
       " '/Users/bertagrim/dev_projects/final_project/index_generator/data/processed/zimmermann_13/aggregated.csv',\n",
       " '/Users/bertagrim/dev_projects/final_project/index_generator/data/processed/2009_Book_TheElementsOfStatisticalLearni/aggregated.csv',\n",
       " '/Users/bertagrim/dev_projects/final_project/index_generator/data/processed/peregrin_17/aggregated.csv',\n",
       " '/Users/bertagrim/dev_projects/final_project/index_generator/data/processed/linnebo_21/aggregated.csv',\n",
       " '/Users/bertagrim/dev_projects/final_project/index_generator/data/processed/2017_Book_CosmologyForTheCurious/aggregated.csv',\n",
       " '/Users/bertagrim/dev_projects/final_project/index_generator/data/processed/shapiro_97/aggregated.csv',\n",
       " '/Users/bertagrim/dev_projects/final_project/index_generator/data/processed/linnebo_18/aggregated.csv',\n",
       " '/Users/bertagrim/dev_projects/final_project/index_generator/data/processed/heather_17/aggregated.csv',\n",
       " '/Users/bertagrim/dev_projects/final_project/index_generator/data/processed/jenkins_08/aggregated.csv',\n",
       " '/Users/bertagrim/dev_projects/final_project/index_generator/data/processed/keefe_00/aggregated.csv',\n",
       " '/Users/bertagrim/dev_projects/final_project/index_generator/data/processed/winter_16/aggregated.csv',\n",
       " '/Users/bertagrim/dev_projects/final_project/index_generator/data/processed/oliver_13/aggregated.csv',\n",
       " '/Users/bertagrim/dev_projects/final_project/index_generator/data/processed/lyons_96/aggregated.csv']"
      ]
     },
     "execution_count": 55,
     "metadata": {},
     "output_type": "execute_result"
    }
   ],
   "source": [
    "file_paths = get_agg_dfs_filepaths(PROCESSED_DATA_DIR_PATH)\n",
    "file_paths"
   ]
  },
  {
   "cell_type": "code",
   "execution_count": 52,
   "id": "ce54bd73",
   "metadata": {},
   "outputs": [
    {
     "data": {
      "text/plain": [
       "['/Users/bertagrim/dev_projects/final_project/index_generator/data/processed/philosophy/lycan_08/aggregated.csv',\n",
       " '/Users/bertagrim/dev_projects/final_project/index_generator/data/processed/philosophy/christensen_04/aggregated.csv',\n",
       " '/Users/bertagrim/dev_projects/final_project/index_generator/data/processed/philosophy/williamson_94/aggregated.csv',\n",
       " '/Users/bertagrim/dev_projects/final_project/index_generator/data/processed/philosophy/morris_07/aggregated.csv',\n",
       " '/Users/bertagrim/dev_projects/final_project/index_generator/data/processed/philosophy/peregrin_17/aggregated.csv',\n",
       " '/Users/bertagrim/dev_projects/final_project/index_generator/data/processed/philosophy/shapiro_97/aggregated.csv',\n",
       " '/Users/bertagrim/dev_projects/final_project/index_generator/data/processed/philosophy/linnebo_18/aggregated.csv',\n",
       " '/Users/bertagrim/dev_projects/final_project/index_generator/data/processed/philosophy/jenkins_08/aggregated.csv',\n",
       " '/Users/bertagrim/dev_projects/final_project/index_generator/data/processed/philosophy/keefe_00/aggregated.csv',\n",
       " '/Users/bertagrim/dev_projects/final_project/index_generator/data/processed/philosophy/oliver_13/aggregated.csv']"
      ]
     },
     "execution_count": 52,
     "metadata": {},
     "output_type": "execute_result"
    }
   ],
   "source": [
    "file_paths_philo = get_agg_dfs_filepaths_philosophy(PROCESSED_DATA_DIR_PATH)\n",
    "file_paths_philo"
   ]
  },
  {
   "cell_type": "code",
   "execution_count": 56,
   "id": "9e3a23e9",
   "metadata": {},
   "outputs": [],
   "source": [
    "list_agg_dfs=[]\n",
    "for path in file_paths:\n",
    "    aggregated_df = pd.read_csv(path,index_col=0)\n",
    "    list_agg_dfs.append(aggregated_df)\n",
    "    \n",
    "df = pd.concat(list_agg_dfs)"
   ]
  },
  {
   "cell_type": "code",
   "execution_count": 53,
   "id": "3fdc282d",
   "metadata": {},
   "outputs": [],
   "source": [
    "list_agg_dfs=[]\n",
    "for path in file_paths_philo:\n",
    "    aggregated_df = pd.read_csv(path,index_col=0)\n",
    "    list_agg_dfs.append(aggregated_df)\n",
    "    \n",
    "df_s = pd.concat(list_agg_dfs)"
   ]
  },
  {
   "cell_type": "code",
   "execution_count": 54,
   "id": "ea926e8a",
   "metadata": {},
   "outputs": [
    {
     "name": "stdout",
     "output_type": "stream",
     "text": [
      "<class 'pandas.core.frame.DataFrame'>\n",
      "Int64Index: 372652 entries, 0 to 46618\n",
      "Data columns (total 11 columns):\n",
      " #   Column               Non-Null Count   Dtype  \n",
      "---  ------               --------------   -----  \n",
      " 0   candidate_keyword    372650 non-null  object \n",
      " 1   length               372652 non-null  int64  \n",
      " 2   is_named_entity      372652 non-null  int64  \n",
      " 3   is_named_author      372652 non-null  int64  \n",
      " 4   is_in_toc            372652 non-null  int64  \n",
      " 5   freq                 372652 non-null  float64\n",
      " 6   is_in_index          372652 non-null  int64  \n",
      " 7   tfidf                372652 non-null  float64\n",
      " 8   importance           372652 non-null  float64\n",
      " 9   position_in_context  372652 non-null  float64\n",
      " 10  POS                  372652 non-null  object \n",
      "dtypes: float64(4), int64(5), object(2)\n",
      "memory usage: 34.1+ MB\n"
     ]
    }
   ],
   "source": [
    "df_s.info()"
   ]
  },
  {
   "cell_type": "markdown",
   "id": "ce304b15",
   "metadata": {},
   "source": [
    "# 1. Feature engineering"
   ]
  },
  {
   "cell_type": "code",
   "execution_count": 57,
   "id": "7dbbc895",
   "metadata": {},
   "outputs": [],
   "source": [
    "df.reset_index(drop=True, inplace=True)"
   ]
  },
  {
   "cell_type": "code",
   "execution_count": 58,
   "id": "88860df4",
   "metadata": {},
   "outputs": [],
   "source": [
    "df_s.reset_index(drop=True, inplace=True)"
   ]
  },
  {
   "cell_type": "code",
   "execution_count": 59,
   "id": "2acb0372",
   "metadata": {},
   "outputs": [
    {
     "data": {
      "text/html": [
       "<div>\n",
       "<style scoped>\n",
       "    .dataframe tbody tr th:only-of-type {\n",
       "        vertical-align: middle;\n",
       "    }\n",
       "\n",
       "    .dataframe tbody tr th {\n",
       "        vertical-align: top;\n",
       "    }\n",
       "\n",
       "    .dataframe thead th {\n",
       "        text-align: right;\n",
       "    }\n",
       "</style>\n",
       "<table border=\"1\" class=\"dataframe\">\n",
       "  <thead>\n",
       "    <tr style=\"text-align: right;\">\n",
       "      <th></th>\n",
       "      <th>candidate_keyword</th>\n",
       "      <th>length</th>\n",
       "      <th>is_named_entity</th>\n",
       "      <th>is_named_author</th>\n",
       "      <th>is_in_toc</th>\n",
       "      <th>freq</th>\n",
       "      <th>is_in_index</th>\n",
       "      <th>tfidf</th>\n",
       "      <th>importance</th>\n",
       "      <th>position_in_context</th>\n",
       "    </tr>\n",
       "    <tr>\n",
       "      <th>POS</th>\n",
       "      <th></th>\n",
       "      <th></th>\n",
       "      <th></th>\n",
       "      <th></th>\n",
       "      <th></th>\n",
       "      <th></th>\n",
       "      <th></th>\n",
       "      <th></th>\n",
       "      <th></th>\n",
       "      <th></th>\n",
       "    </tr>\n",
       "  </thead>\n",
       "  <tbody>\n",
       "    <tr>\n",
       "      <th>ADJ</th>\n",
       "      <td>19629</td>\n",
       "      <td>19637</td>\n",
       "      <td>19637</td>\n",
       "      <td>19637</td>\n",
       "      <td>19637</td>\n",
       "      <td>19637</td>\n",
       "      <td>19637</td>\n",
       "      <td>19637</td>\n",
       "      <td>19637</td>\n",
       "      <td>19637</td>\n",
       "    </tr>\n",
       "    <tr>\n",
       "      <th>ADP</th>\n",
       "      <td>769</td>\n",
       "      <td>769</td>\n",
       "      <td>769</td>\n",
       "      <td>769</td>\n",
       "      <td>769</td>\n",
       "      <td>769</td>\n",
       "      <td>769</td>\n",
       "      <td>769</td>\n",
       "      <td>769</td>\n",
       "      <td>769</td>\n",
       "    </tr>\n",
       "    <tr>\n",
       "      <th>ADV</th>\n",
       "      <td>7305</td>\n",
       "      <td>7305</td>\n",
       "      <td>7305</td>\n",
       "      <td>7305</td>\n",
       "      <td>7305</td>\n",
       "      <td>7305</td>\n",
       "      <td>7305</td>\n",
       "      <td>7305</td>\n",
       "      <td>7305</td>\n",
       "      <td>7305</td>\n",
       "    </tr>\n",
       "    <tr>\n",
       "      <th>AUX</th>\n",
       "      <td>282</td>\n",
       "      <td>282</td>\n",
       "      <td>282</td>\n",
       "      <td>282</td>\n",
       "      <td>282</td>\n",
       "      <td>282</td>\n",
       "      <td>282</td>\n",
       "      <td>282</td>\n",
       "      <td>282</td>\n",
       "      <td>282</td>\n",
       "    </tr>\n",
       "    <tr>\n",
       "      <th>CCONJ</th>\n",
       "      <td>98</td>\n",
       "      <td>98</td>\n",
       "      <td>98</td>\n",
       "      <td>98</td>\n",
       "      <td>98</td>\n",
       "      <td>98</td>\n",
       "      <td>98</td>\n",
       "      <td>98</td>\n",
       "      <td>98</td>\n",
       "      <td>98</td>\n",
       "    </tr>\n",
       "    <tr>\n",
       "      <th>CHUNK</th>\n",
       "      <td>749051</td>\n",
       "      <td>749051</td>\n",
       "      <td>749051</td>\n",
       "      <td>749051</td>\n",
       "      <td>749051</td>\n",
       "      <td>749051</td>\n",
       "      <td>749051</td>\n",
       "      <td>749051</td>\n",
       "      <td>749051</td>\n",
       "      <td>749051</td>\n",
       "    </tr>\n",
       "    <tr>\n",
       "      <th>DET</th>\n",
       "      <td>167</td>\n",
       "      <td>167</td>\n",
       "      <td>167</td>\n",
       "      <td>167</td>\n",
       "      <td>167</td>\n",
       "      <td>167</td>\n",
       "      <td>167</td>\n",
       "      <td>167</td>\n",
       "      <td>167</td>\n",
       "      <td>167</td>\n",
       "    </tr>\n",
       "    <tr>\n",
       "      <th>INTJ</th>\n",
       "      <td>251</td>\n",
       "      <td>251</td>\n",
       "      <td>251</td>\n",
       "      <td>251</td>\n",
       "      <td>251</td>\n",
       "      <td>251</td>\n",
       "      <td>251</td>\n",
       "      <td>251</td>\n",
       "      <td>251</td>\n",
       "      <td>251</td>\n",
       "    </tr>\n",
       "    <tr>\n",
       "      <th>NOUN</th>\n",
       "      <td>43999</td>\n",
       "      <td>43999</td>\n",
       "      <td>43999</td>\n",
       "      <td>43999</td>\n",
       "      <td>43999</td>\n",
       "      <td>43999</td>\n",
       "      <td>43999</td>\n",
       "      <td>43999</td>\n",
       "      <td>43999</td>\n",
       "      <td>43999</td>\n",
       "    </tr>\n",
       "    <tr>\n",
       "      <th>NUM</th>\n",
       "      <td>306</td>\n",
       "      <td>306</td>\n",
       "      <td>306</td>\n",
       "      <td>306</td>\n",
       "      <td>306</td>\n",
       "      <td>306</td>\n",
       "      <td>306</td>\n",
       "      <td>306</td>\n",
       "      <td>306</td>\n",
       "      <td>306</td>\n",
       "    </tr>\n",
       "    <tr>\n",
       "      <th>PART</th>\n",
       "      <td>3</td>\n",
       "      <td>3</td>\n",
       "      <td>3</td>\n",
       "      <td>3</td>\n",
       "      <td>3</td>\n",
       "      <td>3</td>\n",
       "      <td>3</td>\n",
       "      <td>3</td>\n",
       "      <td>3</td>\n",
       "      <td>3</td>\n",
       "    </tr>\n",
       "    <tr>\n",
       "      <th>PRON</th>\n",
       "      <td>258</td>\n",
       "      <td>258</td>\n",
       "      <td>258</td>\n",
       "      <td>258</td>\n",
       "      <td>258</td>\n",
       "      <td>258</td>\n",
       "      <td>258</td>\n",
       "      <td>258</td>\n",
       "      <td>258</td>\n",
       "      <td>258</td>\n",
       "    </tr>\n",
       "    <tr>\n",
       "      <th>PROPN</th>\n",
       "      <td>7407</td>\n",
       "      <td>7407</td>\n",
       "      <td>7407</td>\n",
       "      <td>7407</td>\n",
       "      <td>7407</td>\n",
       "      <td>7407</td>\n",
       "      <td>7407</td>\n",
       "      <td>7407</td>\n",
       "      <td>7407</td>\n",
       "      <td>7407</td>\n",
       "    </tr>\n",
       "    <tr>\n",
       "      <th>PUNCT</th>\n",
       "      <td>16</td>\n",
       "      <td>16</td>\n",
       "      <td>16</td>\n",
       "      <td>16</td>\n",
       "      <td>16</td>\n",
       "      <td>16</td>\n",
       "      <td>16</td>\n",
       "      <td>16</td>\n",
       "      <td>16</td>\n",
       "      <td>16</td>\n",
       "    </tr>\n",
       "    <tr>\n",
       "      <th>SCONJ</th>\n",
       "      <td>239</td>\n",
       "      <td>239</td>\n",
       "      <td>239</td>\n",
       "      <td>239</td>\n",
       "      <td>239</td>\n",
       "      <td>239</td>\n",
       "      <td>239</td>\n",
       "      <td>239</td>\n",
       "      <td>239</td>\n",
       "      <td>239</td>\n",
       "    </tr>\n",
       "    <tr>\n",
       "      <th>SYM</th>\n",
       "      <td>4</td>\n",
       "      <td>4</td>\n",
       "      <td>4</td>\n",
       "      <td>4</td>\n",
       "      <td>4</td>\n",
       "      <td>4</td>\n",
       "      <td>4</td>\n",
       "      <td>4</td>\n",
       "      <td>4</td>\n",
       "      <td>4</td>\n",
       "    </tr>\n",
       "    <tr>\n",
       "      <th>VERB</th>\n",
       "      <td>26859</td>\n",
       "      <td>26859</td>\n",
       "      <td>26859</td>\n",
       "      <td>26859</td>\n",
       "      <td>26859</td>\n",
       "      <td>26859</td>\n",
       "      <td>26859</td>\n",
       "      <td>26859</td>\n",
       "      <td>26859</td>\n",
       "      <td>26859</td>\n",
       "    </tr>\n",
       "    <tr>\n",
       "      <th>X</th>\n",
       "      <td>228</td>\n",
       "      <td>228</td>\n",
       "      <td>228</td>\n",
       "      <td>228</td>\n",
       "      <td>228</td>\n",
       "      <td>228</td>\n",
       "      <td>228</td>\n",
       "      <td>228</td>\n",
       "      <td>228</td>\n",
       "      <td>228</td>\n",
       "    </tr>\n",
       "  </tbody>\n",
       "</table>\n",
       "</div>"
      ],
      "text/plain": [
       "       candidate_keyword  length  is_named_entity  is_named_author  is_in_toc  \\\n",
       "POS                                                                             \n",
       "ADJ                19629   19637            19637            19637      19637   \n",
       "ADP                  769     769              769              769        769   \n",
       "ADV                 7305    7305             7305             7305       7305   \n",
       "AUX                  282     282              282              282        282   \n",
       "CCONJ                 98      98               98               98         98   \n",
       "CHUNK             749051  749051           749051           749051     749051   \n",
       "DET                  167     167              167              167        167   \n",
       "INTJ                 251     251              251              251        251   \n",
       "NOUN               43999   43999            43999            43999      43999   \n",
       "NUM                  306     306              306              306        306   \n",
       "PART                   3       3                3                3          3   \n",
       "PRON                 258     258              258              258        258   \n",
       "PROPN               7407    7407             7407             7407       7407   \n",
       "PUNCT                 16      16               16               16         16   \n",
       "SCONJ                239     239              239              239        239   \n",
       "SYM                    4       4                4                4          4   \n",
       "VERB               26859   26859            26859            26859      26859   \n",
       "X                    228     228              228              228        228   \n",
       "\n",
       "         freq  is_in_index   tfidf  importance  position_in_context  \n",
       "POS                                                                  \n",
       "ADJ     19637        19637   19637       19637                19637  \n",
       "ADP       769          769     769         769                  769  \n",
       "ADV      7305         7305    7305        7305                 7305  \n",
       "AUX       282          282     282         282                  282  \n",
       "CCONJ      98           98      98          98                   98  \n",
       "CHUNK  749051       749051  749051      749051               749051  \n",
       "DET       167          167     167         167                  167  \n",
       "INTJ      251          251     251         251                  251  \n",
       "NOUN    43999        43999   43999       43999                43999  \n",
       "NUM       306          306     306         306                  306  \n",
       "PART        3            3       3           3                    3  \n",
       "PRON      258          258     258         258                  258  \n",
       "PROPN    7407         7407    7407        7407                 7407  \n",
       "PUNCT      16           16      16          16                   16  \n",
       "SCONJ     239          239     239         239                  239  \n",
       "SYM         4            4       4           4                    4  \n",
       "VERB    26859        26859   26859       26859                26859  \n",
       "X         228          228     228         228                  228  "
      ]
     },
     "execution_count": 59,
     "metadata": {},
     "output_type": "execute_result"
    }
   ],
   "source": [
    "df.groupby('POS').count()"
   ]
  },
  {
   "cell_type": "code",
   "execution_count": 60,
   "id": "957027f0",
   "metadata": {},
   "outputs": [],
   "source": [
    "df.dropna(inplace=True)"
   ]
  },
  {
   "cell_type": "code",
   "execution_count": 61,
   "id": "881bf207",
   "metadata": {},
   "outputs": [],
   "source": [
    "df_s.dropna(inplace=True)"
   ]
  },
  {
   "cell_type": "code",
   "execution_count": 62,
   "id": "0588b4b6",
   "metadata": {},
   "outputs": [],
   "source": [
    "textbook_words=['whereas', \n",
    "                'conversely', \n",
    "                'result',\n",
    "                'suggest',\n",
    "                'contrast', \n",
    "                'comparison', \n",
    "                'view', \n",
    "                'likewise',\n",
    "                'despite',\n",
    "                'while',\n",
    "                'subsequent',\n",
    "                'subsequently',\n",
    "                'overall',\n",
    "                'summary',\n",
    "                'sumarize',\n",
    "                'first',\n",
    "                'second', \n",
    "                'third',\n",
    "                'firstly',\n",
    "                'secondly', \n",
    "                'thirdly',\n",
    "                'finally',\n",
    "                'although',\n",
    "                'thus',\n",
    "                'again',\n",
    "                'further',\n",
    "                'then',\n",
    "                'besides',\n",
    "                'too',\n",
    "                'similarly',\n",
    "                'correspondingly',\n",
    "                'regarding',\n",
    "                'involved',\n",
    "                'approach',\n",
    "                'account',\n",
    "                'theory',\n",
    "                'method',\n",
    "                'required',\n",
    "                'process',\n",
    "                'research',\n",
    "                'role',\n",
    "                'significant',\n",
    "                'source',\n",
    "                'variable',\n",
    "                'issue',\n",
    "                'function',\n",
    "                'formula',\n",
    "                'formulate',\n",
    "                'phrase',\n",
    "                'factor',\n",
    "                'evidence',\n",
    "                'derived',\n",
    "                'derive',\n",
    "                'establish',\n",
    "                'concept',\n",
    "                'available',\n",
    "                'context',\n",
    "                'assume',\n",
    "                'assumption',\n",
    "                'additionally',\n",
    "                'additional',\n",
    "                'analysis',\n",
    "                'general',\n",
    "                'certain',\n",
    "                'certainly',\n",
    "                'furthermore',\n",
    "                'moreover',\n",
    "                'nonetheless',\n",
    "                'nevertheless',\n",
    "                'bibliography',\n",
    "                'prove',\n",
    "                'part',\n",
    "                'today', \n",
    "                'nowadays', \n",
    "                'actually', \n",
    "                'section', \n",
    "                'indeed', \n",
    "                'every', \n",
    "                'any', \n",
    "                'some',\n",
    "                'instance',\n",
    "                'example', \n",
    "                'therefore', \n",
    "                'definition',\n",
    "                'define',\n",
    "                'explain',\n",
    "                'explanation',\n",
    "                'introduction', \n",
    "                'conclusion',\n",
    "                'conclude',\n",
    "                'chapter', \n",
    "                'appendix', \n",
    "                'otherwise', \n",
    "                'thing',\n",
    "                'concisely',\n",
    "                'concise',\n",
    "                'brief',\n",
    "                'briefly',\n",
    "                'rather', \n",
    "                'instead', \n",
    "                'like', \n",
    "                'since', \n",
    "                'given', \n",
    "                'case', \n",
    "                'hence', \n",
    "                'iff', \n",
    "                'see', \n",
    "                'beyond', \n",
    "                'below', \n",
    "                'above', \n",
    "                'postscript',\n",
    "                'preface',\n",
    "                'index', \n",
    "                'ensure', \n",
    "                'generally', \n",
    "                'anything', \n",
    "                'something',\n",
    "                'everything',\n",
    "                'other']"
   ]
  },
  {
   "cell_type": "code",
   "execution_count": 67,
   "id": "ad5869ad",
   "metadata": {},
   "outputs": [],
   "source": [
    "dict_tbw={}\n",
    "for w in df.candidate_keyword:\n",
    "    if w in textbook_words:\n",
    "        dict_tbw[w]=1\n",
    "    else:\n",
    "        dict_tbw[w]=0"
   ]
  },
  {
   "cell_type": "code",
   "execution_count": 68,
   "id": "508d3bda",
   "metadata": {},
   "outputs": [],
   "source": [
    "dict_tbw_s={}\n",
    "for w in df_s.candidate_keyword:\n",
    "    if w in textbook_words:\n",
    "        dict_tbw_s[w]=1\n",
    "    else:\n",
    "        dict_tbw_s[w]=0"
   ]
  },
  {
   "cell_type": "code",
   "execution_count": 69,
   "id": "6871b5a3",
   "metadata": {},
   "outputs": [],
   "source": [
    "def is_a_tbw(x):\n",
    "    if w in textbook_words:\n",
    "        return 1\n",
    "    else: \n",
    "        return 0"
   ]
  },
  {
   "cell_type": "code",
   "execution_count": 70,
   "id": "25479850",
   "metadata": {
    "scrolled": true
   },
   "outputs": [],
   "source": [
    "df['is_a_textbook_word']=df.candidate_keyword.apply(lambda x: dict_tbw[x])"
   ]
  },
  {
   "cell_type": "code",
   "execution_count": 71,
   "id": "6f29cf77",
   "metadata": {
    "scrolled": true
   },
   "outputs": [],
   "source": [
    "df_s['is_a_textbook_word']=df_s.candidate_keyword.apply(lambda x: dict_tbw_s[x])"
   ]
  },
  {
   "cell_type": "code",
   "execution_count": 72,
   "id": "4dd28e65",
   "metadata": {},
   "outputs": [],
   "source": [
    "df_scaled = pd.get_dummies(df, columns=['POS'],\n",
    "prefix = ['POS'])"
   ]
  },
  {
   "cell_type": "code",
   "execution_count": 73,
   "id": "fb580304",
   "metadata": {},
   "outputs": [],
   "source": [
    "df_s_scaled = pd.get_dummies(df_s, columns=['POS'],\n",
    "prefix = ['POS'])"
   ]
  },
  {
   "cell_type": "code",
   "execution_count": 74,
   "id": "0d7b419f",
   "metadata": {},
   "outputs": [
    {
     "data": {
      "text/html": [
       "<div>\n",
       "<style scoped>\n",
       "    .dataframe tbody tr th:only-of-type {\n",
       "        vertical-align: middle;\n",
       "    }\n",
       "\n",
       "    .dataframe tbody tr th {\n",
       "        vertical-align: top;\n",
       "    }\n",
       "\n",
       "    .dataframe thead th {\n",
       "        text-align: right;\n",
       "    }\n",
       "</style>\n",
       "<table border=\"1\" class=\"dataframe\">\n",
       "  <thead>\n",
       "    <tr style=\"text-align: right;\">\n",
       "      <th></th>\n",
       "      <th>candidate_keyword</th>\n",
       "      <th>length</th>\n",
       "      <th>is_named_entity</th>\n",
       "      <th>is_named_author</th>\n",
       "      <th>is_in_toc</th>\n",
       "      <th>freq</th>\n",
       "      <th>is_in_index</th>\n",
       "      <th>tfidf</th>\n",
       "      <th>importance</th>\n",
       "      <th>position_in_context</th>\n",
       "      <th>...</th>\n",
       "      <th>POS_NOUN</th>\n",
       "      <th>POS_NUM</th>\n",
       "      <th>POS_PART</th>\n",
       "      <th>POS_PRON</th>\n",
       "      <th>POS_PROPN</th>\n",
       "      <th>POS_PUNCT</th>\n",
       "      <th>POS_SCONJ</th>\n",
       "      <th>POS_SYM</th>\n",
       "      <th>POS_VERB</th>\n",
       "      <th>POS_X</th>\n",
       "    </tr>\n",
       "  </thead>\n",
       "  <tbody>\n",
       "    <tr>\n",
       "      <th>0</th>\n",
       "      <td>a-laying</td>\n",
       "      <td>8</td>\n",
       "      <td>0</td>\n",
       "      <td>0</td>\n",
       "      <td>0</td>\n",
       "      <td>0.000013</td>\n",
       "      <td>0</td>\n",
       "      <td>0.000000</td>\n",
       "      <td>0.662301</td>\n",
       "      <td>0.750000</td>\n",
       "      <td>...</td>\n",
       "      <td>1</td>\n",
       "      <td>0</td>\n",
       "      <td>0</td>\n",
       "      <td>0</td>\n",
       "      <td>0</td>\n",
       "      <td>0</td>\n",
       "      <td>0</td>\n",
       "      <td>0</td>\n",
       "      <td>0</td>\n",
       "      <td>0</td>\n",
       "    </tr>\n",
       "    <tr>\n",
       "      <th>1</th>\n",
       "      <td>a-laying police</td>\n",
       "      <td>15</td>\n",
       "      <td>0</td>\n",
       "      <td>0</td>\n",
       "      <td>0</td>\n",
       "      <td>0.000013</td>\n",
       "      <td>0</td>\n",
       "      <td>0.000000</td>\n",
       "      <td>0.662301</td>\n",
       "      <td>0.750000</td>\n",
       "      <td>...</td>\n",
       "      <td>0</td>\n",
       "      <td>0</td>\n",
       "      <td>0</td>\n",
       "      <td>0</td>\n",
       "      <td>0</td>\n",
       "      <td>0</td>\n",
       "      <td>0</td>\n",
       "      <td>0</td>\n",
       "      <td>0</td>\n",
       "      <td>0</td>\n",
       "    </tr>\n",
       "    <tr>\n",
       "      <th>2</th>\n",
       "      <td>aardvark</td>\n",
       "      <td>8</td>\n",
       "      <td>0</td>\n",
       "      <td>0</td>\n",
       "      <td>0</td>\n",
       "      <td>0.000013</td>\n",
       "      <td>0</td>\n",
       "      <td>0.000000</td>\n",
       "      <td>0.644323</td>\n",
       "      <td>1.000000</td>\n",
       "      <td>...</td>\n",
       "      <td>1</td>\n",
       "      <td>0</td>\n",
       "      <td>0</td>\n",
       "      <td>0</td>\n",
       "      <td>0</td>\n",
       "      <td>0</td>\n",
       "      <td>0</td>\n",
       "      <td>0</td>\n",
       "      <td>0</td>\n",
       "      <td>0</td>\n",
       "    </tr>\n",
       "    <tr>\n",
       "      <th>3</th>\n",
       "      <td>abandoned</td>\n",
       "      <td>9</td>\n",
       "      <td>0</td>\n",
       "      <td>0</td>\n",
       "      <td>0</td>\n",
       "      <td>0.000038</td>\n",
       "      <td>0</td>\n",
       "      <td>0.009811</td>\n",
       "      <td>0.449342</td>\n",
       "      <td>0.611827</td>\n",
       "      <td>...</td>\n",
       "      <td>0</td>\n",
       "      <td>0</td>\n",
       "      <td>0</td>\n",
       "      <td>0</td>\n",
       "      <td>0</td>\n",
       "      <td>0</td>\n",
       "      <td>0</td>\n",
       "      <td>0</td>\n",
       "      <td>1</td>\n",
       "      <td>0</td>\n",
       "    </tr>\n",
       "    <tr>\n",
       "      <th>4</th>\n",
       "      <td>abandoned commitment</td>\n",
       "      <td>20</td>\n",
       "      <td>0</td>\n",
       "      <td>0</td>\n",
       "      <td>0</td>\n",
       "      <td>0.000013</td>\n",
       "      <td>0</td>\n",
       "      <td>0.000000</td>\n",
       "      <td>0.392002</td>\n",
       "      <td>0.272727</td>\n",
       "      <td>...</td>\n",
       "      <td>0</td>\n",
       "      <td>0</td>\n",
       "      <td>0</td>\n",
       "      <td>0</td>\n",
       "      <td>0</td>\n",
       "      <td>0</td>\n",
       "      <td>0</td>\n",
       "      <td>0</td>\n",
       "      <td>0</td>\n",
       "      <td>0</td>\n",
       "    </tr>\n",
       "  </tbody>\n",
       "</table>\n",
       "<p>5 rows × 29 columns</p>\n",
       "</div>"
      ],
      "text/plain": [
       "      candidate_keyword  length  is_named_entity  is_named_author  is_in_toc  \\\n",
       "0              a-laying       8                0                0          0   \n",
       "1       a-laying police      15                0                0          0   \n",
       "2              aardvark       8                0                0          0   \n",
       "3             abandoned       9                0                0          0   \n",
       "4  abandoned commitment      20                0                0          0   \n",
       "\n",
       "       freq  is_in_index     tfidf  importance  position_in_context  ...  \\\n",
       "0  0.000013            0  0.000000    0.662301             0.750000  ...   \n",
       "1  0.000013            0  0.000000    0.662301             0.750000  ...   \n",
       "2  0.000013            0  0.000000    0.644323             1.000000  ...   \n",
       "3  0.000038            0  0.009811    0.449342             0.611827  ...   \n",
       "4  0.000013            0  0.000000    0.392002             0.272727  ...   \n",
       "\n",
       "   POS_NOUN  POS_NUM  POS_PART  POS_PRON  POS_PROPN  POS_PUNCT  POS_SCONJ  \\\n",
       "0         1        0         0         0          0          0          0   \n",
       "1         0        0         0         0          0          0          0   \n",
       "2         1        0         0         0          0          0          0   \n",
       "3         0        0         0         0          0          0          0   \n",
       "4         0        0         0         0          0          0          0   \n",
       "\n",
       "   POS_SYM  POS_VERB  POS_X  \n",
       "0        0         0      0  \n",
       "1        0         0      0  \n",
       "2        0         0      0  \n",
       "3        0         1      0  \n",
       "4        0         0      0  \n",
       "\n",
       "[5 rows x 29 columns]"
      ]
     },
     "execution_count": 74,
     "metadata": {},
     "output_type": "execute_result"
    }
   ],
   "source": [
    "df_s_scaled.head()"
   ]
  },
  {
   "cell_type": "code",
   "execution_count": 75,
   "id": "1d26da84",
   "metadata": {},
   "outputs": [],
   "source": [
    "df_scaled.drop(columns=['candidate_keyword'], inplace=True)"
   ]
  },
  {
   "cell_type": "code",
   "execution_count": 76,
   "id": "cb52be7b",
   "metadata": {},
   "outputs": [],
   "source": [
    "df_s_scaled.drop(columns=['candidate_keyword'], inplace=True)"
   ]
  },
  {
   "cell_type": "code",
   "execution_count": 77,
   "id": "8373c548",
   "metadata": {},
   "outputs": [],
   "source": [
    "df_scaled_columns = df_scaled.columns"
   ]
  },
  {
   "cell_type": "code",
   "execution_count": 78,
   "id": "06919605",
   "metadata": {},
   "outputs": [],
   "source": [
    "df_s_scaled_columns = df_s_scaled.columns"
   ]
  },
  {
   "cell_type": "code",
   "execution_count": 79,
   "id": "771ecee3",
   "metadata": {},
   "outputs": [],
   "source": [
    "scaler = MinMaxScaler() "
   ]
  },
  {
   "cell_type": "code",
   "execution_count": 80,
   "id": "3dea07b3",
   "metadata": {},
   "outputs": [],
   "source": [
    "#not sure about this (do I need to concat or what?)\n",
    "df_scaled = scaler.fit_transform(df_scaled)\n",
    "df_scaled = pd.DataFrame(df_scaled, columns= df_scaled_columns)#not sure about this (do I need to concat or what?)"
   ]
  },
  {
   "cell_type": "code",
   "execution_count": 81,
   "id": "a20e1112",
   "metadata": {},
   "outputs": [],
   "source": [
    "df_s_scaled = scaler.fit_transform(df_s_scaled)\n",
    "df_s_scaled = pd.DataFrame(df_s_scaled, columns= df_s_scaled_columns)"
   ]
  },
  {
   "cell_type": "code",
   "execution_count": 82,
   "id": "804be99e",
   "metadata": {},
   "outputs": [],
   "source": [
    "df_scaled=df_scaled.rename(columns={\"is_in_index\": \"target\"})"
   ]
  },
  {
   "cell_type": "code",
   "execution_count": 83,
   "id": "d8247507",
   "metadata": {},
   "outputs": [],
   "source": [
    "df_s_scaled=df_s_scaled.rename(columns={\"is_in_index\": \"target\"})"
   ]
  },
  {
   "cell_type": "code",
   "execution_count": 84,
   "id": "a1fa23f3",
   "metadata": {},
   "outputs": [
    {
     "name": "stdout",
     "output_type": "stream",
     "text": [
      "<class 'pandas.core.frame.DataFrame'>\n",
      "RangeIndex: 372650 entries, 0 to 372649\n",
      "Data columns (total 28 columns):\n",
      " #   Column               Non-Null Count   Dtype  \n",
      "---  ------               --------------   -----  \n",
      " 0   length               372650 non-null  float64\n",
      " 1   is_named_entity      372650 non-null  float64\n",
      " 2   is_named_author      372650 non-null  float64\n",
      " 3   is_in_toc            372650 non-null  float64\n",
      " 4   freq                 372650 non-null  float64\n",
      " 5   target               372650 non-null  float64\n",
      " 6   tfidf                372650 non-null  float64\n",
      " 7   importance           372650 non-null  float64\n",
      " 8   position_in_context  372650 non-null  float64\n",
      " 9   is_a_textbook_word   372650 non-null  float64\n",
      " 10  POS_ADJ              372650 non-null  float64\n",
      " 11  POS_ADP              372650 non-null  float64\n",
      " 12  POS_ADV              372650 non-null  float64\n",
      " 13  POS_AUX              372650 non-null  float64\n",
      " 14  POS_CCONJ            372650 non-null  float64\n",
      " 15  POS_CHUNK            372650 non-null  float64\n",
      " 16  POS_DET              372650 non-null  float64\n",
      " 17  POS_INTJ             372650 non-null  float64\n",
      " 18  POS_NOUN             372650 non-null  float64\n",
      " 19  POS_NUM              372650 non-null  float64\n",
      " 20  POS_PART             372650 non-null  float64\n",
      " 21  POS_PRON             372650 non-null  float64\n",
      " 22  POS_PROPN            372650 non-null  float64\n",
      " 23  POS_PUNCT            372650 non-null  float64\n",
      " 24  POS_SCONJ            372650 non-null  float64\n",
      " 25  POS_SYM              372650 non-null  float64\n",
      " 26  POS_VERB             372650 non-null  float64\n",
      " 27  POS_X                372650 non-null  float64\n",
      "dtypes: float64(28)\n",
      "memory usage: 79.6 MB\n"
     ]
    }
   ],
   "source": [
    "df_s_scaled.info()"
   ]
  },
  {
   "cell_type": "code",
   "execution_count": 85,
   "id": "e219b96d",
   "metadata": {},
   "outputs": [],
   "source": [
    "df_scaled.to_csv(\"../data/final_scaled.csv\", encoding = 'utf-8')"
   ]
  },
  {
   "cell_type": "code",
   "execution_count": 86,
   "id": "ea216e97",
   "metadata": {},
   "outputs": [],
   "source": [
    "df_s_scaled.to_csv(\"../data/final_scaled_small.csv\", encoding = 'utf-8')"
   ]
  },
  {
   "cell_type": "markdown",
   "id": "d94338ce",
   "metadata": {},
   "source": [
    "# 2. Quick EDA"
   ]
  },
  {
   "cell_type": "code",
   "execution_count": 26,
   "id": "d180470b",
   "metadata": {},
   "outputs": [
    {
     "name": "stdout",
     "output_type": "stream",
     "text": [
      "<class 'pandas.core.frame.DataFrame'>\n",
      "Int64Index: 856871 entries, 0 to 856870\n",
      "Data columns (total 28 columns):\n",
      " #   Column               Non-Null Count   Dtype  \n",
      "---  ------               --------------   -----  \n",
      " 0   length               856871 non-null  float64\n",
      " 1   is_named_entity      856871 non-null  float64\n",
      " 2   is_named_author      856871 non-null  float64\n",
      " 3   is_in_toc            856871 non-null  float64\n",
      " 4   freq                 856871 non-null  float64\n",
      " 5   target               856871 non-null  float64\n",
      " 6   tfidf                856871 non-null  float64\n",
      " 7   importance           856871 non-null  float64\n",
      " 8   position_in_context  856871 non-null  float64\n",
      " 9   is_a_textbook_word   856871 non-null  float64\n",
      " 10  POS_ADJ              856871 non-null  float64\n",
      " 11  POS_ADP              856871 non-null  float64\n",
      " 12  POS_ADV              856871 non-null  float64\n",
      " 13  POS_AUX              856871 non-null  float64\n",
      " 14  POS_CCONJ            856871 non-null  float64\n",
      " 15  POS_CHUNK            856871 non-null  float64\n",
      " 16  POS_DET              856871 non-null  float64\n",
      " 17  POS_INTJ             856871 non-null  float64\n",
      " 18  POS_NOUN             856871 non-null  float64\n",
      " 19  POS_NUM              856871 non-null  float64\n",
      " 20  POS_PART             856871 non-null  float64\n",
      " 21  POS_PRON             856871 non-null  float64\n",
      " 22  POS_PROPN            856871 non-null  float64\n",
      " 23  POS_PUNCT            856871 non-null  float64\n",
      " 24  POS_SCONJ            856871 non-null  float64\n",
      " 25  POS_SYM              856871 non-null  float64\n",
      " 26  POS_VERB             856871 non-null  float64\n",
      " 27  POS_X                856871 non-null  float64\n",
      "dtypes: float64(28)\n",
      "memory usage: 189.6 MB\n"
     ]
    }
   ],
   "source": [
    "path = '../data/final_scaled.csv'\n",
    "df_scaled = pd.read_csv(path,index_col=0)\n",
    "df_scaled.info()"
   ]
  },
  {
   "cell_type": "code",
   "execution_count": 27,
   "id": "7439984e",
   "metadata": {},
   "outputs": [
    {
     "name": "stdout",
     "output_type": "stream",
     "text": [
      "<class 'pandas.core.frame.DataFrame'>\n",
      "Int64Index: 379489 entries, 0 to 379488\n",
      "Data columns (total 25 columns):\n",
      " #   Column               Non-Null Count   Dtype  \n",
      "---  ------               --------------   -----  \n",
      " 0   length               379489 non-null  float64\n",
      " 1   is_named_entity      379489 non-null  float64\n",
      " 2   is_named_author      379489 non-null  float64\n",
      " 3   is_in_toc            379489 non-null  float64\n",
      " 4   freq                 379489 non-null  float64\n",
      " 5   target               379489 non-null  float64\n",
      " 6   tfidf                379489 non-null  float64\n",
      " 7   importance           379489 non-null  float64\n",
      " 8   position_in_context  379489 non-null  float64\n",
      " 9   is_a_textbook_word   379489 non-null  float64\n",
      " 10  POS_ADJ              379489 non-null  float64\n",
      " 11  POS_ADP              379489 non-null  float64\n",
      " 12  POS_ADV              379489 non-null  float64\n",
      " 13  POS_AUX              379489 non-null  float64\n",
      " 14  POS_CCONJ            379489 non-null  float64\n",
      " 15  POS_CHUNK            379489 non-null  float64\n",
      " 16  POS_DET              379489 non-null  float64\n",
      " 17  POS_INTJ             379489 non-null  float64\n",
      " 18  POS_NOUN             379489 non-null  float64\n",
      " 19  POS_NUM              379489 non-null  float64\n",
      " 20  POS_PRON             379489 non-null  float64\n",
      " 21  POS_PROPN            379489 non-null  float64\n",
      " 22  POS_SCONJ            379489 non-null  float64\n",
      " 23  POS_VERB             379489 non-null  float64\n",
      " 24  POS_X                379489 non-null  float64\n",
      "dtypes: float64(25)\n",
      "memory usage: 75.3 MB\n"
     ]
    }
   ],
   "source": [
    "path = '../data/final_scaled_small.csv'\n",
    "df_s_scaled = pd.read_csv(path,index_col=0)\n",
    "df_s_scaled.info()"
   ]
  },
  {
   "cell_type": "markdown",
   "id": "13d20747",
   "metadata": {},
   "source": [
    "### Pairplot all columns"
   ]
  },
  {
   "cell_type": "code",
   "execution_count": null,
   "id": "c387f4e1",
   "metadata": {},
   "outputs": [],
   "source": [
    "g = sns.pairplot(df_scaled, y_vars= df_scaled.columns.values, x_vars=\"target\")\n",
    "g.fig.set_size_inches(7,14)"
   ]
  },
  {
   "cell_type": "code",
   "execution_count": null,
   "id": "30a07e4a",
   "metadata": {},
   "outputs": [],
   "source": [
    "pairplot=sns.pairplot(df_scaled, hue='target')"
   ]
  },
  {
   "cell_type": "code",
   "execution_count": null,
   "id": "aa8876d0",
   "metadata": {},
   "outputs": [],
   "source": [
    "pairplot"
   ]
  },
  {
   "cell_type": "code",
   "execution_count": null,
   "id": "c21a2d49",
   "metadata": {},
   "outputs": [],
   "source": [
    "pairplot.figure.savefig(\"..images/images/pairplot.png\")"
   ]
  },
  {
   "cell_type": "markdown",
   "id": "0cf2ba74",
   "metadata": {},
   "source": [
    "### Boxplots"
   ]
  },
  {
   "cell_type": "code",
   "execution_count": null,
   "id": "f2090733",
   "metadata": {},
   "outputs": [],
   "source": [
    "for column in df_scaled.drop(['target'], axis=1):\n",
    "    plt.figure()\n",
    "    df_scaled.boxplot([column])"
   ]
  },
  {
   "cell_type": "markdown",
   "id": "b5f4d36c",
   "metadata": {},
   "source": [
    "### Correlation heatmap"
   ]
  },
  {
   "cell_type": "code",
   "execution_count": 27,
   "id": "104e955d",
   "metadata": {},
   "outputs": [
    {
     "data": {
      "image/png": "[encoded data removed]",
      "text/plain": [
       "<Figure size 288x720 with 2 Axes>"
      ]
     },
     "metadata": {
      "needs_background": "light"
     },
     "output_type": "display_data"
    }
   ],
   "source": [
    "plt.figure(figsize=(4, 10))\n",
    "\n",
    "heatmap = sns.heatmap(df_scaled.corr()[['target']].sort_values(by='target', ascending=False), \n",
    "                      vmin=-1, \n",
    "                      vmax=1,\n",
    "                      annot=True,\n",
    "                      cmap='BrBG')\n",
    "\n",
    "heatmap.set_title('Index Correlation', fontdict={'fontsize':18}, pad=16);\n",
    "\n",
    "plt.show()"
   ]
  },
  {
   "cell_type": "code",
   "execution_count": 30,
   "id": "b5540ef7",
   "metadata": {},
   "outputs": [],
   "source": [
    "heatmap.figure.savefig(\"../images/heatmap.png\", bbox_inches=\"tight\")"
   ]
  },
  {
   "cell_type": "code",
   "execution_count": 28,
   "id": "db426572",
   "metadata": {},
   "outputs": [
    {
     "data": {
      "image/png": "[encoded data removed]",
      "text/plain": [
       "<Figure size 288x720 with 2 Axes>"
      ]
     },
     "metadata": {
      "needs_background": "light"
     },
     "output_type": "display_data"
    }
   ],
   "source": [
    "plt.figure(figsize=(4, 10))\n",
    "\n",
    "heatmap_s = sns.heatmap(df_s_scaled.corr()[['target']].sort_values(by='target', ascending=False), \n",
    "                      vmin=-1, \n",
    "                      vmax=1,\n",
    "                      annot=True,\n",
    "                      cmap='BrBG')\n",
    "\n",
    "heatmap_s.set_title('Index Correlation', fontdict={'fontsize':18}, pad=16);\n",
    "\n",
    "plt.show()"
   ]
  },
  {
   "cell_type": "code",
   "execution_count": 29,
   "id": "c242fdb0",
   "metadata": {},
   "outputs": [],
   "source": [
    "heatmap_s.figure.savefig(\"../images/heatmap_s.png\", bbox_inches=\"tight\")"
   ]
  },
  {
   "cell_type": "markdown",
   "id": "f70b3682",
   "metadata": {},
   "source": [
    "# 3. Train and test the models"
   ]
  },
  {
   "cell_type": "code",
   "execution_count": 87,
   "id": "c96473d9",
   "metadata": {},
   "outputs": [],
   "source": [
    "X = df_scaled.drop('target', axis= 1)\n",
    "y = df_scaled.target"
   ]
  },
  {
   "cell_type": "code",
   "execution_count": 88,
   "id": "02b5c5d6",
   "metadata": {},
   "outputs": [],
   "source": [
    "X_s = df_s_scaled.drop('target', axis= 1)\n",
    "y_s = df_s_scaled.target"
   ]
  },
  {
   "cell_type": "code",
   "execution_count": 89,
   "id": "c821f737",
   "metadata": {},
   "outputs": [],
   "source": [
    "X_train, X_test, y_train, y_test = train_test_split(X, y, test_size=0.3,\n",
    "                                                    random_state=42, stratify=y)"
   ]
  },
  {
   "cell_type": "code",
   "execution_count": 90,
   "id": "c821f737",
   "metadata": {},
   "outputs": [],
   "source": [
    "X_s_train, X_s_test, y_s_train, y_s_test = train_test_split(X_s, y_s, test_size=0.3,\n",
    "                                                    random_state=42, stratify=y_s)"
   ]
  },
  {
   "cell_type": "code",
   "execution_count": 92,
   "id": "d03fd6ee",
   "metadata": {},
   "outputs": [
    {
     "name": "stdout",
     "output_type": "stream",
     "text": [
      "<class 'pandas.core.frame.DataFrame'>\n",
      "Int64Index: 260855 entries, 316106 to 66976\n",
      "Data columns (total 27 columns):\n",
      " #   Column               Non-Null Count   Dtype  \n",
      "---  ------               --------------   -----  \n",
      " 0   length               260855 non-null  float64\n",
      " 1   is_named_entity      260855 non-null  float64\n",
      " 2   is_named_author      260855 non-null  float64\n",
      " 3   is_in_toc            260855 non-null  float64\n",
      " 4   freq                 260855 non-null  float64\n",
      " 5   tfidf                260855 non-null  float64\n",
      " 6   importance           260855 non-null  float64\n",
      " 7   position_in_context  260855 non-null  float64\n",
      " 8   is_a_textbook_word   260855 non-null  float64\n",
      " 9   POS_ADJ              260855 non-null  float64\n",
      " 10  POS_ADP              260855 non-null  float64\n",
      " 11  POS_ADV              260855 non-null  float64\n",
      " 12  POS_AUX              260855 non-null  float64\n",
      " 13  POS_CCONJ            260855 non-null  float64\n",
      " 14  POS_CHUNK            260855 non-null  float64\n",
      " 15  POS_DET              260855 non-null  float64\n",
      " 16  POS_INTJ             260855 non-null  float64\n",
      " 17  POS_NOUN             260855 non-null  float64\n",
      " 18  POS_NUM              260855 non-null  float64\n",
      " 19  POS_PART             260855 non-null  float64\n",
      " 20  POS_PRON             260855 non-null  float64\n",
      " 21  POS_PROPN            260855 non-null  float64\n",
      " 22  POS_PUNCT            260855 non-null  float64\n",
      " 23  POS_SCONJ            260855 non-null  float64\n",
      " 24  POS_SYM              260855 non-null  float64\n",
      " 25  POS_VERB             260855 non-null  float64\n",
      " 26  POS_X                260855 non-null  float64\n",
      "dtypes: float64(27)\n",
      "memory usage: 55.7 MB\n"
     ]
    }
   ],
   "source": [
    "X_s_train[]"
   ]
  },
  {
   "cell_type": "markdown",
   "id": "ee247cc0",
   "metadata": {},
   "source": [
    "## Oversampling"
   ]
  },
  {
   "cell_type": "code",
   "execution_count": 171,
   "id": "773b0c05",
   "metadata": {},
   "outputs": [],
   "source": [
    "smote = SMOTE(random_state=42)"
   ]
  },
  {
   "cell_type": "code",
   "execution_count": 172,
   "id": "773b0c05",
   "metadata": {},
   "outputs": [],
   "source": [
    "smote_s = SMOTE(random_state=42)"
   ]
  },
  {
   "cell_type": "code",
   "execution_count": 173,
   "id": "edc89c50",
   "metadata": {},
   "outputs": [],
   "source": [
    "X_sm,y_sm=smote.fit_resample(X_train, y_train)"
   ]
  },
  {
   "cell_type": "code",
   "execution_count": 174,
   "id": "edc89c50",
   "metadata": {},
   "outputs": [],
   "source": [
    "X_sm_s,y_sm_s=smote_s.fit_resample(X_s_train, y_s_train)"
   ]
  },
  {
   "cell_type": "code",
   "execution_count": 175,
   "id": "33d78395",
   "metadata": {},
   "outputs": [],
   "source": [
    "pickle.dump(X_sm, open('../models/X_sm.sav', 'wb'))\n",
    "pickle.dump(y_sm, open('../models/y_sm.sav', 'wb'))"
   ]
  },
  {
   "cell_type": "code",
   "execution_count": 176,
   "id": "33d78395",
   "metadata": {},
   "outputs": [],
   "source": [
    "pickle.dump(X_sm_s, open('../models/X_sm_s.sav', 'wb'))\n",
    "pickle.dump(y_sm_s, open('../models/y_sm_s.sav', 'wb'))"
   ]
  },
  {
   "cell_type": "code",
   "execution_count": 177,
   "id": "bdb50af6",
   "metadata": {},
   "outputs": [],
   "source": [
    "X_sm = pickle.load(open('../models/X_sm.sav', 'rb'))\n",
    "y_sm = pickle.load(open('../models/y_sm.sav', 'rb'))"
   ]
  },
  {
   "cell_type": "code",
   "execution_count": 178,
   "id": "bdb50af6",
   "metadata": {},
   "outputs": [],
   "source": [
    "X_sm_s = pickle.load(open('../models/X_sm_s.sav', 'rb'))\n",
    "y_sm_s = pickle.load(open('../models/y_sm_s.sav', 'rb'))"
   ]
  },
  {
   "cell_type": "code",
   "execution_count": 179,
   "id": "6fd87f3b",
   "metadata": {},
   "outputs": [
    {
     "name": "stdout",
     "output_type": "stream",
     "text": [
      "\n",
      "Before OVER-sampling\n",
      " 0.0    593265\n",
      "1.0      6544\n",
      "Name: target, dtype: int64\n",
      "\n",
      "After OVER-sampling\n",
      " 0.0    593265\n",
      "1.0    593265\n",
      "Name: target, dtype: int64\n"
     ]
    }
   ],
   "source": [
    "print('\\nBefore OVER-sampling\\n', y_train.value_counts())\n",
    "print('\\nAfter OVER-sampling\\n', y_sm.value_counts())"
   ]
  },
  {
   "cell_type": "code",
   "execution_count": 180,
   "id": "68959740",
   "metadata": {},
   "outputs": [
    {
     "name": "stdout",
     "output_type": "stream",
     "text": [
      "\n",
      "Before OVER-sampling\n",
      " 0.0    258184\n",
      "1.0      2671\n",
      "Name: target, dtype: int64\n",
      "\n",
      "After OVER-sampling\n",
      " 0.0    258184\n",
      "1.0    258184\n",
      "Name: target, dtype: int64\n"
     ]
    }
   ],
   "source": [
    "print('\\nBefore OVER-sampling\\n', y_s_train.value_counts())\n",
    "print('\\nAfter OVER-sampling\\n', y_sm_s.value_counts())"
   ]
  },
  {
   "cell_type": "markdown",
   "id": "916ed230",
   "metadata": {},
   "source": [
    "## Undersampling"
   ]
  },
  {
   "cell_type": "code",
   "execution_count": null,
   "id": "9f5becb1",
   "metadata": {},
   "outputs": [],
   "source": [
    "sampler = ClusterCentroids()\n",
    "X_cc, y_cc = sampler.fit_resample(X_train, y_train)"
   ]
  },
  {
   "cell_type": "code",
   "execution_count": 40,
   "id": "9f5becb1",
   "metadata": {},
   "outputs": [
    {
     "ename": "KeyboardInterrupt",
     "evalue": "",
     "output_type": "error",
     "traceback": [
      "\u001b[0;31m---------------------------------------------------------------------------\u001b[0m",
      "\u001b[0;31mKeyboardInterrupt\u001b[0m                         Traceback (most recent call last)",
      "\u001b[0;32m<ipython-input-40-596cb11a3b26>\u001b[0m in \u001b[0;36m<module>\u001b[0;34m\u001b[0m\n\u001b[1;32m      1\u001b[0m \u001b[0msampler\u001b[0m \u001b[0;34m=\u001b[0m \u001b[0mClusterCentroids\u001b[0m\u001b[0;34m(\u001b[0m\u001b[0;34m)\u001b[0m\u001b[0;34m\u001b[0m\u001b[0;34m\u001b[0m\u001b[0m\n\u001b[0;32m----> 2\u001b[0;31m \u001b[0mX_cc_s\u001b[0m\u001b[0;34m,\u001b[0m \u001b[0my_cc_s\u001b[0m \u001b[0;34m=\u001b[0m \u001b[0msampler\u001b[0m\u001b[0;34m.\u001b[0m\u001b[0mfit_resample\u001b[0m\u001b[0;34m(\u001b[0m\u001b[0mX_s_train\u001b[0m\u001b[0;34m,\u001b[0m \u001b[0my_s_train\u001b[0m\u001b[0;34m)\u001b[0m\u001b[0;34m\u001b[0m\u001b[0;34m\u001b[0m\u001b[0m\n\u001b[0m        \u001b[0;36mglobal\u001b[0m \u001b[0;36mX_cc_s\u001b[0m \u001b[0;34m= \u001b[0;36mundefined\u001b[0m\u001b[0m\u001b[0;34m\n        \u001b[0m\u001b[0;36mglobal\u001b[0m \u001b[0;36my_cc_s\u001b[0m \u001b[0;34m= \u001b[0;36mundefined\u001b[0m\u001b[0m\u001b[0;34m\n        \u001b[0m\u001b[0;36mglobal\u001b[0m \u001b[0;36msampler.fit_resample\u001b[0m \u001b[0;34m= <bound method SamplerMixin.fit_resample of ClusterCentroids()>\u001b[0m\u001b[0;34m\n        \u001b[0m\u001b[0;36mglobal\u001b[0m \u001b[0;36mX_s_train\u001b[0m \u001b[0;34m= \u001b[0;36mundefined\u001b[0m\u001b[0m\u001b[0;34m\n        \u001b[0m\u001b[0;36mglobal\u001b[0m \u001b[0;36my_s_train\u001b[0m \u001b[0;34m= \u001b[0;36mundefined\u001b[0m\u001b[0m\n",
      "\u001b[0;32m~/opt/anaconda3/envs/DataScience/lib/python3.7/site-packages/imblearn/base.py\u001b[0m in \u001b[0;36mfit_resample\u001b[0;34m(self=ClusterCentroids(), X=array([[0.37142857, 0.        , 0.        , ...,....., 0.        , 0.        ,\n        0.        ]]), y=array([0., 0., 0., ..., 0., 0., 0.]))\u001b[0m\n\u001b[1;32m     81\u001b[0m         )\n\u001b[1;32m     82\u001b[0m \u001b[0;34m\u001b[0m\u001b[0m\n\u001b[0;32m---> 83\u001b[0;31m         \u001b[0moutput\u001b[0m \u001b[0;34m=\u001b[0m \u001b[0mself\u001b[0m\u001b[0;34m.\u001b[0m\u001b[0m_fit_resample\u001b[0m\u001b[0;34m(\u001b[0m\u001b[0mX\u001b[0m\u001b[0;34m,\u001b[0m \u001b[0my\u001b[0m\u001b[0;34m)\u001b[0m\u001b[0;34m\u001b[0m\u001b[0;34m\u001b[0m\u001b[0m\n\u001b[0m        \u001b[0;36moutput\u001b[0m \u001b[0;34m= \u001b[0;36mundefined\u001b[0m\u001b[0m\u001b[0;34m\n        \u001b[0m\u001b[0;36mself._fit_resample\u001b[0m \u001b[0;34m= <bound method ClusterCentroids._fit_resample of ClusterCentroids()>\u001b[0m\u001b[0;34m\n        \u001b[0m\u001b[0;36mX\u001b[0m \u001b[0;34m= array([[0.37142857, 0.        , 0.        , ..., 0.        , 0.        ,\n        0.        ],\n       [0.17142857, 0.        , 0.        , ..., 0.        , 0.        ,\n        0.        ],\n       [0.34285714, 0.        , 0.        , ..., 0.        , 0.        ,\n        0.        ],\n       ...,\n       [0.22857143, 0.        , 0.        , ..., 0.        , 0.        ,\n        0.        ],\n       [0.57142857, 0.        , 0.        , ..., 0.        , 0.        ,\n        0.        ],\n       [0.37142857, 0.        , 0.        , ..., 0.        , 0.        ,\n        0.        ]])\u001b[0m\u001b[0;34m\n        \u001b[0m\u001b[0;36my\u001b[0m \u001b[0;34m= array([0., 0., 0., ..., 0., 0., 0.])\u001b[0m\n\u001b[1;32m     84\u001b[0m \u001b[0;34m\u001b[0m\u001b[0m\n\u001b[1;32m     85\u001b[0m         \u001b[0my_\u001b[0m \u001b[0;34m=\u001b[0m \u001b[0mlabel_binarize\u001b[0m\u001b[0;34m(\u001b[0m\u001b[0moutput\u001b[0m\u001b[0;34m[\u001b[0m\u001b[0;36m1\u001b[0m\u001b[0;34m]\u001b[0m\u001b[0;34m,\u001b[0m \u001b[0mnp\u001b[0m\u001b[0;34m.\u001b[0m\u001b[0munique\u001b[0m\u001b[0;34m(\u001b[0m\u001b[0my\u001b[0m\u001b[0;34m)\u001b[0m\u001b[0;34m)\u001b[0m \u001b[0;32mif\u001b[0m \u001b[0mbinarize_y\u001b[0m \u001b[0;32melse\u001b[0m \u001b[0moutput\u001b[0m\u001b[0;34m[\u001b[0m\u001b[0;36m1\u001b[0m\u001b[0;34m]\u001b[0m\u001b[0;34m\u001b[0m\u001b[0;34m\u001b[0m\u001b[0m\n",
      "\u001b[0;32m~/opt/anaconda3/envs/DataScience/lib/python3.7/site-packages/imblearn/under_sampling/_prototype_generation/_cluster_centroids.py\u001b[0m in \u001b[0;36m_fit_resample\u001b[0;34m(self=ClusterCentroids(), X=array([[0.37142857, 0.        , 0.        , ...,....., 0.        , 0.        ,\n        0.        ]]), y=array([0., 0., 0., ..., 0., 0., 0.]))\u001b[0m\n\u001b[1;32m    170\u001b[0m                 \u001b[0mn_samples\u001b[0m \u001b[0;34m=\u001b[0m \u001b[0mself\u001b[0m\u001b[0;34m.\u001b[0m\u001b[0msampling_strategy_\u001b[0m\u001b[0;34m[\u001b[0m\u001b[0mtarget_class\u001b[0m\u001b[0;34m]\u001b[0m\u001b[0;34m\u001b[0m\u001b[0;34m\u001b[0m\u001b[0m\n\u001b[1;32m    171\u001b[0m                 \u001b[0mself\u001b[0m\u001b[0;34m.\u001b[0m\u001b[0mestimator_\u001b[0m\u001b[0;34m.\u001b[0m\u001b[0mset_params\u001b[0m\u001b[0;34m(\u001b[0m\u001b[0;34m**\u001b[0m\u001b[0;34m{\u001b[0m\u001b[0;34m\"n_clusters\"\u001b[0m\u001b[0;34m:\u001b[0m \u001b[0mn_samples\u001b[0m\u001b[0;34m}\u001b[0m\u001b[0;34m)\u001b[0m\u001b[0;34m\u001b[0m\u001b[0;34m\u001b[0m\u001b[0m\n\u001b[0;32m--> 172\u001b[0;31m                 \u001b[0mself\u001b[0m\u001b[0;34m.\u001b[0m\u001b[0mestimator_\u001b[0m\u001b[0;34m.\u001b[0m\u001b[0mfit\u001b[0m\u001b[0;34m(\u001b[0m\u001b[0m_safe_indexing\u001b[0m\u001b[0;34m(\u001b[0m\u001b[0mX\u001b[0m\u001b[0;34m,\u001b[0m \u001b[0mtarget_class_indices\u001b[0m\u001b[0;34m)\u001b[0m\u001b[0;34m)\u001b[0m\u001b[0;34m\u001b[0m\u001b[0;34m\u001b[0m\u001b[0m\n\u001b[0m        \u001b[0;36mself.estimator_.fit\u001b[0m \u001b[0;34m= <bound method KMeans.fit of KMeans(n_clusters=2997)>\u001b[0m\u001b[0;34m\n        \u001b[0m\u001b[0;36mglobal\u001b[0m \u001b[0;36m_safe_indexing\u001b[0m \u001b[0;34m= <function _safe_indexing at 0x113ce1320>\u001b[0m\u001b[0;34m\n        \u001b[0m\u001b[0;36mX\u001b[0m \u001b[0;34m= array([[0.37142857, 0.        , 0.        , ..., 0.        , 0.        ,\n        0.        ],\n       [0.17142857, 0.        , 0.        , ..., 0.        , 0.        ,\n        0.        ],\n       [0.34285714, 0.        , 0.        , ..., 0.        , 0.        ,\n        0.        ],\n       ...,\n       [0.22857143, 0.        , 0.        , ..., 0.        , 0.        ,\n        0.        ],\n       [0.57142857, 0.        , 0.        , ..., 0.        , 0.        ,\n        0.        ],\n       [0.37142857, 0.        , 0.        , ..., 0.        , 0.        ,\n        0.        ]])\u001b[0m\u001b[0;34m\n        \u001b[0m\u001b[0;36mtarget_class_indices\u001b[0m \u001b[0;34m= array([     0,      1,      2, ..., 265639, 265640, 265641])\u001b[0m\n\u001b[1;32m    173\u001b[0m                 X_new, y_new = self._generate_sample(\n\u001b[1;32m    174\u001b[0m                     \u001b[0m_safe_indexing\u001b[0m\u001b[0;34m(\u001b[0m\u001b[0mX\u001b[0m\u001b[0;34m,\u001b[0m \u001b[0mtarget_class_indices\u001b[0m\u001b[0;34m)\u001b[0m\u001b[0;34m,\u001b[0m\u001b[0;34m\u001b[0m\u001b[0;34m\u001b[0m\u001b[0m\n",
      "\u001b[0;32m~/opt/anaconda3/envs/DataScience/lib/python3.7/site-packages/sklearn/cluster/_kmeans.py\u001b[0m in \u001b[0;36mfit\u001b[0;34m(self=KMeans(n_clusters=2997), X=array([[ 0.01502278, -0.01305565, -0.00054446, .... -0.00033125,\n        -0.04315331, -0.00028175]]), y=None, sample_weight=array([1., 1., 1., ..., 1., 1., 1.]))\u001b[0m\n\u001b[1;32m   1016\u001b[0m             centers_init = self._init_centroids(\n\u001b[1;32m   1017\u001b[0m                 \u001b[0mX\u001b[0m\u001b[0;34m,\u001b[0m \u001b[0mx_squared_norms\u001b[0m\u001b[0;34m=\u001b[0m\u001b[0mx_squared_norms\u001b[0m\u001b[0;34m,\u001b[0m \u001b[0minit\u001b[0m\u001b[0;34m=\u001b[0m\u001b[0minit\u001b[0m\u001b[0;34m,\u001b[0m\u001b[0;34m\u001b[0m\u001b[0;34m\u001b[0m\u001b[0m\n\u001b[0;32m-> 1018\u001b[0;31m                 random_state=random_state)\n\u001b[0m        \u001b[0;36mrandom_state\u001b[0m \u001b[0;34m= RandomState(MT19937) at 0x10E0B2C00\u001b[0m\n\u001b[1;32m   1019\u001b[0m             \u001b[0;32mif\u001b[0m \u001b[0mself\u001b[0m\u001b[0;34m.\u001b[0m\u001b[0mverbose\u001b[0m\u001b[0;34m:\u001b[0m\u001b[0;34m\u001b[0m\u001b[0;34m\u001b[0m\u001b[0m\n\u001b[1;32m   1020\u001b[0m                 \u001b[0mprint\u001b[0m\u001b[0;34m(\u001b[0m\u001b[0;34m\"Initialization complete\"\u001b[0m\u001b[0;34m)\u001b[0m\u001b[0;34m\u001b[0m\u001b[0;34m\u001b[0m\u001b[0m\n",
      "\u001b[0;32m~/opt/anaconda3/envs/DataScience/lib/python3.7/site-packages/sklearn/cluster/_kmeans.py\u001b[0m in \u001b[0;36m_init_centroids\u001b[0;34m(self=KMeans(n_clusters=2997), X=array([[ 0.01502278, -0.01305565, -0.00054446, .... -0.00033125,\n        -0.04315331, -0.00028175]]), x_squared_norms=array([0.05371357, 0.236819  , 0.17066846, ..., 0.08774666, 0.10235882,\n       0.06605676]), init='k-means++', random_state=RandomState(MT19937) at 0x10E0B2C00, init_size=None)\u001b[0m\n\u001b[1;32m    934\u001b[0m             centers, _ = _kmeans_plusplus(X, n_clusters,\n\u001b[1;32m    935\u001b[0m                                           \u001b[0mrandom_state\u001b[0m\u001b[0;34m=\u001b[0m\u001b[0mrandom_state\u001b[0m\u001b[0;34m,\u001b[0m\u001b[0;34m\u001b[0m\u001b[0;34m\u001b[0m\u001b[0m\n\u001b[0;32m--> 936\u001b[0;31m                                           x_squared_norms=x_squared_norms)\n\u001b[0m        \u001b[0;36mx_squared_norms\u001b[0m \u001b[0;34m= array([0.05371357, 0.236819  , 0.17066846, ..., 0.08774666, 0.10235882,\n       0.06605676])\u001b[0m\n\u001b[1;32m    937\u001b[0m         \u001b[0;32melif\u001b[0m \u001b[0misinstance\u001b[0m\u001b[0;34m(\u001b[0m\u001b[0minit\u001b[0m\u001b[0;34m,\u001b[0m \u001b[0mstr\u001b[0m\u001b[0;34m)\u001b[0m \u001b[0;32mand\u001b[0m \u001b[0minit\u001b[0m \u001b[0;34m==\u001b[0m \u001b[0;34m'random'\u001b[0m\u001b[0;34m:\u001b[0m\u001b[0;34m\u001b[0m\u001b[0;34m\u001b[0m\u001b[0m\n\u001b[1;32m    938\u001b[0m             \u001b[0mseeds\u001b[0m \u001b[0;34m=\u001b[0m \u001b[0mrandom_state\u001b[0m\u001b[0;34m.\u001b[0m\u001b[0mpermutation\u001b[0m\u001b[0;34m(\u001b[0m\u001b[0mn_samples\u001b[0m\u001b[0;34m)\u001b[0m\u001b[0;34m[\u001b[0m\u001b[0;34m:\u001b[0m\u001b[0mn_clusters\u001b[0m\u001b[0;34m]\u001b[0m\u001b[0;34m\u001b[0m\u001b[0;34m\u001b[0m\u001b[0m\n",
      "\u001b[0;32m~/opt/anaconda3/envs/DataScience/lib/python3.7/site-packages/sklearn/cluster/_kmeans.py\u001b[0m in \u001b[0;36m_kmeans_plusplus\u001b[0;34m(X=array([[ 0.01502278, -0.01305565, -0.00054446, .... -0.00033125,\n        -0.04315331, -0.00028175]]), n_clusters=2997, x_squared_norms=array([0.05371357, 0.236819  , 0.17066846, ..., 0.08774666, 0.10235882,\n       0.06605676]), random_state=RandomState(MT19937) at 0x10E0B2C00, n_local_trials=10)\u001b[0m\n\u001b[1;32m    133\u001b[0m         \u001b[0mcurrent_pot\u001b[0m \u001b[0;34m=\u001b[0m \u001b[0mcandidates_pot\u001b[0m\u001b[0;34m[\u001b[0m\u001b[0mbest_candidate\u001b[0m\u001b[0;34m]\u001b[0m\u001b[0;34m\u001b[0m\u001b[0;34m\u001b[0m\u001b[0m\n\u001b[1;32m    134\u001b[0m         \u001b[0mclosest_dist_sq\u001b[0m \u001b[0;34m=\u001b[0m \u001b[0mdistance_to_candidates\u001b[0m\u001b[0;34m[\u001b[0m\u001b[0mbest_candidate\u001b[0m\u001b[0;34m]\u001b[0m\u001b[0;34m\u001b[0m\u001b[0;34m\u001b[0m\u001b[0m\n\u001b[0;32m--> 135\u001b[0;31m         \u001b[0mbest_candidate\u001b[0m \u001b[0;34m=\u001b[0m \u001b[0mcandidate_ids\u001b[0m\u001b[0;34m[\u001b[0m\u001b[0mbest_candidate\u001b[0m\u001b[0;34m]\u001b[0m\u001b[0;34m\u001b[0m\u001b[0;34m\u001b[0m\u001b[0m\n\u001b[0m        \u001b[0;36mbest_candidate\u001b[0m \u001b[0;34m= 6\u001b[0m\u001b[0;34m\n        \u001b[0m\u001b[0;36mcandidate_ids\u001b[0m \u001b[0;34m= array([142290, 125918, 255129, 183720, 199533, 225230, 243027,  95391,\n        89212, 250684])\u001b[0m\n\u001b[1;32m    136\u001b[0m \u001b[0;34m\u001b[0m\u001b[0m\n\u001b[1;32m    137\u001b[0m         \u001b[0;31m# Permanently add best center candidate found in local tries\u001b[0m\u001b[0;34m\u001b[0m\u001b[0;34m\u001b[0m\u001b[0;34m\u001b[0m\u001b[0m\n",
      "\u001b[0;31mKeyboardInterrupt\u001b[0m: "
     ]
    }
   ],
   "source": [
    "sampler = ClusterCentroids()\n",
    "X_cc_s, y_cc_s = sampler.fit_resample(X_s_train, y_s_train)"
   ]
  },
  {
   "cell_type": "code",
   "execution_count": null,
   "id": "de21d20a",
   "metadata": {},
   "outputs": [],
   "source": [
    "pickle.dump(X_cc, open('../models/X_cc.sav', 'wb'))\n",
    "pickle.dump(y_cc, open('../models/y_cc.sav', 'wb'))"
   ]
  },
  {
   "cell_type": "code",
   "execution_count": null,
   "id": "b572e9b5",
   "metadata": {},
   "outputs": [],
   "source": [
    "pickle.dump(X_cc_s, open('../models/X_cc_s.sav', 'wb'))\n",
    "pickle.dump(y_cc_s, open('../models/y_cc_s.sav', 'wb'))"
   ]
  },
  {
   "cell_type": "code",
   "execution_count": null,
   "id": "66e450ba",
   "metadata": {},
   "outputs": [],
   "source": [
    "X_cc = pickle.load(open('../models/X_cc.sav', 'rb'))\n",
    "y_cc = pickle.load(open('../models/y_cc.sav', 'rb'))"
   ]
  },
  {
   "cell_type": "code",
   "execution_count": null,
   "id": "66e450ba",
   "metadata": {},
   "outputs": [],
   "source": [
    "X_cc_s = pickle.load(open('../models/X_cc_s.sav', 'rb'))\n",
    "y_cc_s = pickle.load(open('../models/y_cc_s.sav', 'rb'))"
   ]
  },
  {
   "cell_type": "code",
   "execution_count": null,
   "id": "21663b43",
   "metadata": {},
   "outputs": [],
   "source": [
    "print('\\nBefore UNDER-sampling\\n', y_s_train.value_counts())\n",
    "print('\\nAfter UNDER-resampling\\n', y_cc_s.value_counts())"
   ]
  },
  {
   "cell_type": "markdown",
   "id": "0e393b73",
   "metadata": {},
   "source": [
    "## 3.1. Logistic regression"
   ]
  },
  {
   "cell_type": "markdown",
   "id": "591151a7",
   "metadata": {},
   "source": [
    "#### For big dataset"
   ]
  },
  {
   "cell_type": "code",
   "execution_count": 107,
   "id": "a8430638",
   "metadata": {},
   "outputs": [],
   "source": [
    "model_LR = LogisticRegression(random_state=42)"
   ]
  },
  {
   "cell_type": "code",
   "execution_count": 108,
   "id": "9d2dab1b",
   "metadata": {},
   "outputs": [],
   "source": [
    "params_LR = {'penalty': ['l1', 'l2'],'C':[0.001,.009,0.01,.09,1,5,10,25]}"
   ]
  },
  {
   "cell_type": "code",
   "execution_count": 109,
   "id": "4c0abdef",
   "metadata": {},
   "outputs": [
    {
     "name": "stdout",
     "output_type": "stream",
     "text": [
      "Fitting 10 folds for each of 16 candidates, totalling 160 fits\n"
     ]
    },
    {
     "name": "stderr",
     "output_type": "stream",
     "text": [
      "/Users/bertagrim/opt/anaconda3/envs/DataScience/lib/python3.7/site-packages/sklearn/model_selection/_search.py:925: UserWarning: One or more of the test scores are non-finite: [       nan 0.98908986        nan 0.9901652         nan 0.99015687\n",
      "        nan 0.99040861        nan 0.99044196        nan 0.99042028\n",
      "        nan 0.99044196        nan 0.99043529]\n",
      "  category=UserWarning\n",
      "\n",
      "/Users/bertagrim/opt/anaconda3/envs/DataScience/lib/python3.7/site-packages/sklearn/linear_model/_logistic.py:765: ConvergenceWarning: lbfgs failed to converge (status=1):\n",
      "STOP: TOTAL NO. of ITERATIONS REACHED LIMIT.\n",
      "\n",
      "Increase the number of iterations (max_iter) or scale the data as shown in:\n",
      "    https://scikit-learn.org/stable/modules/preprocessing.html\n",
      "Please also refer to the documentation for alternative solver options:\n",
      "    https://scikit-learn.org/stable/modules/linear_model.html#logistic-regression\n",
      "  extra_warning_msg=_LOGISTIC_SOLVER_CONVERGENCE_MSG)\n",
      "\n"
     ]
    },
    {
     "data": {
      "text/plain": [
       "GridSearchCV(cv=10, estimator=LogisticRegression(random_state=42), n_jobs=-1,\n",
       "             param_grid={'C': [0.001, 0.009, 0.01, 0.09, 1, 5, 10, 25],\n",
       "                         'penalty': ['l1', 'l2']},\n",
       "             scoring='accuracy', verbose=1)"
      ]
     },
     "execution_count": 109,
     "metadata": {},
     "output_type": "execute_result"
    }
   ],
   "source": [
    "grid_search_cv_LR = GridSearchCV(model_LR, params_LR, \n",
    "                              scoring=\"accuracy\",\n",
    "                              n_jobs=-1, verbose=1, cv=10)\n",
    "\n",
    "grid_search_cv_LR.fit(X_train, y_train)"
   ]
  },
  {
   "cell_type": "code",
   "execution_count": 110,
   "id": "b0c87acf",
   "metadata": {},
   "outputs": [
    {
     "data": {
      "text/plain": [
       "{'C': 1, 'penalty': 'l2'}"
      ]
     },
     "execution_count": 110,
     "metadata": {},
     "output_type": "execute_result"
    }
   ],
   "source": [
    "grid_search_cv_LR.best_params_"
   ]
  },
  {
   "cell_type": "code",
   "execution_count": 119,
   "id": "c54f1aea",
   "metadata": {},
   "outputs": [],
   "source": [
    "log_reg = LogisticRegression(random_state=42, penalty='l2', C=1, max_iter=200)"
   ]
  },
  {
   "cell_type": "code",
   "execution_count": 120,
   "id": "ea8986c1",
   "metadata": {},
   "outputs": [
    {
     "data": {
      "text/plain": [
       "LogisticRegression(C=1, max_iter=200, random_state=42)"
      ]
     },
     "execution_count": 120,
     "metadata": {},
     "output_type": "execute_result"
    }
   ],
   "source": [
    "log_reg.fit(X_train, y_train)\n"
   ]
  },
  {
   "cell_type": "code",
   "execution_count": 121,
   "id": "fe19e8a8",
   "metadata": {},
   "outputs": [],
   "source": [
    "pickle.dump(log_reg, open('../models/log_reg.sav', 'wb'))"
   ]
  },
  {
   "cell_type": "code",
   "execution_count": 122,
   "id": "82b64218",
   "metadata": {},
   "outputs": [],
   "source": [
    "log_reg = pickle.load(open('../models/log_reg.sav', 'rb'))"
   ]
  },
  {
   "cell_type": "code",
   "execution_count": 123,
   "id": "40438704",
   "metadata": {},
   "outputs": [],
   "source": [
    "y_pred_LR = log_reg.predict(X_test)"
   ]
  },
  {
   "cell_type": "markdown",
   "id": "91472959",
   "metadata": {},
   "source": [
    "#### For big dataset with SMOTE"
   ]
  },
  {
   "cell_type": "code",
   "execution_count": 107,
   "id": "a8430638",
   "metadata": {},
   "outputs": [],
   "source": [
    "model_LR_sm = LogisticRegression(random_state=42)"
   ]
  },
  {
   "cell_type": "code",
   "execution_count": 108,
   "id": "9d2dab1b",
   "metadata": {},
   "outputs": [],
   "source": [
    "params_LR = {'penalty': ['l1', 'l2'],'C':[0.001,.009,0.01,.09,1,5,10,25]}"
   ]
  },
  {
   "cell_type": "code",
   "execution_count": 182,
   "id": "4c0abdef",
   "metadata": {},
   "outputs": [
    {
     "name": "stdout",
     "output_type": "stream",
     "text": [
      "Fitting 5 folds for each of 16 candidates, totalling 80 fits\n"
     ]
    },
    {
     "name": "stderr",
     "output_type": "stream",
     "text": [
      "/Users/bertagrim/opt/anaconda3/envs/DataScience/lib/python3.7/site-packages/sklearn/model_selection/_search.py:925: UserWarning: One or more of the test scores are non-finite: [       nan 0.79552308        nan 0.79586273        nan 0.7958543\n",
      "        nan 0.79959377        nan 0.81740285        nan 0.82750879\n",
      "        nan 0.83169579        nan 0.83230175]\n",
      "  category=UserWarning\n",
      "\n",
      "/Users/bertagrim/opt/anaconda3/envs/DataScience/lib/python3.7/site-packages/sklearn/linear_model/_logistic.py:765: ConvergenceWarning: lbfgs failed to converge (status=1):\n",
      "STOP: TOTAL NO. of ITERATIONS REACHED LIMIT.\n",
      "\n",
      "Increase the number of iterations (max_iter) or scale the data as shown in:\n",
      "    https://scikit-learn.org/stable/modules/preprocessing.html\n",
      "Please also refer to the documentation for alternative solver options:\n",
      "    https://scikit-learn.org/stable/modules/linear_model.html#logistic-regression\n",
      "  extra_warning_msg=_LOGISTIC_SOLVER_CONVERGENCE_MSG)\n",
      "\n"
     ]
    },
    {
     "data": {
      "text/plain": [
       "GridSearchCV(cv=5, estimator=LogisticRegression(random_state=42), n_jobs=-1,\n",
       "             param_grid={'C': [0.001, 0.009, 0.01, 0.09, 1, 5, 10, 25],\n",
       "                         'penalty': ['l1', 'l2']},\n",
       "             scoring='accuracy', verbose=1)"
      ]
     },
     "execution_count": 182,
     "metadata": {},
     "output_type": "execute_result"
    }
   ],
   "source": [
    "grid_search_cv_LR_sm = GridSearchCV(model_LR, params_LR, \n",
    "                              scoring=\"accuracy\",\n",
    "                              n_jobs=-1, verbose=1, cv=5)\n",
    "\n",
    "grid_search_cv_LR_sm.fit(X_sm, y_sm)"
   ]
  },
  {
   "cell_type": "code",
   "execution_count": 183,
   "id": "b0c87acf",
   "metadata": {},
   "outputs": [
    {
     "data": {
      "text/plain": [
       "{'C': 25, 'penalty': 'l2'}"
      ]
     },
     "execution_count": 183,
     "metadata": {},
     "output_type": "execute_result"
    }
   ],
   "source": [
    "grid_search_cv_LR_sm.best_params_"
   ]
  },
  {
   "cell_type": "code",
   "execution_count": 184,
   "id": "c54f1aea",
   "metadata": {},
   "outputs": [],
   "source": [
    "log_reg_sm = LogisticRegression(random_state=42, penalty='l2', C=25, max_iter=200)"
   ]
  },
  {
   "cell_type": "code",
   "execution_count": 185,
   "id": "ea8986c1",
   "metadata": {},
   "outputs": [
    {
     "name": "stderr",
     "output_type": "stream",
     "text": [
      "/Users/bertagrim/opt/anaconda3/envs/DataScience/lib/python3.7/site-packages/sklearn/linear_model/_logistic.py:765: ConvergenceWarning: lbfgs failed to converge (status=1):\n",
      "STOP: TOTAL NO. of ITERATIONS REACHED LIMIT.\n",
      "\n",
      "Increase the number of iterations (max_iter) or scale the data as shown in:\n",
      "    https://scikit-learn.org/stable/modules/preprocessing.html\n",
      "Please also refer to the documentation for alternative solver options:\n",
      "    https://scikit-learn.org/stable/modules/linear_model.html#logistic-regression\n",
      "  extra_warning_msg=_LOGISTIC_SOLVER_CONVERGENCE_MSG)\n",
      "\n"
     ]
    },
    {
     "data": {
      "text/plain": [
       "LogisticRegression(C=25, max_iter=200, random_state=42)"
      ]
     },
     "execution_count": 185,
     "metadata": {},
     "output_type": "execute_result"
    }
   ],
   "source": [
    "log_reg_sm.fit(X_train, y_train)\n"
   ]
  },
  {
   "cell_type": "code",
   "execution_count": 186,
   "id": "a8d83512",
   "metadata": {},
   "outputs": [],
   "source": [
    "pickle.dump(log_reg_sm, open('../models/log_reg_sm.sav', 'wb'))"
   ]
  },
  {
   "cell_type": "code",
   "execution_count": 187,
   "id": "7d6ab418",
   "metadata": {},
   "outputs": [],
   "source": [
    "log_reg_sm = pickle.load(open('../models/log_reg_sm.sav', 'rb'))"
   ]
  },
  {
   "cell_type": "code",
   "execution_count": 189,
   "id": "7205a078",
   "metadata": {},
   "outputs": [],
   "source": [
    "y_pred_LR_sm = log_reg_sm.predict(X_test)"
   ]
  },
  {
   "cell_type": "code",
   "execution_count": 117,
   "id": "4c0abdef",
   "metadata": {
    "scrolled": true
   },
   "outputs": [
    {
     "name": "stdout",
     "output_type": "stream",
     "text": [
      "Fitting 10 folds for each of 16 candidates, totalling 160 fits\n"
     ]
    },
    {
     "name": "stderr",
     "output_type": "stream",
     "text": [
      "/Users/bertagrim/opt/anaconda3/envs/DataScience/lib/python3.7/site-packages/sklearn/model_selection/_search.py:925: UserWarning: One or more of the test scores are non-finite: [       nan 0.9897606         nan 0.9915892         nan 0.99159687\n",
      "        nan 0.99233674        nan 0.99232907        nan 0.99230991\n",
      "        nan 0.99230224        nan 0.99228691]\n",
      "  category=UserWarning\n",
      "\n"
     ]
    },
    {
     "data": {
      "text/plain": [
       "GridSearchCV(cv=10, estimator=LogisticRegression(random_state=42), n_jobs=-1,\n",
       "             param_grid={'C': [0.001, 0.009, 0.01, 0.09, 1, 5, 10, 25],\n",
       "                         'penalty': ['l1', 'l2']},\n",
       "             scoring='accuracy', verbose=1)"
      ]
     },
     "execution_count": 117,
     "metadata": {},
     "output_type": "execute_result"
    }
   ],
   "source": [
    "grid_search_cv_LR_s = GridSearchCV(model_LR, params_LR, \n",
    "                              scoring=\"accuracy\",\n",
    "                              n_jobs=-1, verbose=1, cv=10)\n",
    "\n",
    "grid_search_cv_LR_s.fit(X_s, y_s)"
   ]
  },
  {
   "cell_type": "code",
   "execution_count": 118,
   "id": "b0c87acf",
   "metadata": {
    "scrolled": true
   },
   "outputs": [
    {
     "data": {
      "text/plain": [
       "{'C': 0.09, 'penalty': 'l2'}"
      ]
     },
     "execution_count": 118,
     "metadata": {},
     "output_type": "execute_result"
    }
   ],
   "source": [
    "grid_search_cv_LR_s_.best_params_"
   ]
  },
  {
   "cell_type": "code",
   "execution_count": 135,
   "id": "c54f1aea",
   "metadata": {},
   "outputs": [],
   "source": [
    "log_reg_s = LogisticRegression(random_state=42, penalty='l2', C=0.09, max_iter=200)"
   ]
  },
  {
   "cell_type": "code",
   "execution_count": 136,
   "id": "ea8986c1",
   "metadata": {},
   "outputs": [
    {
     "data": {
      "text/plain": [
       "LogisticRegression(C=0.09, max_iter=200, random_state=42)"
      ]
     },
     "execution_count": 136,
     "metadata": {},
     "output_type": "execute_result"
    }
   ],
   "source": [
    "log_reg_s.fit(X_s, y_s)"
   ]
  },
  {
   "cell_type": "code",
   "execution_count": 137,
   "id": "ffbabe12",
   "metadata": {},
   "outputs": [],
   "source": [
    "pickle.dump(log_reg_s, open('../models/log_reg_s.sav', 'wb'))"
   ]
  },
  {
   "cell_type": "code",
   "execution_count": 138,
   "id": "4558560c",
   "metadata": {},
   "outputs": [],
   "source": [
    "log_reg_s = pickle.load(open('../models/log_reg_s.sav', 'rb'))"
   ]
  },
  {
   "cell_type": "code",
   "execution_count": 139,
   "id": "335d9211",
   "metadata": {},
   "outputs": [],
   "source": [
    "y_pred_LR_s = log_reg_s.predict(X_s_test)"
   ]
  },
  {
   "cell_type": "markdown",
   "id": "faf0e1bf",
   "metadata": {},
   "source": [
    "#### For small dataset with SMOTE"
   ]
  },
  {
   "cell_type": "code",
   "execution_count": null,
   "id": "4c0abdef",
   "metadata": {},
   "outputs": [
    {
     "name": "stdout",
     "output_type": "stream",
     "text": [
      "Fitting 5 folds for each of 16 candidates, totalling 80 fits\n"
     ]
    }
   ],
   "source": [
    "grid_search_cv_LR_s_sm = GridSearchCV(model_LR, params_LR, \n",
    "                              scoring=\"accuracy\",\n",
    "                              n_jobs=-1, verbose=1, cv=5)\n",
    "\n",
    "grid_search_cv_LR_s_sm.fit(X_sm_s, y_sm_s)"
   ]
  },
  {
   "cell_type": "code",
   "execution_count": 118,
   "id": "b0c87acf",
   "metadata": {},
   "outputs": [
    {
     "data": {
      "text/plain": [
       "{'C': 0.09, 'penalty': 'l2'}"
      ]
     },
     "execution_count": 118,
     "metadata": {},
     "output_type": "execute_result"
    }
   ],
   "source": [
    "grid_search_cv_LR_s_sm.best_params_"
   ]
  },
  {
   "cell_type": "code",
   "execution_count": 135,
   "id": "c54f1aea",
   "metadata": {},
   "outputs": [],
   "source": [
    "log_reg_s_sm = LogisticRegression(random_state=42, penalty='l2', C=0.09, max_iter=200)"
   ]
  },
  {
   "cell_type": "code",
   "execution_count": 136,
   "id": "ea8986c1",
   "metadata": {},
   "outputs": [
    {
     "data": {
      "text/plain": [
       "LogisticRegression(C=0.09, max_iter=200, random_state=42)"
      ]
     },
     "execution_count": 136,
     "metadata": {},
     "output_type": "execute_result"
    }
   ],
   "source": [
    "log_reg_s_sm.fit(X_sm_s, y_sm_s)"
   ]
  },
  {
   "cell_type": "code",
   "execution_count": 137,
   "id": "902be308",
   "metadata": {},
   "outputs": [],
   "source": [
    "pickle.dump(log_reg_s_sm, open('../models/log_reg_s_sm.sav', 'wb'))"
   ]
  },
  {
   "cell_type": "code",
   "execution_count": 138,
   "id": "c06071d0",
   "metadata": {},
   "outputs": [],
   "source": [
    "log_reg_s_sm = pickle.load(open('../models/log_reg_s_sm.sav', 'rb'))"
   ]
  },
  {
   "cell_type": "code",
   "execution_count": 139,
   "id": "39101d58",
   "metadata": {},
   "outputs": [],
   "source": [
    "y_pred_LR_s_sm = log_reg_s_sm.predict(X_sm_s)"
   ]
  },
  {
   "cell_type": "markdown",
   "id": "9126ae2e",
   "metadata": {},
   "source": [
    "#### For small dataset"
   ]
  },
  {
   "cell_type": "markdown",
   "id": "818063ca",
   "metadata": {},
   "source": [
    "#### Metrics"
   ]
  },
  {
   "cell_type": "code",
   "execution_count": 140,
   "id": "361f9891",
   "metadata": {
    "scrolled": true
   },
   "outputs": [
    {
     "name": "stdout",
     "output_type": "stream",
     "text": [
      "METRICS FOR LOG REG (big):\n",
      "Accuracy Score : 0.9902397087084049\n",
      "Precision Score : 0.6792223572296476\n",
      "Recall Score : 0.199358059914408\n",
      "F1 Score : 0.30824372759856633\n",
      "\n",
      "METRICS FOR LOG REG (small):\n",
      "Accuracy Score : 0.9925130819804105\n",
      "Precision Score : 0.86810551558753\n",
      "Recall Score : 0.31643356643356646\n",
      "F1 Score : 0.4638052530429212\n"
     ]
    }
   ],
   "source": [
    "print('METRICS FOR LOG REG (big):')\n",
    "print('Accuracy Score : ' + str(accuracy_score(y_test,y_pred_LR)))\n",
    "print('Precision Score : ' + str(precision_score(y_test,y_pred_LR)))\n",
    "print('Recall Score : ' + str(recall_score(y_test,y_pred_LR)))\n",
    "print('F1 Score : ' + str(f1_score(y_test,y_pred_LR)))\n",
    "print()\n",
    "print('METRICS FOR LOG REG (small):')\n",
    "print('Accuracy Score : ' + str(accuracy_score(y_s_test,y_pred_LR_s)))\n",
    "print('Precision Score : ' + str(precision_score(y_s_test,y_pred_LR_s)))\n",
    "print('Recall Score : ' + str(recall_score(y_s_test,y_pred_LR_s)))\n",
    "print('F1 Score : ' + str(f1_score(y_s_test,y_pred_LR_s)))"
   ]
  },
  {
   "cell_type": "code",
   "execution_count": 192,
   "id": "05c136d1",
   "metadata": {},
   "outputs": [
    {
     "name": "stdout",
     "output_type": "stream",
     "text": [
      "METRICS FOR LOG REG with SMOTE (big):\n",
      "Accuracy Score : 0.9901930273630486\n",
      "Precision Score : 0.6686531585220501\n",
      "Recall Score : 0.20007132667617689\n",
      "F1 Score : 0.3079879220422729\n"
     ]
    }
   ],
   "source": [
    "print('METRICS FOR LOG REG with SMOTE (big):')\n",
    "print('Accuracy Score : ' + str(accuracy_score(y_test,y_pred_LR_sm)))\n",
    "print('Precision Score : ' + str(precision_score(y_test,y_pred_LR_sm)))\n",
    "print('Recall Score : ' + str(recall_score(y_test,y_pred_LR_sm)))\n",
    "print('F1 Score : ' + str(f1_score(y_test,y_pred_LR_sm)))"
   ]
  },
  {
   "cell_type": "code",
   "execution_count": null,
   "id": "fbdc39d1",
   "metadata": {},
   "outputs": [],
   "source": [
    "print()\n",
    "print('METRICS FOR LOG REG with SMOTE (small):')\n",
    "print('Accuracy Score : ' + str(accuracy_score(y_s_test,y_pred_LR_s_sm)))\n",
    "print('Precision Score : ' + str(precision_score(y_s_test,y_pred_LR_s_sm)))\n",
    "print('Recall Score : ' + str(recall_score(y_s_test,y_pred_LR_s_sm)))\n",
    "print('F1 Score : ' + str(f1_score(y_s_test,y_pred_LR_s_sm)))"
   ]
  },
  {
   "cell_type": "code",
   "execution_count": 141,
   "id": "1461288b",
   "metadata": {},
   "outputs": [
    {
     "name": "stdout",
     "output_type": "stream",
     "text": [
      "Confusion Matrix (big): \n",
      "[[253994    264]\n",
      " [  2245    559]]\n",
      "Confusion Matrix (small): \n",
      "[[110596     55]\n",
      " [   782    362]]\n"
     ]
    }
   ],
   "source": [
    "print('Confusion Matrix (big): \\n' + str(confusion_matrix(y_test,y_pred_LR)))\n",
    "print('Confusion Matrix (small): \\n' + str(confusion_matrix(y_s_test,y_pred_LR_s)))"
   ]
  },
  {
   "cell_type": "code",
   "execution_count": null,
   "id": "dafd5ddd",
   "metadata": {},
   "outputs": [],
   "source": [
    "print('Confusion Matrix with SMOTE (big): \\n' + str(confusion_matrix(y_test,y_pred_LR_sm)))\n",
    "print('Confusion Matrix with SMOTE (small): \\n' + str(confusion_matrix(y_s_test,y_pred_LR_s_sm)))"
   ]
  },
  {
   "cell_type": "markdown",
   "id": "88e6e1f2",
   "metadata": {},
   "source": [
    "#### Explainability"
   ]
  },
  {
   "cell_type": "code",
   "execution_count": null,
   "id": "f15b7743",
   "metadata": {},
   "outputs": [],
   "source": [
    "#another way of doing logistic regression with cv (I think the same thing does not exist for random forest):\n",
    "log_reg_cv = LogisticRegressionCV(random_state=42)\n",
    "\n",
    "log_reg_cv.fit(X_train, y_train)\n",
    "\n",
    "y_pred_logcv = log_reg_cv.predict(X_test)"
   ]
  },
  {
   "cell_type": "code",
   "execution_count": 163,
   "id": "70f4690b",
   "metadata": {},
   "outputs": [
    {
     "data": {
      "image/png": "[encoded data removed]",
      "text/plain": [
       "<Figure size 864x576 with 1 Axes>"
      ]
     },
     "metadata": {
      "needs_background": "light"
     },
     "output_type": "display_data"
    }
   ],
   "source": [
    "plt.figure(figsize=(12,8))\n",
    "plt.barh(X.columns,log_reg.coef_[0]) #potser log_ref_cv?\n",
    "plt.title(\"Coefficient values\")\n",
    "plt.show()"
   ]
  },
  {
   "cell_type": "code",
   "execution_count": 164,
   "id": "b4dda71f",
   "metadata": {},
   "outputs": [
    {
     "data": {
      "image/png": "[encoded data removed]",
      "text/plain": [
       "<Figure size 864x576 with 1 Axes>"
      ]
     },
     "metadata": {
      "needs_background": "light"
     },
     "output_type": "display_data"
    }
   ],
   "source": [
    "plt.figure(figsize=(12,8))\n",
    "plt.barh(X_s.columns,log_reg_s.coef_[0]) #potser log_ref_cv?\n",
    "plt.title(\"Coefficient values\")\n",
    "plt.show()"
   ]
  },
  {
   "cell_type": "code",
   "execution_count": null,
   "id": "c03e17b7",
   "metadata": {},
   "outputs": [],
   "source": [
    "y_proba = log_reg.predict_proba(X_test)#check what this is"
   ]
  },
  {
   "cell_type": "code",
   "execution_count": null,
   "id": "4d6334fc",
   "metadata": {},
   "outputs": [],
   "source": [
    "plt.figure(figsize=(12,8))\n",
    "plt.plot(np.sort(y_proba[:,0]))\n",
    "plt.axhline(0.5, c='r')\n",
    "plt.show()"
   ]
  },
  {
   "cell_type": "markdown",
   "id": "e9f1f54b",
   "metadata": {},
   "source": [
    "### 3.2. Random forest"
   ]
  },
  {
   "cell_type": "markdown",
   "id": "92be87f4",
   "metadata": {},
   "source": [
    "### Big"
   ]
  },
  {
   "cell_type": "code",
   "execution_count": null,
   "id": "75c66369",
   "metadata": {},
   "outputs": [],
   "source": [
    "params_RF = {'n_estimators': [50, 100, 200],\n",
    "               'max_features': ['auto', 'sqrt'],\n",
    "               'max_depth': [50, 100],\n",
    "               #'min_samples_split': [2, 5, 10],\n",
    "               #'min_samples_leaf': [1, 2, 4],\n",
    "               'bootstrap': [True, False]}"
   ]
  },
  {
   "cell_type": "code",
   "execution_count": null,
   "id": "26fa4eac",
   "metadata": {},
   "outputs": [],
   "source": [
    "grid_search_cv_RF = GridSearchCV(model_RF, params_RF, \n",
    "                              scoring=\"f1\",\n",
    "                              n_jobs=-1, verbose=1, cv=5)\n",
    "\n",
    "grid_search_cv_RF.fit(X_train, y_train)"
   ]
  },
  {
   "cell_type": "code",
   "execution_count": null,
   "id": "9aa444ff",
   "metadata": {},
   "outputs": [],
   "source": [
    "grid_search_cv_RF.best_params_"
   ]
  },
  {
   "cell_type": "code",
   "execution_count": 146,
   "id": "9b15a166",
   "metadata": {},
   "outputs": [],
   "source": [
    "rand_forest = RandomForestClassifier(random_state=42)"
   ]
  },
  {
   "cell_type": "code",
   "execution_count": 147,
   "id": "d50ac779",
   "metadata": {},
   "outputs": [
    {
     "data": {
      "text/plain": [
       "RandomForestClassifier(random_state=42)"
      ]
     },
     "execution_count": 147,
     "metadata": {},
     "output_type": "execute_result"
    }
   ],
   "source": [
    "rand_forest.fit(X_train, y_train)"
   ]
  },
  {
   "cell_type": "code",
   "execution_count": 148,
   "id": "dea2d7c9",
   "metadata": {},
   "outputs": [],
   "source": [
    "pickle.dump(rand_forest, open('../models/rand_forest.sav', 'wb'))"
   ]
  },
  {
   "cell_type": "code",
   "execution_count": 149,
   "id": "dd3a4b14",
   "metadata": {},
   "outputs": [],
   "source": [
    "rand_forest = pickle.load(open('../models/rand_forest.sav', 'rb'))"
   ]
  },
  {
   "cell_type": "code",
   "execution_count": 150,
   "id": "335a38d8",
   "metadata": {},
   "outputs": [],
   "source": [
    "y_pred_RF = rand_forest.predict(X_test)"
   ]
  },
  {
   "cell_type": "markdown",
   "id": "15e1b904",
   "metadata": {},
   "source": [
    "### Random Forest with smote (big)"
   ]
  },
  {
   "cell_type": "code",
   "execution_count": 193,
   "id": "9b15a166",
   "metadata": {},
   "outputs": [],
   "source": [
    "rand_forest_sm = RandomForestClassifier(random_state=42)"
   ]
  },
  {
   "cell_type": "code",
   "execution_count": 194,
   "id": "d50ac779",
   "metadata": {},
   "outputs": [
    {
     "data": {
      "text/plain": [
       "RandomForestClassifier(random_state=42)"
      ]
     },
     "execution_count": 194,
     "metadata": {},
     "output_type": "execute_result"
    }
   ],
   "source": [
    "rand_forest_sm.fit(X_sm, y_sm)"
   ]
  },
  {
   "cell_type": "code",
   "execution_count": 195,
   "id": "dea2d7c9",
   "metadata": {},
   "outputs": [],
   "source": [
    "pickle.dump(rand_forest_sm, open('../models/rand_forest_sm.sav', 'wb'))"
   ]
  },
  {
   "cell_type": "code",
   "execution_count": 196,
   "id": "dd3a4b14",
   "metadata": {},
   "outputs": [],
   "source": [
    "rand_forest_sm = pickle.load(open('../models/rand_forest_sm.sav', 'rb'))"
   ]
  },
  {
   "cell_type": "code",
   "execution_count": 197,
   "id": "335a38d8",
   "metadata": {},
   "outputs": [],
   "source": [
    "y_pred_RF_sm = rand_forest_sm.predict(X_test)"
   ]
  },
  {
   "cell_type": "markdown",
   "id": "bd932a3a",
   "metadata": {},
   "source": [
    "### Small"
   ]
  },
  {
   "cell_type": "code",
   "execution_count": 151,
   "id": "75c66369",
   "metadata": {},
   "outputs": [],
   "source": [
    "params_RF = {'n_estimators': [50, 100, 200],\n",
    "               'max_features': ['auto', 'sqrt'],\n",
    "               'max_depth': [50, 100],\n",
    "               #'min_samples_split': [2, 5, 10],\n",
    "               #'min_samples_leaf': [1, 2, 4],\n",
    "               'bootstrap': [True, False]}"
   ]
  },
  {
   "cell_type": "code",
   "execution_count": null,
   "id": "9b15a166",
   "metadata": {},
   "outputs": [],
   "source": [
    "model_RF = RandomForestClassifier(random_state=42)"
   ]
  },
  {
   "cell_type": "code",
   "execution_count": 152,
   "id": "26fa4eac",
   "metadata": {},
   "outputs": [
    {
     "name": "stdout",
     "output_type": "stream",
     "text": [
      "Fitting 5 folds for each of 24 candidates, totalling 120 fits\n"
     ]
    },
    {
     "name": "stderr",
     "output_type": "stream",
     "text": [
      "\n",
      "KeyboardInterrupt\n",
      "\n"
     ]
    }
   ],
   "source": [
    "grid_search_cv_RF_s = GridSearchCV(model_RF, params_RF, \n",
    "                              scoring=\"f1\",\n",
    "                              n_jobs=-1, verbose=1, cv=5)\n",
    "\n",
    "grid_search_cv_RF_s.fit(X_s_train, y_s_train)"
   ]
  },
  {
   "cell_type": "code",
   "execution_count": null,
   "id": "9aa444ff",
   "metadata": {},
   "outputs": [],
   "source": [
    "grid_search_cv_RF_s.best_params_"
   ]
  },
  {
   "cell_type": "code",
   "execution_count": 153,
   "id": "0725329e",
   "metadata": {},
   "outputs": [],
   "source": [
    "rand_forest_s = RandomForestClassifier(random_state=42)"
   ]
  },
  {
   "cell_type": "code",
   "execution_count": 154,
   "id": "d50ac779",
   "metadata": {},
   "outputs": [
    {
     "data": {
      "text/plain": [
       "RandomForestClassifier(random_state=42)"
      ]
     },
     "execution_count": 154,
     "metadata": {},
     "output_type": "execute_result"
    }
   ],
   "source": [
    "rand_forest_s.fit(X_s_train, y_s_train)"
   ]
  },
  {
   "cell_type": "code",
   "execution_count": 155,
   "id": "1644565a",
   "metadata": {},
   "outputs": [],
   "source": [
    "pickle.dump(rand_forest_s, open('../models/rand_forest_s.sav', 'wb'))"
   ]
  },
  {
   "cell_type": "code",
   "execution_count": 156,
   "id": "4ed409ef",
   "metadata": {},
   "outputs": [],
   "source": [
    "rand_forest_s = pickle.load(open('../models/rand_forest_s.sav', 'rb'))"
   ]
  },
  {
   "cell_type": "code",
   "execution_count": 157,
   "id": "335a38d8",
   "metadata": {},
   "outputs": [],
   "source": [
    "y_pred_RF_s = rand_forest_s.predict(X_s_test)"
   ]
  },
  {
   "cell_type": "markdown",
   "id": "37edf8ea",
   "metadata": {},
   "source": [
    "### Small with SMOTE"
   ]
  },
  {
   "cell_type": "code",
   "execution_count": 198,
   "id": "0725329e",
   "metadata": {},
   "outputs": [],
   "source": [
    "rand_forest_s_sm = RandomForestClassifier(random_state=42)"
   ]
  },
  {
   "cell_type": "code",
   "execution_count": 199,
   "id": "d50ac779",
   "metadata": {},
   "outputs": [
    {
     "data": {
      "text/plain": [
       "RandomForestClassifier(random_state=42)"
      ]
     },
     "execution_count": 199,
     "metadata": {},
     "output_type": "execute_result"
    }
   ],
   "source": [
    "rand_forest_s_sm.fit(X_sm_s, y_sm_s)"
   ]
  },
  {
   "cell_type": "code",
   "execution_count": 200,
   "id": "1644565a",
   "metadata": {},
   "outputs": [],
   "source": [
    "pickle.dump(rand_forest_s_sm, open('../models/rand_forest_s_sm.sav', 'wb'))"
   ]
  },
  {
   "cell_type": "code",
   "execution_count": 201,
   "id": "4ed409ef",
   "metadata": {},
   "outputs": [],
   "source": [
    "rand_forest_s_sm = pickle.load(open('../models/rand_forest_s_sm.sav', 'rb'))"
   ]
  },
  {
   "cell_type": "code",
   "execution_count": 202,
   "id": "335a38d8",
   "metadata": {},
   "outputs": [],
   "source": [
    "y_pred_RF_s_sm = rand_forest_s_sm.predict(X_s_test)"
   ]
  },
  {
   "cell_type": "markdown",
   "id": "34684215",
   "metadata": {},
   "source": [
    "#### Metrics"
   ]
  },
  {
   "cell_type": "code",
   "execution_count": 158,
   "id": "47555aa6",
   "metadata": {},
   "outputs": [
    {
     "name": "stdout",
     "output_type": "stream",
     "text": [
      "Random forest (big):\n",
      "Accuracy Score : 0.9905664781258996\n",
      "Precision Score : 0.710789766407119\n",
      "Recall Score : 0.22788873038516405\n",
      "F1 Score : 0.34512557385903325\n",
      "\n",
      "Random forest (small):\n",
      "Accuracy Score : 0.9926293662507267\n",
      "Precision Score : 0.810077519379845\n",
      "Recall Score : 0.36538461538461536\n",
      "F1 Score : 0.5036144578313253\n"
     ]
    }
   ],
   "source": [
    "print('Random forest (big):')\n",
    "print('Accuracy Score : ' + str(accuracy_score(y_test,y_pred_RF)))\n",
    "print('Precision Score : ' + str(precision_score(y_test,y_pred_RF)))\n",
    "print('Recall Score : ' + str(recall_score(y_test,y_pred_RF)))\n",
    "print('F1 Score : ' + str(f1_score(y_test,y_pred_RF)))\n",
    "print()\n",
    "print('Random forest (small):')\n",
    "print('Accuracy Score : ' + str(accuracy_score(y_s_test,y_pred_RF_s)))\n",
    "print('Precision Score : ' + str(precision_score(y_s_test,y_pred_RF_s)))\n",
    "print('Recall Score : ' + str(recall_score(y_s_test,y_pred_RF_s)))\n",
    "print('F1 Score : ' + str(f1_score(y_s_test,y_pred_RF_s)))"
   ]
  },
  {
   "cell_type": "code",
   "execution_count": 203,
   "id": "0509cfba",
   "metadata": {},
   "outputs": [
    {
     "name": "stdout",
     "output_type": "stream",
     "text": [
      "Random forest with SMOTE (big):\n",
      "Accuracy Score : 0.9774723607534369\n",
      "Precision Score : 0.24102653025836657\n",
      "Recall Score : 0.4957203994293866\n",
      "F1 Score : 0.3243495508108739\n",
      "\n",
      "Random forest with SMOTE (small):\n",
      "Accuracy Score : 0.9831656156357619\n",
      "Precision Score : 0.3185840707964602\n",
      "Recall Score : 0.5664335664335665\n",
      "F1 Score : 0.40780365009439895\n"
     ]
    }
   ],
   "source": [
    "print('Random forest with SMOTE (big):')\n",
    "print('Accuracy Score : ' + str(accuracy_score(y_test,y_pred_RF_sm)))\n",
    "print('Precision Score : ' + str(precision_score(y_test,y_pred_RF_sm)))\n",
    "print('Recall Score : ' + str(recall_score(y_test,y_pred_RF_sm)))\n",
    "print('F1 Score : ' + str(f1_score(y_test,y_pred_RF_sm)))\n",
    "print()\n",
    "print('Random forest with SMOTE (small):')\n",
    "print('Accuracy Score : ' + str(accuracy_score(y_s_test,y_pred_RF_s_sm)))\n",
    "print('Precision Score : ' + str(precision_score(y_s_test,y_pred_RF_s_sm)))\n",
    "print('Recall Score : ' + str(recall_score(y_s_test,y_pred_RF_s_sm)))\n",
    "print('F1 Score : ' + str(f1_score(y_s_test,y_pred_RF_s_sm)))"
   ]
  },
  {
   "cell_type": "code",
   "execution_count": 159,
   "id": "dab37572",
   "metadata": {},
   "outputs": [
    {
     "name": "stdout",
     "output_type": "stream",
     "text": [
      "Confusion Matrix (big): \n",
      "[[253998    260]\n",
      " [  2165    639]]\n",
      "Confusion Matrix (small): \n",
      "[[110553     98]\n",
      " [   726    418]]\n"
     ]
    }
   ],
   "source": [
    "print('Confusion Matrix (big): \\n' + str(confusion_matrix(y_test,y_pred_RF)))\n",
    "print('Confusion Matrix (small): \\n' + str(confusion_matrix(y_s_test,y_pred_RF_s)))"
   ]
  },
  {
   "cell_type": "markdown",
   "id": "39871b27",
   "metadata": {},
   "source": [
    "#### Explainability"
   ]
  },
  {
   "cell_type": "code",
   "execution_count": 165,
   "id": "e0f02acc",
   "metadata": {},
   "outputs": [
    {
     "name": "stdout",
     "output_type": "stream",
     "text": [
      "[('length', 0.0808654050221253), ('is_named_entity', 0.04373034609175702), ('is_named_author', 0.09474175918115002), ('is_in_toc', 0.017515542142916278), ('freq', 0.18468346741927696), ('tfidf', 0.11878224611479467), ('importance', 0.23095261935252037), ('position_in_context', 0.19267036583116856), ('is_a_textbook_word', 0.002001139957727225), ('POS_ADJ', 0.0030639475681933383), ('POS_ADP', 0.0005766296400120938), ('POS_ADV', 0.0014118600727802948), ('POS_AUX', 0.0002349645004500371), ('POS_CCONJ', 0.00048437363733495274), ('POS_CHUNK', 0.005226055017861377), ('POS_DET', 0.00027999769951930417), ('POS_INTJ', 0.00019386566455506122), ('POS_NOUN', 0.008226777442087373), ('POS_NUM', 0.0006363634127291801), ('POS_PART', 3.2736778047116935e-09), ('POS_PRON', 0.0001384447763117179), ('POS_PROPN', 0.009688666875876979), ('POS_PUNCT', 6.68833183684519e-05), ('POS_SCONJ', 9.796370720527263e-05), ('POS_SYM', 4.420065399760329e-05), ('POS_VERB', 0.00327574755621989), ('POS_X', 0.00041036406938304144)]\n"
     ]
    }
   ],
   "source": [
    "importance = rand_forest.feature_importances_\n",
    "\n",
    "list_of_importance=zip(X.columns.tolist(), importance.tolist())\n",
    "\n",
    "print(list(list_of_importance))"
   ]
  },
  {
   "cell_type": "code",
   "execution_count": 208,
   "id": "9821a211",
   "metadata": {},
   "outputs": [
    {
     "name": "stdout",
     "output_type": "stream",
     "text": [
      "[('length', 0.14293241085967592), ('is_named_entity', 0.037498507865834016), ('is_named_author', 0.021964322289853434), ('is_in_toc', 0.005381563606286845), ('freq', 0.3682960009125955), ('tfidf', 0.10426430163740315), ('importance', 0.06663307494504839), ('position_in_context', 0.0877376605599764), ('is_a_textbook_word', 0.0007519239844294229), ('POS_ADJ', 0.0034251059701786678), ('POS_ADP', 0.000300273120922381), ('POS_ADV', 0.003623418173374761), ('POS_AUX', 0.00010063059723647133), ('POS_CCONJ', 0.00015775080299029498), ('POS_CHUNK', 0.09399474122663974), ('POS_DET', 0.0001334219574349603), ('POS_INTJ', 0.00016158867422632885), ('POS_NOUN', 0.03417602563168463), ('POS_NUM', 0.00017758421740735433), ('POS_PART', 4.6681800430795196e-08), ('POS_PRON', 0.00016164117753917227), ('POS_PROPN', 0.018101510597467715), ('POS_PUNCT', 1.5388088139410666e-05), ('POS_SCONJ', 0.00022615778359647172), ('POS_SYM', 6.997537142007054e-06), ('POS_VERB', 0.009591391508003207), ('POS_X', 0.0001865595931128454)]\n"
     ]
    }
   ],
   "source": [
    "importance_sm = rand_forest_sm.feature_importances_\n",
    "\n",
    "list_of_importance_sm=zip(X_sm.columns.tolist(), importance_sm.tolist())\n",
    "\n",
    "print(list(list_of_importance_sm))"
   ]
  },
  {
   "cell_type": "code",
   "execution_count": 167,
   "id": "e0f02acc",
   "metadata": {},
   "outputs": [
    {
     "name": "stdout",
     "output_type": "stream",
     "text": [
      "[('length', 0.08370992624573023), ('is_named_entity', 0.04987399562853203), ('is_named_author', 0.18378448019516164), ('is_in_toc', 0.012636717307963561), ('freq', 0.14459397700259854), ('tfidf', 0.11574415976837889), ('importance', 0.19803243056587963), ('position_in_context', 0.16872828087497094), ('is_a_textbook_word', 0.002168178470303392), ('POS_ADJ', 0.0033253045552102), ('POS_ADP', 0.0005920049546194177), ('POS_ADV', 0.0016220158123774148), ('POS_AUX', 0.00047769876862856567), ('POS_CCONJ', 0.00028296727225317445), ('POS_CHUNK', 0.004976167677505434), ('POS_DET', 0.0003550806545492421), ('POS_INTJ', 7.242826322037024e-05), ('POS_NOUN', 0.00900770518625953), ('POS_NUM', 0.0005158620472411164), ('POS_PART', 1.0036655494670628e-07), ('POS_PRON', 0.0002861899587838813), ('POS_PROPN', 0.01483795675938663), ('POS_PUNCT', 0.00021768071012364778), ('POS_SCONJ', 0.0002661367019507186), ('POS_SYM', 0.00011737775410472614), ('POS_VERB', 0.003004540819866405), ('POS_X', 0.0007706356778457328)]\n"
     ]
    }
   ],
   "source": [
    "importance_s = rand_forest_s.feature_importances_\n",
    "\n",
    "list_of_importance_s=zip(X_s.columns.tolist(), importance_s.tolist())\n",
    "\n",
    "print(list(list_of_importance_s))"
   ]
  },
  {
   "cell_type": "code",
   "execution_count": 205,
   "id": "92200d43",
   "metadata": {},
   "outputs": [
    {
     "name": "stdout",
     "output_type": "stream",
     "text": [
      "[('length', 0.13940020680399878), ('is_named_entity', 0.046968394413055344), ('is_named_author', 0.04384513336519245), ('is_in_toc', 0.004271537601972056), ('freq', 0.3507933778673471), ('tfidf', 0.10570981370628982), ('importance', 0.06038269405655947), ('position_in_context', 0.0742598447385515), ('is_a_textbook_word', 0.0009127985513064876), ('POS_ADJ', 0.003652202432943447), ('POS_ADP', 0.0003272068935715681), ('POS_ADV', 0.003063590230965707), ('POS_AUX', 0.0001509258634654333), ('POS_CCONJ', 0.0001247652224052055), ('POS_CHUNK', 0.10207199115649714), ('POS_DET', 0.00018358673863928265), ('POS_INTJ', 6.122821727824144e-05), ('POS_NOUN', 0.03021611966845911), ('POS_NUM', 0.00017735004322485127), ('POS_PART', 1.2120740005995298e-06), ('POS_PRON', 0.00012871977298217971), ('POS_PROPN', 0.022306668808334026), ('POS_PUNCT', 2.1558892244737657e-05), ('POS_SCONJ', 0.00026479940122219373), ('POS_SYM', 7.243134930269352e-06), ('POS_VERB', 0.010231509758871622), ('POS_X', 0.0004655205856914581)]\n"
     ]
    }
   ],
   "source": [
    "importance_s_sm = rand_forest_s_sm.feature_importances_\n",
    "\n",
    "list_of_importance_s_sm=zip(X_sm.columns.tolist(), importance_s_sm.tolist())\n",
    "\n",
    "print(list(list_of_importance_s_sm))"
   ]
  },
  {
   "cell_type": "code",
   "execution_count": 166,
   "id": "3dbb642f",
   "metadata": {},
   "outputs": [
    {
     "data": {
      "image/png": "[encoded data removed]",
      "text/plain": [
       "<Figure size 720x432 with 1 Axes>"
      ]
     },
     "metadata": {
      "needs_background": "light"
     },
     "output_type": "display_data"
    }
   ],
   "source": [
    "plt.figure(figsize=(10, 6))\n",
    "\n",
    "arr = [x for x in range(len(importance))]\n",
    "labels = X.columns.tolist()\n",
    "plt.bar(arr, importance)\n",
    "plt.title('Feature importance RandomForest')\n",
    "plt.xticks(arr, labels, rotation=90)\n",
    "plt.show()\n",
    "#sort it and save this one!"
   ]
  },
  {
   "cell_type": "code",
   "execution_count": 170,
   "id": "46eeb8fe",
   "metadata": {},
   "outputs": [
    {
     "data": {
      "image/png": "[encoded data removed]",
      "text/plain": [
       "<Figure size 720x432 with 1 Axes>"
      ]
     },
     "metadata": {
      "needs_background": "light"
     },
     "output_type": "display_data"
    }
   ],
   "source": [
    "plt.figure(figsize=(10, 6))\n",
    "\n",
    "arr = [x for x in range(len(importance_s))]\n",
    "labels = X_s.columns.tolist()\n",
    "plt.bar(arr, importance_s)\n",
    "plt.title('Feature importance RandomForest')\n",
    "plt.xticks(arr, labels, rotation=90)\n",
    "plt.show()\n",
    "#sort it"
   ]
  },
  {
   "cell_type": "code",
   "execution_count": 209,
   "id": "6d65a142",
   "metadata": {},
   "outputs": [
    {
     "data": {
      "image/png": "[encoded data removed]",
      "text/plain": [
       "<Figure size 720x432 with 1 Axes>"
      ]
     },
     "metadata": {
      "needs_background": "light"
     },
     "output_type": "display_data"
    }
   ],
   "source": [
    "plt.figure(figsize=(10, 6))\n",
    "\n",
    "arr = [x for x in range(len(importance_sm))]\n",
    "labels = X_sm.columns.tolist()\n",
    "plt.bar(arr, importance_sm)\n",
    "plt.title('Feature importance RandomForest')\n",
    "plt.xticks(arr, labels, rotation=90)\n",
    "plt.show()\n",
    "#sort it"
   ]
  },
  {
   "cell_type": "code",
   "execution_count": 210,
   "id": "223348c4",
   "metadata": {},
   "outputs": [
    {
     "data": {
      "image/png": "[encoded data removed]",
      "text/plain": [
       "<Figure size 720x432 with 1 Axes>"
      ]
     },
     "metadata": {
      "needs_background": "light"
     },
     "output_type": "display_data"
    }
   ],
   "source": [
    "plt.figure(figsize=(10, 6))\n",
    "\n",
    "arr = [x for x in range(len(importance_s_sm))]\n",
    "labels = X_sm_s.columns.tolist()\n",
    "plt.bar(arr, importance_s_sm)\n",
    "plt.title('Feature importance RandomForest')\n",
    "plt.xticks(arr, labels, rotation=90)\n",
    "plt.show()\n",
    "#sort it"
   ]
  },
  {
   "cell_type": "markdown",
   "id": "dbc630c1",
   "metadata": {},
   "source": [
    "# SVM with previous PCA"
   ]
  },
  {
   "cell_type": "code",
   "execution_count": null,
   "id": "b5328bc7",
   "metadata": {},
   "outputs": [],
   "source": [
    "X_train_pca, X_test_pca, y_train_pca, y_test_pca = train_test_split(X_pca, y_cc, \n",
    "                                                    test_size=0.3, \n",
    "                                                    random_state=42)"
   ]
  },
  {
   "cell_type": "code",
   "execution_count": null,
   "id": "a1853980",
   "metadata": {},
   "outputs": [],
   "source": [
    "svc = SVC()"
   ]
  },
  {
   "cell_type": "code",
   "execution_count": null,
   "id": "132e8031",
   "metadata": {},
   "outputs": [],
   "source": [
    "svc.fit(X_train_pca,y_train_pca)"
   ]
  },
  {
   "cell_type": "code",
   "execution_count": null,
   "id": "6b823066",
   "metadata": {},
   "outputs": [],
   "source": [
    "y_pca_svc = gb_clf.predict(X_test)"
   ]
  },
  {
   "cell_type": "code",
   "execution_count": null,
   "id": "07348379",
   "metadata": {},
   "outputs": [],
   "source": [
    "print('Accuracy Score : ' + str(accuracy_score(y_test_pca,y_sm_gbcl)))\n",
    "print('Precision Score : ' + str(precision_score(y_test_pca,y_sm_gbcl)))\n",
    "print('Recall Score : ' + str(recall_score(y_test_pca,y_sm_gbcl)))\n",
    "print('F1 Score : ' + str(f1_score(y_test_pca,y_sm_gbcl)))"
   ]
  },
  {
   "cell_type": "code",
   "execution_count": null,
   "id": "071137e0",
   "metadata": {},
   "outputs": [],
   "source": [
    "#todo: \n",
    "#think well about the metrics: what do I prefer\n",
    "#check ways to reduce the data set\n",
    "#keep track of the metrics and do some visualization on the variation betwen different models"
   ]
  },
  {
   "cell_type": "code",
   "execution_count": null,
   "id": "b690c6f1",
   "metadata": {},
   "outputs": [],
   "source": [
    "#things to try:\n",
    "#try with only non-technical books -- see if I get better metrics\n",
    "#try SVM (with fewer samples)\n",
    "#reduce dataset with PCA"
   ]
  }
 ],
 "metadata": {
  "kernelspec": {
   "display_name": "Python 3",
   "language": "python",
   "name": "python3"
  },
  "language_info": {
   "codemirror_mode": {
    "name": "ipython",
    "version": 3
   },
   "file_extension": ".py",
   "mimetype": "text/x-python",
   "name": "python",
   "nbconvert_exporter": "python",
   "pygments_lexer": "ipython3",
   "version": "3.7.10"
  }
 },
 "nbformat": 4,
 "nbformat_minor": 5
}
