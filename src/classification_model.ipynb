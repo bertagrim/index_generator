{
 "cells": [
  {
   "cell_type": "code",
   "execution_count": 341,
   "id": "6e1e6559",
   "metadata": {},
   "outputs": [],
   "source": [
    "from sklearn.model_selection import cross_validate\n",
    "from sklearn.model_selection import train_test_split\n",
    "from sklearn.model_selection import GridSearchCV\n",
    "from sklearn.metrics import accuracy_score,recall_score,precision_score,f1_score\n",
    "from sklearn.linear_model import LogisticRegression, LogisticRegressionCV\n",
    "from sklearn.ensemble import RandomForestClassifier\n",
    "from sklearn.metrics import confusion_matrix\n",
    "from sklearn.preprocessing import MinMaxScaler\n",
    "from imblearn.over_sampling import SMOTE\n",
    "from imblearn.under_sampling import ClusterCentroids, CondensedNearestNeighbour, RandomUnderSampler\n",
    "from sklearn.ensemble import GradientBoostingClassifier\n",
    "from xgboost import XGBClassifier\n",
    "import xgboost as xgb\n",
    "\n",
    "import numpy as np\n",
    "import pandas as pd\n",
    "import seaborn as sns\n",
    "import matplotlib.pyplot as plt\n",
    "\n",
    "import shap\n",
    "from shap import plots\n",
    "\n",
    "import pickle\n",
    "\n",
    "import pathlib\n",
    "from glob import glob\n",
    "from data_loader import get_pdf_filepaths"
   ]
  },
  {
   "cell_type": "code",
   "execution_count": 285,
   "id": "94c9e953",
   "metadata": {},
   "outputs": [],
   "source": [
    "def get_agg_dfs_filepaths(folder_path):\n",
    "    absolute_folder_path = pathlib.Path(folder_path).resolve()\n",
    "    #print(absolute_folder_path)\n",
    "    pattern = str(absolute_folder_path / '**/aggregated.csv')\n",
    "    #print(pattern)\n",
    "    return glob(pattern)"
   ]
  },
  {
   "cell_type": "code",
   "execution_count": 286,
   "id": "1175e7f1",
   "metadata": {},
   "outputs": [],
   "source": [
    "def get_agg_dfs_filepaths_philosophy(folder_path):\n",
    "    absolute_folder_path = pathlib.Path(folder_path).resolve()\n",
    "    #print(absolute_folder_path)\n",
    "    pattern = str(absolute_folder_path / 'philosophy/**/aggregated.csv')\n",
    "    #print(pattern)\n",
    "    return glob(pattern)"
   ]
  },
  {
   "cell_type": "markdown",
   "id": "317f1d1b",
   "metadata": {},
   "source": [
    "# 0. Create dataset from the csvs of all books"
   ]
  },
  {
   "cell_type": "code",
   "execution_count": 287,
   "id": "3dbbab06",
   "metadata": {},
   "outputs": [],
   "source": [
    "DATA_DIR_PATH = \"../data/\"\n",
    "PDF_SOURCE_DIR_PATH = DATA_DIR_PATH + \"pdf/\"\n",
    "PROCESSED_DATA_DIR_PATH = DATA_DIR_PATH + \"processed/\""
   ]
  },
  {
   "cell_type": "code",
   "execution_count": 288,
   "id": "71204b40",
   "metadata": {},
   "outputs": [
    {
     "data": {
      "text/plain": [
       "['/Users/bertagrim/dev_projects/final_project/index_generator/data/processed/lycan_08/aggregated.csv',\n",
       " '/Users/bertagrim/dev_projects/final_project/index_generator/data/processed/2015_Book_LinearAlgebra/aggregated.csv',\n",
       " '/Users/bertagrim/dev_projects/final_project/index_generator/data/processed/2007BoolosComputability and Logic Fifth Edition/aggregated.csv',\n",
       " '/Users/bertagrim/dev_projects/final_project/index_generator/data/processed/christensen_04/aggregated.csv',\n",
       " '/Users/bertagrim/dev_projects/final_project/index_generator/data/processed/williamson_94/aggregated.csv',\n",
       " '/Users/bertagrim/dev_projects/final_project/index_generator/data/processed/2014_Book_Microeconomics/aggregated.csv',\n",
       " '/Users/bertagrim/dev_projects/final_project/index_generator/data/processed/jacobson_14/aggregated.csv',\n",
       " '/Users/bertagrim/dev_projects/final_project/index_generator/data/processed/morris_07/aggregated.csv',\n",
       " '/Users/bertagrim/dev_projects/final_project/index_generator/data/processed/moltmann_97/aggregated.csv',\n",
       " '/Users/bertagrim/dev_projects/final_project/index_generator/data/processed/zimmermann_13/aggregated.csv',\n",
       " '/Users/bertagrim/dev_projects/final_project/index_generator/data/processed/2009_Book_TheElementsOfStatisticalLearni/aggregated.csv',\n",
       " '/Users/bertagrim/dev_projects/final_project/index_generator/data/processed/peregrin_17/aggregated.csv',\n",
       " '/Users/bertagrim/dev_projects/final_project/index_generator/data/processed/linnebo_21/aggregated.csv',\n",
       " '/Users/bertagrim/dev_projects/final_project/index_generator/data/processed/2017_Book_CosmologyForTheCurious/aggregated.csv',\n",
       " '/Users/bertagrim/dev_projects/final_project/index_generator/data/processed/shapiro_97/aggregated.csv',\n",
       " '/Users/bertagrim/dev_projects/final_project/index_generator/data/processed/linnebo_18/aggregated.csv',\n",
       " '/Users/bertagrim/dev_projects/final_project/index_generator/data/processed/heather_17/aggregated.csv',\n",
       " '/Users/bertagrim/dev_projects/final_project/index_generator/data/processed/jenkins_08/aggregated.csv',\n",
       " '/Users/bertagrim/dev_projects/final_project/index_generator/data/processed/keefe_00/aggregated.csv',\n",
       " '/Users/bertagrim/dev_projects/final_project/index_generator/data/processed/winter_16/aggregated.csv',\n",
       " '/Users/bertagrim/dev_projects/final_project/index_generator/data/processed/oliver_13/aggregated.csv',\n",
       " '/Users/bertagrim/dev_projects/final_project/index_generator/data/processed/lyons_96/aggregated.csv']"
      ]
     },
     "execution_count": 288,
     "metadata": {},
     "output_type": "execute_result"
    }
   ],
   "source": [
    "file_paths = get_agg_dfs_filepaths(PROCESSED_DATA_DIR_PATH)\n",
    "file_paths"
   ]
  },
  {
   "cell_type": "code",
   "execution_count": 289,
   "id": "ce54bd73",
   "metadata": {},
   "outputs": [
    {
     "data": {
      "text/plain": [
       "['/Users/bertagrim/dev_projects/final_project/index_generator/data/processed/philosophy/lycan_08/aggregated.csv',\n",
       " '/Users/bertagrim/dev_projects/final_project/index_generator/data/processed/philosophy/christensen_04/aggregated.csv',\n",
       " '/Users/bertagrim/dev_projects/final_project/index_generator/data/processed/philosophy/williamson_94/aggregated.csv',\n",
       " '/Users/bertagrim/dev_projects/final_project/index_generator/data/processed/philosophy/morris_07/aggregated.csv',\n",
       " '/Users/bertagrim/dev_projects/final_project/index_generator/data/processed/philosophy/peregrin_17/aggregated.csv',\n",
       " '/Users/bertagrim/dev_projects/final_project/index_generator/data/processed/philosophy/shapiro_97/aggregated.csv',\n",
       " '/Users/bertagrim/dev_projects/final_project/index_generator/data/processed/philosophy/linnebo_18/aggregated.csv',\n",
       " '/Users/bertagrim/dev_projects/final_project/index_generator/data/processed/philosophy/jenkins_08/aggregated.csv',\n",
       " '/Users/bertagrim/dev_projects/final_project/index_generator/data/processed/philosophy/keefe_00/aggregated.csv',\n",
       " '/Users/bertagrim/dev_projects/final_project/index_generator/data/processed/philosophy/oliver_13/aggregated.csv']"
      ]
     },
     "execution_count": 289,
     "metadata": {},
     "output_type": "execute_result"
    }
   ],
   "source": [
    "file_paths_philo = get_agg_dfs_filepaths_philosophy(PROCESSED_DATA_DIR_PATH)\n",
    "file_paths_philo"
   ]
  },
  {
   "cell_type": "code",
   "execution_count": 290,
   "id": "9e3a23e9",
   "metadata": {},
   "outputs": [],
   "source": [
    "list_agg_dfs=[]\n",
    "for path in file_paths:\n",
    "    aggregated_df = pd.read_csv(path,index_col=0)\n",
    "    list_agg_dfs.append(aggregated_df)\n",
    "    \n",
    "df = pd.concat(list_agg_dfs)"
   ]
  },
  {
   "cell_type": "code",
   "execution_count": 291,
   "id": "3fdc282d",
   "metadata": {},
   "outputs": [],
   "source": [
    "list_agg_dfs=[]\n",
    "for path in file_paths_philo:\n",
    "    aggregated_df = pd.read_csv(path,index_col=0)\n",
    "    list_agg_dfs.append(aggregated_df)\n",
    "    \n",
    "df_s = pd.concat(list_agg_dfs)"
   ]
  },
  {
   "cell_type": "code",
   "execution_count": 292,
   "id": "ea926e8a",
   "metadata": {},
   "outputs": [
    {
     "name": "stdout",
     "output_type": "stream",
     "text": [
      "<class 'pandas.core.frame.DataFrame'>\n",
      "Int64Index: 372652 entries, 0 to 46618\n",
      "Data columns (total 11 columns):\n",
      " #   Column               Non-Null Count   Dtype  \n",
      "---  ------               --------------   -----  \n",
      " 0   candidate_keyword    372650 non-null  object \n",
      " 1   length               372652 non-null  int64  \n",
      " 2   is_named_entity      372652 non-null  int64  \n",
      " 3   is_named_author      372652 non-null  int64  \n",
      " 4   is_in_toc            372652 non-null  int64  \n",
      " 5   freq                 372652 non-null  float64\n",
      " 6   is_in_index          372652 non-null  int64  \n",
      " 7   tfidf                372652 non-null  float64\n",
      " 8   importance           372652 non-null  float64\n",
      " 9   position_in_context  372652 non-null  float64\n",
      " 10  POS                  372652 non-null  object \n",
      "dtypes: float64(4), int64(5), object(2)\n",
      "memory usage: 34.1+ MB\n"
     ]
    }
   ],
   "source": [
    "df_s.info()"
   ]
  },
  {
   "cell_type": "markdown",
   "id": "ce304b15",
   "metadata": {},
   "source": [
    "# 1. Feature engineering"
   ]
  },
  {
   "cell_type": "code",
   "execution_count": 293,
   "id": "7dbbc895",
   "metadata": {},
   "outputs": [],
   "source": [
    "df.reset_index(drop=True, inplace=True)"
   ]
  },
  {
   "cell_type": "code",
   "execution_count": 294,
   "id": "88860df4",
   "metadata": {},
   "outputs": [],
   "source": [
    "df_s.reset_index(drop=True, inplace=True)"
   ]
  },
  {
   "cell_type": "code",
   "execution_count": 295,
   "id": "2acb0372",
   "metadata": {},
   "outputs": [
    {
     "data": {
      "text/html": [
       "<div>\n",
       "<style scoped>\n",
       "    .dataframe tbody tr th:only-of-type {\n",
       "        vertical-align: middle;\n",
       "    }\n",
       "\n",
       "    .dataframe tbody tr th {\n",
       "        vertical-align: top;\n",
       "    }\n",
       "\n",
       "    .dataframe thead th {\n",
       "        text-align: right;\n",
       "    }\n",
       "</style>\n",
       "<table border=\"1\" class=\"dataframe\">\n",
       "  <thead>\n",
       "    <tr style=\"text-align: right;\">\n",
       "      <th></th>\n",
       "      <th>candidate_keyword</th>\n",
       "      <th>length</th>\n",
       "      <th>is_named_entity</th>\n",
       "      <th>is_named_author</th>\n",
       "      <th>is_in_toc</th>\n",
       "      <th>freq</th>\n",
       "      <th>is_in_index</th>\n",
       "      <th>tfidf</th>\n",
       "      <th>importance</th>\n",
       "      <th>position_in_context</th>\n",
       "    </tr>\n",
       "    <tr>\n",
       "      <th>POS</th>\n",
       "      <th></th>\n",
       "      <th></th>\n",
       "      <th></th>\n",
       "      <th></th>\n",
       "      <th></th>\n",
       "      <th></th>\n",
       "      <th></th>\n",
       "      <th></th>\n",
       "      <th></th>\n",
       "      <th></th>\n",
       "    </tr>\n",
       "  </thead>\n",
       "  <tbody>\n",
       "    <tr>\n",
       "      <th>ADJ</th>\n",
       "      <td>19629</td>\n",
       "      <td>19637</td>\n",
       "      <td>19637</td>\n",
       "      <td>19637</td>\n",
       "      <td>19637</td>\n",
       "      <td>19637</td>\n",
       "      <td>19637</td>\n",
       "      <td>19637</td>\n",
       "      <td>19637</td>\n",
       "      <td>19637</td>\n",
       "    </tr>\n",
       "    <tr>\n",
       "      <th>ADP</th>\n",
       "      <td>769</td>\n",
       "      <td>769</td>\n",
       "      <td>769</td>\n",
       "      <td>769</td>\n",
       "      <td>769</td>\n",
       "      <td>769</td>\n",
       "      <td>769</td>\n",
       "      <td>769</td>\n",
       "      <td>769</td>\n",
       "      <td>769</td>\n",
       "    </tr>\n",
       "    <tr>\n",
       "      <th>ADV</th>\n",
       "      <td>7305</td>\n",
       "      <td>7305</td>\n",
       "      <td>7305</td>\n",
       "      <td>7305</td>\n",
       "      <td>7305</td>\n",
       "      <td>7305</td>\n",
       "      <td>7305</td>\n",
       "      <td>7305</td>\n",
       "      <td>7305</td>\n",
       "      <td>7305</td>\n",
       "    </tr>\n",
       "    <tr>\n",
       "      <th>AUX</th>\n",
       "      <td>282</td>\n",
       "      <td>282</td>\n",
       "      <td>282</td>\n",
       "      <td>282</td>\n",
       "      <td>282</td>\n",
       "      <td>282</td>\n",
       "      <td>282</td>\n",
       "      <td>282</td>\n",
       "      <td>282</td>\n",
       "      <td>282</td>\n",
       "    </tr>\n",
       "    <tr>\n",
       "      <th>CCONJ</th>\n",
       "      <td>98</td>\n",
       "      <td>98</td>\n",
       "      <td>98</td>\n",
       "      <td>98</td>\n",
       "      <td>98</td>\n",
       "      <td>98</td>\n",
       "      <td>98</td>\n",
       "      <td>98</td>\n",
       "      <td>98</td>\n",
       "      <td>98</td>\n",
       "    </tr>\n",
       "    <tr>\n",
       "      <th>CHUNK</th>\n",
       "      <td>749051</td>\n",
       "      <td>749051</td>\n",
       "      <td>749051</td>\n",
       "      <td>749051</td>\n",
       "      <td>749051</td>\n",
       "      <td>749051</td>\n",
       "      <td>749051</td>\n",
       "      <td>749051</td>\n",
       "      <td>749051</td>\n",
       "      <td>749051</td>\n",
       "    </tr>\n",
       "    <tr>\n",
       "      <th>DET</th>\n",
       "      <td>167</td>\n",
       "      <td>167</td>\n",
       "      <td>167</td>\n",
       "      <td>167</td>\n",
       "      <td>167</td>\n",
       "      <td>167</td>\n",
       "      <td>167</td>\n",
       "      <td>167</td>\n",
       "      <td>167</td>\n",
       "      <td>167</td>\n",
       "    </tr>\n",
       "    <tr>\n",
       "      <th>INTJ</th>\n",
       "      <td>251</td>\n",
       "      <td>251</td>\n",
       "      <td>251</td>\n",
       "      <td>251</td>\n",
       "      <td>251</td>\n",
       "      <td>251</td>\n",
       "      <td>251</td>\n",
       "      <td>251</td>\n",
       "      <td>251</td>\n",
       "      <td>251</td>\n",
       "    </tr>\n",
       "    <tr>\n",
       "      <th>NOUN</th>\n",
       "      <td>43999</td>\n",
       "      <td>43999</td>\n",
       "      <td>43999</td>\n",
       "      <td>43999</td>\n",
       "      <td>43999</td>\n",
       "      <td>43999</td>\n",
       "      <td>43999</td>\n",
       "      <td>43999</td>\n",
       "      <td>43999</td>\n",
       "      <td>43999</td>\n",
       "    </tr>\n",
       "    <tr>\n",
       "      <th>NUM</th>\n",
       "      <td>306</td>\n",
       "      <td>306</td>\n",
       "      <td>306</td>\n",
       "      <td>306</td>\n",
       "      <td>306</td>\n",
       "      <td>306</td>\n",
       "      <td>306</td>\n",
       "      <td>306</td>\n",
       "      <td>306</td>\n",
       "      <td>306</td>\n",
       "    </tr>\n",
       "    <tr>\n",
       "      <th>PART</th>\n",
       "      <td>3</td>\n",
       "      <td>3</td>\n",
       "      <td>3</td>\n",
       "      <td>3</td>\n",
       "      <td>3</td>\n",
       "      <td>3</td>\n",
       "      <td>3</td>\n",
       "      <td>3</td>\n",
       "      <td>3</td>\n",
       "      <td>3</td>\n",
       "    </tr>\n",
       "    <tr>\n",
       "      <th>PRON</th>\n",
       "      <td>258</td>\n",
       "      <td>258</td>\n",
       "      <td>258</td>\n",
       "      <td>258</td>\n",
       "      <td>258</td>\n",
       "      <td>258</td>\n",
       "      <td>258</td>\n",
       "      <td>258</td>\n",
       "      <td>258</td>\n",
       "      <td>258</td>\n",
       "    </tr>\n",
       "    <tr>\n",
       "      <th>PROPN</th>\n",
       "      <td>7407</td>\n",
       "      <td>7407</td>\n",
       "      <td>7407</td>\n",
       "      <td>7407</td>\n",
       "      <td>7407</td>\n",
       "      <td>7407</td>\n",
       "      <td>7407</td>\n",
       "      <td>7407</td>\n",
       "      <td>7407</td>\n",
       "      <td>7407</td>\n",
       "    </tr>\n",
       "    <tr>\n",
       "      <th>PUNCT</th>\n",
       "      <td>16</td>\n",
       "      <td>16</td>\n",
       "      <td>16</td>\n",
       "      <td>16</td>\n",
       "      <td>16</td>\n",
       "      <td>16</td>\n",
       "      <td>16</td>\n",
       "      <td>16</td>\n",
       "      <td>16</td>\n",
       "      <td>16</td>\n",
       "    </tr>\n",
       "    <tr>\n",
       "      <th>SCONJ</th>\n",
       "      <td>239</td>\n",
       "      <td>239</td>\n",
       "      <td>239</td>\n",
       "      <td>239</td>\n",
       "      <td>239</td>\n",
       "      <td>239</td>\n",
       "      <td>239</td>\n",
       "      <td>239</td>\n",
       "      <td>239</td>\n",
       "      <td>239</td>\n",
       "    </tr>\n",
       "    <tr>\n",
       "      <th>SYM</th>\n",
       "      <td>4</td>\n",
       "      <td>4</td>\n",
       "      <td>4</td>\n",
       "      <td>4</td>\n",
       "      <td>4</td>\n",
       "      <td>4</td>\n",
       "      <td>4</td>\n",
       "      <td>4</td>\n",
       "      <td>4</td>\n",
       "      <td>4</td>\n",
       "    </tr>\n",
       "    <tr>\n",
       "      <th>VERB</th>\n",
       "      <td>26859</td>\n",
       "      <td>26859</td>\n",
       "      <td>26859</td>\n",
       "      <td>26859</td>\n",
       "      <td>26859</td>\n",
       "      <td>26859</td>\n",
       "      <td>26859</td>\n",
       "      <td>26859</td>\n",
       "      <td>26859</td>\n",
       "      <td>26859</td>\n",
       "    </tr>\n",
       "    <tr>\n",
       "      <th>X</th>\n",
       "      <td>228</td>\n",
       "      <td>228</td>\n",
       "      <td>228</td>\n",
       "      <td>228</td>\n",
       "      <td>228</td>\n",
       "      <td>228</td>\n",
       "      <td>228</td>\n",
       "      <td>228</td>\n",
       "      <td>228</td>\n",
       "      <td>228</td>\n",
       "    </tr>\n",
       "  </tbody>\n",
       "</table>\n",
       "</div>"
      ],
      "text/plain": [
       "       candidate_keyword  length  is_named_entity  is_named_author  is_in_toc  \\\n",
       "POS                                                                             \n",
       "ADJ                19629   19637            19637            19637      19637   \n",
       "ADP                  769     769              769              769        769   \n",
       "ADV                 7305    7305             7305             7305       7305   \n",
       "AUX                  282     282              282              282        282   \n",
       "CCONJ                 98      98               98               98         98   \n",
       "CHUNK             749051  749051           749051           749051     749051   \n",
       "DET                  167     167              167              167        167   \n",
       "INTJ                 251     251              251              251        251   \n",
       "NOUN               43999   43999            43999            43999      43999   \n",
       "NUM                  306     306              306              306        306   \n",
       "PART                   3       3                3                3          3   \n",
       "PRON                 258     258              258              258        258   \n",
       "PROPN               7407    7407             7407             7407       7407   \n",
       "PUNCT                 16      16               16               16         16   \n",
       "SCONJ                239     239              239              239        239   \n",
       "SYM                    4       4                4                4          4   \n",
       "VERB               26859   26859            26859            26859      26859   \n",
       "X                    228     228              228              228        228   \n",
       "\n",
       "         freq  is_in_index   tfidf  importance  position_in_context  \n",
       "POS                                                                  \n",
       "ADJ     19637        19637   19637       19637                19637  \n",
       "ADP       769          769     769         769                  769  \n",
       "ADV      7305         7305    7305        7305                 7305  \n",
       "AUX       282          282     282         282                  282  \n",
       "CCONJ      98           98      98          98                   98  \n",
       "CHUNK  749051       749051  749051      749051               749051  \n",
       "DET       167          167     167         167                  167  \n",
       "INTJ      251          251     251         251                  251  \n",
       "NOUN    43999        43999   43999       43999                43999  \n",
       "NUM       306          306     306         306                  306  \n",
       "PART        3            3       3           3                    3  \n",
       "PRON      258          258     258         258                  258  \n",
       "PROPN    7407         7407    7407        7407                 7407  \n",
       "PUNCT      16           16      16          16                   16  \n",
       "SCONJ     239          239     239         239                  239  \n",
       "SYM         4            4       4           4                    4  \n",
       "VERB    26859        26859   26859       26859                26859  \n",
       "X         228          228     228         228                  228  "
      ]
     },
     "execution_count": 295,
     "metadata": {},
     "output_type": "execute_result"
    }
   ],
   "source": [
    "df.groupby('POS').count()"
   ]
  },
  {
   "cell_type": "code",
   "execution_count": 296,
   "id": "957027f0",
   "metadata": {},
   "outputs": [],
   "source": [
    "df.dropna(inplace=True)"
   ]
  },
  {
   "cell_type": "code",
   "execution_count": 297,
   "id": "881bf207",
   "metadata": {},
   "outputs": [],
   "source": [
    "df_s.dropna(inplace=True)"
   ]
  },
  {
   "cell_type": "code",
   "execution_count": 298,
   "id": "0588b4b6",
   "metadata": {},
   "outputs": [],
   "source": [
    "textbook_words=['whereas', \n",
    "                'conversely', \n",
    "                'result',\n",
    "                'suggest',\n",
    "                'contrast', \n",
    "                'comparison', \n",
    "                'view', \n",
    "                'likewise',\n",
    "                'despite',\n",
    "                'while',\n",
    "                'subsequent',\n",
    "                'subsequently',\n",
    "                'overall',\n",
    "                'summary',\n",
    "                'sumarize',\n",
    "                'first',\n",
    "                'second', \n",
    "                'third',\n",
    "                'firstly',\n",
    "                'secondly', \n",
    "                'thirdly',\n",
    "                'finally',\n",
    "                'although',\n",
    "                'thus',\n",
    "                'again',\n",
    "                'further',\n",
    "                'then',\n",
    "                'besides',\n",
    "                'too',\n",
    "                'similarly',\n",
    "                'correspondingly',\n",
    "                'regarding',\n",
    "                'involved',\n",
    "                'approach',\n",
    "                'account',\n",
    "                'theory',\n",
    "                'method',\n",
    "                'required',\n",
    "                'process',\n",
    "                'research',\n",
    "                'role',\n",
    "                'significant',\n",
    "                'source',\n",
    "                'variable',\n",
    "                'issue',\n",
    "                'function',\n",
    "                'formula',\n",
    "                'formulate',\n",
    "                'phrase',\n",
    "                'factor',\n",
    "                'evidence',\n",
    "                'derived',\n",
    "                'derive',\n",
    "                'establish',\n",
    "                'concept',\n",
    "                'available',\n",
    "                'context',\n",
    "                'assume',\n",
    "                'assumption',\n",
    "                'additionally',\n",
    "                'additional',\n",
    "                'analysis',\n",
    "                'general',\n",
    "                'certain',\n",
    "                'certainly',\n",
    "                'furthermore',\n",
    "                'moreover',\n",
    "                'nonetheless',\n",
    "                'nevertheless',\n",
    "                'bibliography',\n",
    "                'prove',\n",
    "                'part',\n",
    "                'today', \n",
    "                'nowadays', \n",
    "                'actually', \n",
    "                'section', \n",
    "                'indeed', \n",
    "                'every', \n",
    "                'any', \n",
    "                'some',\n",
    "                'instance',\n",
    "                'example', \n",
    "                'therefore', \n",
    "                'definition',\n",
    "                'define',\n",
    "                'explain',\n",
    "                'explanation',\n",
    "                'introduction', \n",
    "                'conclusion',\n",
    "                'conclude',\n",
    "                'chapter', \n",
    "                'appendix', \n",
    "                'otherwise', \n",
    "                'thing',\n",
    "                'concisely',\n",
    "                'concise',\n",
    "                'brief',\n",
    "                'briefly',\n",
    "                'rather', \n",
    "                'instead', \n",
    "                'like', \n",
    "                'since', \n",
    "                'given', \n",
    "                'case', \n",
    "                'hence', \n",
    "                'iff', \n",
    "                'see', \n",
    "                'beyond', \n",
    "                'below', \n",
    "                'above', \n",
    "                'postscript',\n",
    "                'preface',\n",
    "                'index', \n",
    "                'ensure', \n",
    "                'generally', \n",
    "                'anything', \n",
    "                'something',\n",
    "                'everything',\n",
    "                'other']"
   ]
  },
  {
   "cell_type": "code",
   "execution_count": 299,
   "id": "ad5869ad",
   "metadata": {},
   "outputs": [],
   "source": [
    "dict_tbw={}\n",
    "for w in df.candidate_keyword:\n",
    "    if w in textbook_words:\n",
    "        dict_tbw[w]=1\n",
    "    else:\n",
    "        dict_tbw[w]=0"
   ]
  },
  {
   "cell_type": "code",
   "execution_count": 300,
   "id": "508d3bda",
   "metadata": {},
   "outputs": [],
   "source": [
    "dict_tbw_s={}\n",
    "for w in df_s.candidate_keyword:\n",
    "    if w in textbook_words:\n",
    "        dict_tbw_s[w]=1\n",
    "    else:\n",
    "        dict_tbw_s[w]=0"
   ]
  },
  {
   "cell_type": "code",
   "execution_count": 301,
   "id": "6871b5a3",
   "metadata": {},
   "outputs": [],
   "source": [
    "def is_a_tbw(x):\n",
    "    if w in textbook_words:\n",
    "        return 1\n",
    "    else: \n",
    "        return 0"
   ]
  },
  {
   "cell_type": "code",
   "execution_count": 302,
   "id": "25479850",
   "metadata": {
    "scrolled": true
   },
   "outputs": [],
   "source": [
    "df['is_a_textbook_word']=df.candidate_keyword.apply(lambda x: dict_tbw[x])"
   ]
  },
  {
   "cell_type": "code",
   "execution_count": 303,
   "id": "6f29cf77",
   "metadata": {
    "scrolled": true
   },
   "outputs": [],
   "source": [
    "df_s['is_a_textbook_word']=df_s.candidate_keyword.apply(lambda x: dict_tbw_s[x])"
   ]
  },
  {
   "cell_type": "code",
   "execution_count": 304,
   "id": "4dd28e65",
   "metadata": {},
   "outputs": [],
   "source": [
    "df_scaled = pd.get_dummies(df, columns=['POS'],\n",
    "prefix = ['POS'])"
   ]
  },
  {
   "cell_type": "code",
   "execution_count": 305,
   "id": "fb580304",
   "metadata": {},
   "outputs": [],
   "source": [
    "df_s_scaled = pd.get_dummies(df_s, columns=['POS'],\n",
    "prefix = ['POS'])"
   ]
  },
  {
   "cell_type": "code",
   "execution_count": 306,
   "id": "0d7b419f",
   "metadata": {},
   "outputs": [
    {
     "data": {
      "text/html": [
       "<div>\n",
       "<style scoped>\n",
       "    .dataframe tbody tr th:only-of-type {\n",
       "        vertical-align: middle;\n",
       "    }\n",
       "\n",
       "    .dataframe tbody tr th {\n",
       "        vertical-align: top;\n",
       "    }\n",
       "\n",
       "    .dataframe thead th {\n",
       "        text-align: right;\n",
       "    }\n",
       "</style>\n",
       "<table border=\"1\" class=\"dataframe\">\n",
       "  <thead>\n",
       "    <tr style=\"text-align: right;\">\n",
       "      <th></th>\n",
       "      <th>candidate_keyword</th>\n",
       "      <th>length</th>\n",
       "      <th>is_named_entity</th>\n",
       "      <th>is_named_author</th>\n",
       "      <th>is_in_toc</th>\n",
       "      <th>freq</th>\n",
       "      <th>is_in_index</th>\n",
       "      <th>tfidf</th>\n",
       "      <th>importance</th>\n",
       "      <th>position_in_context</th>\n",
       "      <th>...</th>\n",
       "      <th>POS_NOUN</th>\n",
       "      <th>POS_NUM</th>\n",
       "      <th>POS_PART</th>\n",
       "      <th>POS_PRON</th>\n",
       "      <th>POS_PROPN</th>\n",
       "      <th>POS_PUNCT</th>\n",
       "      <th>POS_SCONJ</th>\n",
       "      <th>POS_SYM</th>\n",
       "      <th>POS_VERB</th>\n",
       "      <th>POS_X</th>\n",
       "    </tr>\n",
       "  </thead>\n",
       "  <tbody>\n",
       "    <tr>\n",
       "      <th>0</th>\n",
       "      <td>a-laying</td>\n",
       "      <td>8</td>\n",
       "      <td>0</td>\n",
       "      <td>0</td>\n",
       "      <td>0</td>\n",
       "      <td>0.000013</td>\n",
       "      <td>0</td>\n",
       "      <td>0.000000</td>\n",
       "      <td>0.662301</td>\n",
       "      <td>0.750000</td>\n",
       "      <td>...</td>\n",
       "      <td>1</td>\n",
       "      <td>0</td>\n",
       "      <td>0</td>\n",
       "      <td>0</td>\n",
       "      <td>0</td>\n",
       "      <td>0</td>\n",
       "      <td>0</td>\n",
       "      <td>0</td>\n",
       "      <td>0</td>\n",
       "      <td>0</td>\n",
       "    </tr>\n",
       "    <tr>\n",
       "      <th>1</th>\n",
       "      <td>a-laying police</td>\n",
       "      <td>15</td>\n",
       "      <td>0</td>\n",
       "      <td>0</td>\n",
       "      <td>0</td>\n",
       "      <td>0.000013</td>\n",
       "      <td>0</td>\n",
       "      <td>0.000000</td>\n",
       "      <td>0.662301</td>\n",
       "      <td>0.750000</td>\n",
       "      <td>...</td>\n",
       "      <td>0</td>\n",
       "      <td>0</td>\n",
       "      <td>0</td>\n",
       "      <td>0</td>\n",
       "      <td>0</td>\n",
       "      <td>0</td>\n",
       "      <td>0</td>\n",
       "      <td>0</td>\n",
       "      <td>0</td>\n",
       "      <td>0</td>\n",
       "    </tr>\n",
       "    <tr>\n",
       "      <th>2</th>\n",
       "      <td>aardvark</td>\n",
       "      <td>8</td>\n",
       "      <td>0</td>\n",
       "      <td>0</td>\n",
       "      <td>0</td>\n",
       "      <td>0.000013</td>\n",
       "      <td>0</td>\n",
       "      <td>0.000000</td>\n",
       "      <td>0.644323</td>\n",
       "      <td>1.000000</td>\n",
       "      <td>...</td>\n",
       "      <td>1</td>\n",
       "      <td>0</td>\n",
       "      <td>0</td>\n",
       "      <td>0</td>\n",
       "      <td>0</td>\n",
       "      <td>0</td>\n",
       "      <td>0</td>\n",
       "      <td>0</td>\n",
       "      <td>0</td>\n",
       "      <td>0</td>\n",
       "    </tr>\n",
       "    <tr>\n",
       "      <th>3</th>\n",
       "      <td>abandoned</td>\n",
       "      <td>9</td>\n",
       "      <td>0</td>\n",
       "      <td>0</td>\n",
       "      <td>0</td>\n",
       "      <td>0.000038</td>\n",
       "      <td>0</td>\n",
       "      <td>0.009811</td>\n",
       "      <td>0.449342</td>\n",
       "      <td>0.611827</td>\n",
       "      <td>...</td>\n",
       "      <td>0</td>\n",
       "      <td>0</td>\n",
       "      <td>0</td>\n",
       "      <td>0</td>\n",
       "      <td>0</td>\n",
       "      <td>0</td>\n",
       "      <td>0</td>\n",
       "      <td>0</td>\n",
       "      <td>1</td>\n",
       "      <td>0</td>\n",
       "    </tr>\n",
       "    <tr>\n",
       "      <th>4</th>\n",
       "      <td>abandoned commitment</td>\n",
       "      <td>20</td>\n",
       "      <td>0</td>\n",
       "      <td>0</td>\n",
       "      <td>0</td>\n",
       "      <td>0.000013</td>\n",
       "      <td>0</td>\n",
       "      <td>0.000000</td>\n",
       "      <td>0.392002</td>\n",
       "      <td>0.272727</td>\n",
       "      <td>...</td>\n",
       "      <td>0</td>\n",
       "      <td>0</td>\n",
       "      <td>0</td>\n",
       "      <td>0</td>\n",
       "      <td>0</td>\n",
       "      <td>0</td>\n",
       "      <td>0</td>\n",
       "      <td>0</td>\n",
       "      <td>0</td>\n",
       "      <td>0</td>\n",
       "    </tr>\n",
       "  </tbody>\n",
       "</table>\n",
       "<p>5 rows × 29 columns</p>\n",
       "</div>"
      ],
      "text/plain": [
       "      candidate_keyword  length  is_named_entity  is_named_author  is_in_toc  \\\n",
       "0              a-laying       8                0                0          0   \n",
       "1       a-laying police      15                0                0          0   \n",
       "2              aardvark       8                0                0          0   \n",
       "3             abandoned       9                0                0          0   \n",
       "4  abandoned commitment      20                0                0          0   \n",
       "\n",
       "       freq  is_in_index     tfidf  importance  position_in_context  ...  \\\n",
       "0  0.000013            0  0.000000    0.662301             0.750000  ...   \n",
       "1  0.000013            0  0.000000    0.662301             0.750000  ...   \n",
       "2  0.000013            0  0.000000    0.644323             1.000000  ...   \n",
       "3  0.000038            0  0.009811    0.449342             0.611827  ...   \n",
       "4  0.000013            0  0.000000    0.392002             0.272727  ...   \n",
       "\n",
       "   POS_NOUN  POS_NUM  POS_PART  POS_PRON  POS_PROPN  POS_PUNCT  POS_SCONJ  \\\n",
       "0         1        0         0         0          0          0          0   \n",
       "1         0        0         0         0          0          0          0   \n",
       "2         1        0         0         0          0          0          0   \n",
       "3         0        0         0         0          0          0          0   \n",
       "4         0        0         0         0          0          0          0   \n",
       "\n",
       "   POS_SYM  POS_VERB  POS_X  \n",
       "0        0         0      0  \n",
       "1        0         0      0  \n",
       "2        0         0      0  \n",
       "3        0         1      0  \n",
       "4        0         0      0  \n",
       "\n",
       "[5 rows x 29 columns]"
      ]
     },
     "execution_count": 306,
     "metadata": {},
     "output_type": "execute_result"
    }
   ],
   "source": [
    "df_s_scaled.head()"
   ]
  },
  {
   "cell_type": "code",
   "execution_count": 307,
   "id": "1d26da84",
   "metadata": {},
   "outputs": [],
   "source": [
    "df_scaled.drop(columns=['candidate_keyword'], inplace=True)"
   ]
  },
  {
   "cell_type": "code",
   "execution_count": 308,
   "id": "cb52be7b",
   "metadata": {},
   "outputs": [],
   "source": [
    "df_s_scaled.drop(columns=['candidate_keyword'], inplace=True)"
   ]
  },
  {
   "cell_type": "code",
   "execution_count": 309,
   "id": "8373c548",
   "metadata": {},
   "outputs": [],
   "source": [
    "df_scaled_columns = df_scaled.columns"
   ]
  },
  {
   "cell_type": "code",
   "execution_count": 310,
   "id": "06919605",
   "metadata": {},
   "outputs": [],
   "source": [
    "df_s_scaled_columns = df_s_scaled.columns"
   ]
  },
  {
   "cell_type": "code",
   "execution_count": 311,
   "id": "771ecee3",
   "metadata": {},
   "outputs": [],
   "source": [
    "scaler = MinMaxScaler() "
   ]
  },
  {
   "cell_type": "code",
   "execution_count": 312,
   "id": "3dea07b3",
   "metadata": {},
   "outputs": [],
   "source": [
    "#not sure about this (do I need to concat or what?)\n",
    "df_scaled = scaler.fit_transform(df_scaled)\n",
    "df_scaled = pd.DataFrame(df_scaled, columns= df_scaled_columns)#not sure about this (do I need to concat or what?)"
   ]
  },
  {
   "cell_type": "code",
   "execution_count": 313,
   "id": "a20e1112",
   "metadata": {},
   "outputs": [],
   "source": [
    "df_s_scaled = scaler.fit_transform(df_s_scaled)\n",
    "df_s_scaled = pd.DataFrame(df_s_scaled, columns= df_s_scaled_columns)"
   ]
  },
  {
   "cell_type": "code",
   "execution_count": 314,
   "id": "804be99e",
   "metadata": {},
   "outputs": [],
   "source": [
    "df_scaled=df_scaled.rename(columns={\"is_in_index\": \"target\"})"
   ]
  },
  {
   "cell_type": "code",
   "execution_count": 315,
   "id": "d8247507",
   "metadata": {},
   "outputs": [],
   "source": [
    "df_s_scaled=df_s_scaled.rename(columns={\"is_in_index\": \"target\"})"
   ]
  },
  {
   "cell_type": "code",
   "execution_count": 320,
   "id": "a1fa23f3",
   "metadata": {},
   "outputs": [],
   "source": [
    "df_s_scaled_1=df_s_scaled.drop(columns=['POS_SYM', \n",
    "                                        'POS_PART', \n",
    "                                        'POS_PUNCT', \n",
    "                                        'POS_INTJ', \n",
    "                                        'POS_DET',\n",
    "                                        'POS_AUX',\n",
    "                                        'POS_SCONJ',\n",
    "                                        'POS_CCONJ',\n",
    "                                        'POS_X',\n",
    "                                        'POS_PRON',\n",
    "                                        'POS_ADP',\n",
    "                                        'POS_NUM'], errors='ignore')\n",
    "df_scaled_1=df_scaled.drop(columns=['POS_SYM', \n",
    "                                        'POS_PART', \n",
    "                                        'POS_PUNCT', \n",
    "                                        'POS_INTJ', \n",
    "                                        'POS_DET',\n",
    "                                        'POS_AUX',\n",
    "                                        'POS_SCONJ',\n",
    "                                        'POS_CCONJ',\n",
    "                                        'POS_X',\n",
    "                                        'POS_PRON',\n",
    "                                        'POS_ADP',\n",
    "                                        'POS_NUM'], errors='ignore)"
   ]
  },
  {
   "cell_type": "code",
   "execution_count": 322,
   "id": "c357a691",
   "metadata": {},
   "outputs": [
    {
     "name": "stdout",
     "output_type": "stream",
     "text": [
      "<class 'pandas.core.frame.DataFrame'>\n",
      "RangeIndex: 856871 entries, 0 to 856870\n",
      "Data columns (total 16 columns):\n",
      " #   Column               Non-Null Count   Dtype  \n",
      "---  ------               --------------   -----  \n",
      " 0   length               856871 non-null  float64\n",
      " 1   is_named_entity      856871 non-null  float64\n",
      " 2   is_named_author      856871 non-null  float64\n",
      " 3   is_in_toc            856871 non-null  float64\n",
      " 4   freq                 856871 non-null  float64\n",
      " 5   target               856871 non-null  float64\n",
      " 6   tfidf                856871 non-null  float64\n",
      " 7   importance           856871 non-null  float64\n",
      " 8   position_in_context  856871 non-null  float64\n",
      " 9   is_a_textbook_word   856871 non-null  float64\n",
      " 10  POS_ADJ              856871 non-null  float64\n",
      " 11  POS_ADV              856871 non-null  float64\n",
      " 12  POS_CHUNK            856871 non-null  float64\n",
      " 13  POS_NOUN             856871 non-null  float64\n",
      " 14  POS_PROPN            856871 non-null  float64\n",
      " 15  POS_VERB             856871 non-null  float64\n",
      "dtypes: float64(16)\n",
      "memory usage: 104.6 MB\n"
     ]
    }
   ],
   "source": [
    "df_scaled_1.info()"
   ]
  },
  {
   "cell_type": "code",
   "execution_count": null,
   "id": "e219b96d",
   "metadata": {},
   "outputs": [],
   "source": [
    "df_scaled.to_csv(\"../data/final_scaled.csv\", encoding = 'utf-8')"
   ]
  },
  {
   "cell_type": "code",
   "execution_count": 321,
   "id": "56df89d5",
   "metadata": {},
   "outputs": [],
   "source": [
    "df_scaled_1.to_csv(\"../data/final_scaled_1.csv\", encoding = 'utf-8')"
   ]
  },
  {
   "cell_type": "code",
   "execution_count": null,
   "id": "ea216e97",
   "metadata": {},
   "outputs": [],
   "source": [
    "df_s_scaled.to_csv(\"../data/final_scaled_small.csv\", encoding = 'utf-8')"
   ]
  },
  {
   "cell_type": "code",
   "execution_count": 323,
   "id": "66b98afe",
   "metadata": {},
   "outputs": [],
   "source": [
    "df_s_scaled_1.to_csv(\"../data/final_scaled_small_1.csv\", encoding = 'utf-8')"
   ]
  },
  {
   "cell_type": "markdown",
   "id": "d94338ce",
   "metadata": {},
   "source": [
    "# 2. Quick EDA"
   ]
  },
  {
   "cell_type": "code",
   "execution_count": 2,
   "id": "d180470b",
   "metadata": {},
   "outputs": [
    {
     "name": "stdout",
     "output_type": "stream",
     "text": [
      "<class 'pandas.core.frame.DataFrame'>\n",
      "Int64Index: 856871 entries, 0 to 856870\n",
      "Data columns (total 28 columns):\n",
      " #   Column               Non-Null Count   Dtype  \n",
      "---  ------               --------------   -----  \n",
      " 0   length               856871 non-null  float64\n",
      " 1   is_named_entity      856871 non-null  float64\n",
      " 2   is_named_author      856871 non-null  float64\n",
      " 3   is_in_toc            856871 non-null  float64\n",
      " 4   freq                 856871 non-null  float64\n",
      " 5   target               856871 non-null  float64\n",
      " 6   tfidf                856871 non-null  float64\n",
      " 7   importance           856871 non-null  float64\n",
      " 8   position_in_context  856871 non-null  float64\n",
      " 9   is_a_textbook_word   856871 non-null  float64\n",
      " 10  POS_ADJ              856871 non-null  float64\n",
      " 11  POS_ADP              856871 non-null  float64\n",
      " 12  POS_ADV              856871 non-null  float64\n",
      " 13  POS_AUX              856871 non-null  float64\n",
      " 14  POS_CCONJ            856871 non-null  float64\n",
      " 15  POS_CHUNK            856871 non-null  float64\n",
      " 16  POS_DET              856871 non-null  float64\n",
      " 17  POS_INTJ             856871 non-null  float64\n",
      " 18  POS_NOUN             856871 non-null  float64\n",
      " 19  POS_NUM              856871 non-null  float64\n",
      " 20  POS_PART             856871 non-null  float64\n",
      " 21  POS_PRON             856871 non-null  float64\n",
      " 22  POS_PROPN            856871 non-null  float64\n",
      " 23  POS_PUNCT            856871 non-null  float64\n",
      " 24  POS_SCONJ            856871 non-null  float64\n",
      " 25  POS_SYM              856871 non-null  float64\n",
      " 26  POS_VERB             856871 non-null  float64\n",
      " 27  POS_X                856871 non-null  float64\n",
      "dtypes: float64(28)\n",
      "memory usage: 189.6 MB\n"
     ]
    }
   ],
   "source": [
    "path = '../data/final_scaled.csv'\n",
    "df_scaled = pd.read_csv(path,index_col=0)\n",
    "df_scaled.info()"
   ]
  },
  {
   "cell_type": "code",
   "execution_count": 3,
   "id": "7439984e",
   "metadata": {},
   "outputs": [
    {
     "name": "stdout",
     "output_type": "stream",
     "text": [
      "<class 'pandas.core.frame.DataFrame'>\n",
      "Int64Index: 372650 entries, 0 to 372649\n",
      "Data columns (total 28 columns):\n",
      " #   Column               Non-Null Count   Dtype  \n",
      "---  ------               --------------   -----  \n",
      " 0   length               372650 non-null  float64\n",
      " 1   is_named_entity      372650 non-null  float64\n",
      " 2   is_named_author      372650 non-null  float64\n",
      " 3   is_in_toc            372650 non-null  float64\n",
      " 4   freq                 372650 non-null  float64\n",
      " 5   target               372650 non-null  float64\n",
      " 6   tfidf                372650 non-null  float64\n",
      " 7   importance           372650 non-null  float64\n",
      " 8   position_in_context  372650 non-null  float64\n",
      " 9   is_a_textbook_word   372650 non-null  float64\n",
      " 10  POS_ADJ              372650 non-null  float64\n",
      " 11  POS_ADP              372650 non-null  float64\n",
      " 12  POS_ADV              372650 non-null  float64\n",
      " 13  POS_AUX              372650 non-null  float64\n",
      " 14  POS_CCONJ            372650 non-null  float64\n",
      " 15  POS_CHUNK            372650 non-null  float64\n",
      " 16  POS_DET              372650 non-null  float64\n",
      " 17  POS_INTJ             372650 non-null  float64\n",
      " 18  POS_NOUN             372650 non-null  float64\n",
      " 19  POS_NUM              372650 non-null  float64\n",
      " 20  POS_PART             372650 non-null  float64\n",
      " 21  POS_PRON             372650 non-null  float64\n",
      " 22  POS_PROPN            372650 non-null  float64\n",
      " 23  POS_PUNCT            372650 non-null  float64\n",
      " 24  POS_SCONJ            372650 non-null  float64\n",
      " 25  POS_SYM              372650 non-null  float64\n",
      " 26  POS_VERB             372650 non-null  float64\n",
      " 27  POS_X                372650 non-null  float64\n",
      "dtypes: float64(28)\n",
      "memory usage: 82.4 MB\n"
     ]
    }
   ],
   "source": [
    "path = '../data/final_scaled_small.csv'\n",
    "df_s_scaled = pd.read_csv(path,index_col=0)\n",
    "df_s_scaled.info()"
   ]
  },
  {
   "cell_type": "markdown",
   "id": "13d20747",
   "metadata": {},
   "source": [
    "### Pairplot all columns"
   ]
  },
  {
   "cell_type": "code",
   "execution_count": null,
   "id": "c387f4e1",
   "metadata": {},
   "outputs": [],
   "source": [
    "g = sns.pairplot(df_scaled, y_vars= df_scaled.columns.values, x_vars=\"target\")\n",
    "g.fig.set_size_inches(7,14)"
   ]
  },
  {
   "cell_type": "code",
   "execution_count": null,
   "id": "30a07e4a",
   "metadata": {},
   "outputs": [],
   "source": [
    "pairplot=sns.pairplot(df_scaled, hue='target')"
   ]
  },
  {
   "cell_type": "code",
   "execution_count": null,
   "id": "aa8876d0",
   "metadata": {},
   "outputs": [],
   "source": [
    "pairplot"
   ]
  },
  {
   "cell_type": "code",
   "execution_count": null,
   "id": "c21a2d49",
   "metadata": {},
   "outputs": [],
   "source": [
    "pairplot.figure.savefig(\"..images/images/pairplot.png\")"
   ]
  },
  {
   "cell_type": "markdown",
   "id": "b5f4d36c",
   "metadata": {},
   "source": [
    "### Correlation heatmap"
   ]
  },
  {
   "cell_type": "code",
   "execution_count": null,
   "id": "104e955d",
   "metadata": {},
   "outputs": [],
   "source": [
    "plt.figure(figsize=(4, 10))\n",
    "\n",
    "heatmap = sns.heatmap(df_scaled.corr()[['target']].sort_values(by='target', ascending=False), \n",
    "                      vmin=-1, \n",
    "                      vmax=1,\n",
    "                      annot=True,\n",
    "                      cmap='BrBG')\n",
    "\n",
    "heatmap.set_title('Index Correlation', fontdict={'fontsize':18}, pad=16);\n",
    "\n",
    "plt.show()"
   ]
  },
  {
   "cell_type": "code",
   "execution_count": null,
   "id": "b5540ef7",
   "metadata": {},
   "outputs": [],
   "source": [
    "heatmap.figure.savefig(\"../images/heatmap.png\", bbox_inches=\"tight\")"
   ]
  },
  {
   "cell_type": "code",
   "execution_count": null,
   "id": "db426572",
   "metadata": {},
   "outputs": [],
   "source": [
    "plt.figure(figsize=(4, 10))\n",
    "\n",
    "heatmap_s = sns.heatmap(df_s_scaled.corr()[['target']].sort_values(by='target', ascending=False), \n",
    "                      vmin=-1, \n",
    "                      vmax=1,\n",
    "                      annot=True,\n",
    "                      cmap='BrBG')\n",
    "\n",
    "heatmap_s.set_title('Index Correlation', fontdict={'fontsize':18}, pad=16);\n",
    "\n",
    "plt.show()"
   ]
  },
  {
   "cell_type": "code",
   "execution_count": null,
   "id": "c242fdb0",
   "metadata": {},
   "outputs": [],
   "source": [
    "heatmap_s.figure.savefig(\"../images/heatmap_s.png\", bbox_inches=\"tight\")"
   ]
  },
  {
   "cell_type": "markdown",
   "id": "f7958a63",
   "metadata": {},
   "source": [
    "### Types of books"
   ]
  },
  {
   "cell_type": "code",
   "execution_count": 164,
   "id": "d30630d4",
   "metadata": {},
   "outputs": [],
   "source": [
    "types_books={'Philosophy': 10, 'Linguistics': 6,  'Logic': 2, 'Economics': 1,  'Data Science': 1, 'Maths': 1, 'Astronomy': 1}"
   ]
  },
  {
   "cell_type": "code",
   "execution_count": 165,
   "id": "89fc47d4",
   "metadata": {},
   "outputs": [],
   "source": [
    "keys = list(types_books.keys())\n",
    "vals = [types_books[k] for k in keys]"
   ]
  },
  {
   "cell_type": "code",
   "execution_count": 190,
   "id": "bd9cc118",
   "metadata": {},
   "outputs": [
    {
     "data": {
      "image/png": "[encoded data removed]",
      "text/plain": [
       "<Figure size 1440x576 with 1 Axes>"
      ]
     },
     "metadata": {
      "needs_background": "light"
     },
     "output_type": "display_data"
    }
   ],
   "source": [
    "plt.figure(figsize=(20, 8))\n",
    "types_of_books=sns.barplot(y=keys, x=vals, palette=\"flare\")\n",
    "types_of_books.set_title('Number of books per field', fontdict={'fontsize':25}, pad=16)\n",
    "plt.xticks(np.arange(0, 11, 1.0))\n",
    "plt.tick_params(axis='y', which='major', labelsize=20)\n",
    "plt.tick_params(axis='x', which='major', labelsize=20)\n",
    "plt.show()"
   ]
  },
  {
   "cell_type": "code",
   "execution_count": 191,
   "id": "4899f484",
   "metadata": {},
   "outputs": [],
   "source": [
    "types_of_books.figure.savefig(\"../images/types_of_books.png\", bbox_inches=\"tight\")"
   ]
  },
  {
   "cell_type": "markdown",
   "id": "784d2e12",
   "metadata": {},
   "source": [
    "### Visualization comparison metrics"
   ]
  },
  {
   "cell_type": "code",
   "execution_count": 373,
   "id": "c1d43d83",
   "metadata": {},
   "outputs": [],
   "source": [
    "comparison_metrics=[['Accuracy','General model',0.9906481704802732],\n",
    "                    ['Accuracy','Philosophy model',0.992522026924281],\n",
    "                    ['Precision','General model',0.7207505518763797],\n",
    "                    ['Precision','Philosophy model',0.7841328413284133], \n",
    "                    ['Recall','General model', 0.23288159771754635],\n",
    "                    ['Recall','Philosophy model',0.3715034965034965],\n",
    "                    ['F1 score','General model',0.35202156334231804],\n",
    "                    ['F1 score','Philosophy model',0.5041518386714117]]"
   ]
  },
  {
   "cell_type": "code",
   "execution_count": 374,
   "id": "da310f41",
   "metadata": {},
   "outputs": [],
   "source": [
    "comparison_metrics_df=pd.DataFrame(comparison_metrics, columns=['Metric','Model', 'Value'])"
   ]
  },
  {
   "cell_type": "code",
   "execution_count": 375,
   "id": "0e2a17f0",
   "metadata": {},
   "outputs": [
    {
     "data": {
      "text/html": [
       "<div>\n",
       "<style scoped>\n",
       "    .dataframe tbody tr th:only-of-type {\n",
       "        vertical-align: middle;\n",
       "    }\n",
       "\n",
       "    .dataframe tbody tr th {\n",
       "        vertical-align: top;\n",
       "    }\n",
       "\n",
       "    .dataframe thead th {\n",
       "        text-align: right;\n",
       "    }\n",
       "</style>\n",
       "<table border=\"1\" class=\"dataframe\">\n",
       "  <thead>\n",
       "    <tr style=\"text-align: right;\">\n",
       "      <th></th>\n",
       "      <th>Metric</th>\n",
       "      <th>Model</th>\n",
       "      <th>Value</th>\n",
       "    </tr>\n",
       "  </thead>\n",
       "  <tbody>\n",
       "    <tr>\n",
       "      <th>0</th>\n",
       "      <td>Accuracy</td>\n",
       "      <td>General model</td>\n",
       "      <td>0.990648</td>\n",
       "    </tr>\n",
       "    <tr>\n",
       "      <th>1</th>\n",
       "      <td>Accuracy</td>\n",
       "      <td>Philosophy model</td>\n",
       "      <td>0.992522</td>\n",
       "    </tr>\n",
       "    <tr>\n",
       "      <th>2</th>\n",
       "      <td>Precision</td>\n",
       "      <td>General model</td>\n",
       "      <td>0.720751</td>\n",
       "    </tr>\n",
       "    <tr>\n",
       "      <th>3</th>\n",
       "      <td>Precision</td>\n",
       "      <td>Philosophy model</td>\n",
       "      <td>0.784133</td>\n",
       "    </tr>\n",
       "    <tr>\n",
       "      <th>4</th>\n",
       "      <td>Recall</td>\n",
       "      <td>General model</td>\n",
       "      <td>0.232882</td>\n",
       "    </tr>\n",
       "    <tr>\n",
       "      <th>5</th>\n",
       "      <td>Recall</td>\n",
       "      <td>Philosophy model</td>\n",
       "      <td>0.371503</td>\n",
       "    </tr>\n",
       "    <tr>\n",
       "      <th>6</th>\n",
       "      <td>F1 score</td>\n",
       "      <td>General model</td>\n",
       "      <td>0.352022</td>\n",
       "    </tr>\n",
       "    <tr>\n",
       "      <th>7</th>\n",
       "      <td>F1 score</td>\n",
       "      <td>Philosophy model</td>\n",
       "      <td>0.504152</td>\n",
       "    </tr>\n",
       "  </tbody>\n",
       "</table>\n",
       "</div>"
      ],
      "text/plain": [
       "      Metric             Model     Value\n",
       "0   Accuracy     General model  0.990648\n",
       "1   Accuracy  Philosophy model  0.992522\n",
       "2  Precision     General model  0.720751\n",
       "3  Precision  Philosophy model  0.784133\n",
       "4     Recall     General model  0.232882\n",
       "5     Recall  Philosophy model  0.371503\n",
       "6   F1 score     General model  0.352022\n",
       "7   F1 score  Philosophy model  0.504152"
      ]
     },
     "execution_count": 375,
     "metadata": {},
     "output_type": "execute_result"
    }
   ],
   "source": [
    "comparison_metrics_df"
   ]
  },
  {
   "cell_type": "code",
   "execution_count": 386,
   "id": "db50ea1c",
   "metadata": {},
   "outputs": [
    {
     "data": {
      "image/png": "[encoded data removed]",
      "text/plain": [
       "<Figure size 432x432 with 1 Axes>"
      ]
     },
     "metadata": {
      "needs_background": "light"
     },
     "output_type": "display_data"
    }
   ],
   "source": [
    "# Draw a nested barplot by species and sex\n",
    "comparison_metrics_img = sns.catplot(\n",
    "    data=comparison_metrics_df, kind=\"bar\",\n",
    "    x=\"Metric\", y=\"Value\", hue=\"Model\",\n",
    "    ci=\"sd\", palette=['lightgrey','darksalmon'], alpha=.6, height=6, legend=False\n",
    ")\n",
    "\n",
    "plt.xlabel('Metrics',fontsize=17)\n",
    "plt.ylabel('')\n",
    "plt.tick_params(axis='both', labelsize=15)\n",
    "\n",
    "\n",
    "plt.legend(loc = 2,fontsize=14, bbox_to_anchor = (0.55,0.95))\n",
    "\n",
    "plt.savefig(\"../images/comparison_metrics_img.png\", bbox_inches=\"tight\")"
   ]
  },
  {
   "cell_type": "markdown",
   "id": "f70b3682",
   "metadata": {},
   "source": [
    "# 3. Train and test the models"
   ]
  },
  {
   "cell_type": "code",
   "execution_count": 180,
   "id": "c96473d9",
   "metadata": {},
   "outputs": [],
   "source": [
    "X = df_scaled.drop('target', axis= 1)\n",
    "y = df_scaled.target"
   ]
  },
  {
   "cell_type": "code",
   "execution_count": 324,
   "id": "ca2c45a2",
   "metadata": {},
   "outputs": [],
   "source": [
    "X1 = df_scaled_1.drop('target', axis= 1)\n",
    "y1 = df_scaled_1.target"
   ]
  },
  {
   "cell_type": "code",
   "execution_count": 181,
   "id": "02b5c5d6",
   "metadata": {},
   "outputs": [],
   "source": [
    "X_s = df_s_scaled.drop('target', axis= 1)\n",
    "y_s = df_s_scaled.target"
   ]
  },
  {
   "cell_type": "code",
   "execution_count": 325,
   "id": "2cd190a2",
   "metadata": {},
   "outputs": [],
   "source": [
    "X_s1 = df_s_scaled_1.drop('target', axis= 1)\n",
    "y_s1 = df_s_scaled_1.target"
   ]
  },
  {
   "cell_type": "code",
   "execution_count": 182,
   "id": "c821f737",
   "metadata": {},
   "outputs": [],
   "source": [
    "X_train, X_test, y_train, y_test = train_test_split(X, y, test_size=0.3,\n",
    "                                                    random_state=42, stratify=y)"
   ]
  },
  {
   "cell_type": "code",
   "execution_count": 326,
   "id": "c821f737",
   "metadata": {},
   "outputs": [],
   "source": [
    "X_train1, X_test1, y_train1, y_test1 = train_test_split(X1, y1, test_size=0.3,\n",
    "                                                    random_state=42, stratify=y1)"
   ]
  },
  {
   "cell_type": "code",
   "execution_count": 183,
   "id": "62b9f9e1",
   "metadata": {},
   "outputs": [],
   "source": [
    "X_s_train, X_s_test, y_s_train, y_s_test = train_test_split(X_s, y_s, test_size=0.3,\n",
    "                                                    random_state=42, stratify=y_s)"
   ]
  },
  {
   "cell_type": "code",
   "execution_count": 327,
   "id": "62b9f9e1",
   "metadata": {},
   "outputs": [],
   "source": [
    "X_s_train1, X_s_test1, y_s_train1, y_s_test1 = train_test_split(X_s1, y_s1, test_size=0.3,\n",
    "                                                    random_state=42, stratify=y_s1)"
   ]
  },
  {
   "cell_type": "markdown",
   "id": "ee247cc0",
   "metadata": {},
   "source": [
    "## Oversampling"
   ]
  },
  {
   "cell_type": "code",
   "execution_count": 328,
   "id": "773b0c05",
   "metadata": {},
   "outputs": [],
   "source": [
    "smote = SMOTE(random_state=42)"
   ]
  },
  {
   "cell_type": "code",
   "execution_count": null,
   "id": "edc89c50",
   "metadata": {},
   "outputs": [],
   "source": [
    "X_sm,y_sm=smote.fit_resample(X_train, y_train)"
   ]
  },
  {
   "cell_type": "code",
   "execution_count": 329,
   "id": "edc89c50",
   "metadata": {},
   "outputs": [],
   "source": [
    "X_sm1,y_sm1=smote.fit_resample(X_train1, y_train1)"
   ]
  },
  {
   "cell_type": "code",
   "execution_count": null,
   "id": "b7a06bbd",
   "metadata": {},
   "outputs": [],
   "source": [
    "X_sm_s,y_sm_s=smote.fit_resample(X_s_train, y_s_train)"
   ]
  },
  {
   "cell_type": "code",
   "execution_count": 330,
   "id": "b7a06bbd",
   "metadata": {},
   "outputs": [],
   "source": [
    "X_sm_s1,y_sm_s1=smote.fit_resample(X_s_train1, y_s_train1)"
   ]
  },
  {
   "cell_type": "code",
   "execution_count": null,
   "id": "33d78395",
   "metadata": {},
   "outputs": [],
   "source": [
    "pickle.dump(X_sm, open('../models/X_sm.sav', 'wb'))\n",
    "pickle.dump(y_sm, open('../models/y_sm.sav', 'wb'))"
   ]
  },
  {
   "cell_type": "code",
   "execution_count": 331,
   "id": "33d78395",
   "metadata": {},
   "outputs": [],
   "source": [
    "pickle.dump(X_sm1, open('../models/X_sm1.sav', 'wb'))\n",
    "pickle.dump(y_sm1, open('../models/y_sm1.sav', 'wb'))"
   ]
  },
  {
   "cell_type": "code",
   "execution_count": null,
   "id": "95c0b352",
   "metadata": {},
   "outputs": [],
   "source": [
    "pickle.dump(X_sm_s, open('../models/X_sm_s.sav', 'wb'))\n",
    "pickle.dump(y_sm_s, open('../models/y_sm_s.sav', 'wb'))"
   ]
  },
  {
   "cell_type": "code",
   "execution_count": 332,
   "id": "95c0b352",
   "metadata": {},
   "outputs": [],
   "source": [
    "pickle.dump(X_sm_s1, open('../models/X_sm_s1.sav', 'wb'))\n",
    "pickle.dump(y_sm_s1, open('../models/y_sm_s1.sav', 'wb'))"
   ]
  },
  {
   "cell_type": "code",
   "execution_count": 184,
   "id": "bdb50af6",
   "metadata": {},
   "outputs": [],
   "source": [
    "X_sm = pickle.load(open('../models/X_sm.sav', 'rb'))\n",
    "y_sm = pickle.load(open('../models/y_sm.sav', 'rb'))"
   ]
  },
  {
   "cell_type": "code",
   "execution_count": 333,
   "id": "bdb50af6",
   "metadata": {},
   "outputs": [],
   "source": [
    "X_sm1 = pickle.load(open('../models/X_sm1.sav', 'rb'))\n",
    "y_sm1 = pickle.load(open('../models/y_sm1.sav', 'rb'))"
   ]
  },
  {
   "cell_type": "code",
   "execution_count": 10,
   "id": "96a69ccd",
   "metadata": {},
   "outputs": [],
   "source": [
    "X_sm_s = pickle.load(open('../models/X_sm_s.sav', 'rb'))\n",
    "y_sm_s = pickle.load(open('../models/y_sm_s.sav', 'rb'))"
   ]
  },
  {
   "cell_type": "code",
   "execution_count": 334,
   "id": "6e386b78",
   "metadata": {},
   "outputs": [],
   "source": [
    "X_sm_s1 = pickle.load(open('../models/X_sm_s1.sav', 'rb'))\n",
    "y_sm_s1 = pickle.load(open('../models/y_sm_s1.sav', 'rb'))"
   ]
  },
  {
   "cell_type": "code",
   "execution_count": null,
   "id": "6fd87f3b",
   "metadata": {},
   "outputs": [],
   "source": [
    "print('\\nBefore OVER-sampling\\n', y_train.value_counts())\n",
    "print('\\nAfter OVER-sampling\\n', y_sm.value_counts())"
   ]
  },
  {
   "cell_type": "code",
   "execution_count": 335,
   "id": "6fd87f3b",
   "metadata": {},
   "outputs": [
    {
     "name": "stdout",
     "output_type": "stream",
     "text": [
      "\n",
      "Before OVER-sampling\n",
      " 0.0    593265\n",
      "1.0      6544\n",
      "Name: target, dtype: int64\n",
      "\n",
      "After OVER-sampling\n",
      " 0.0    593265\n",
      "1.0    593265\n",
      "Name: target, dtype: int64\n"
     ]
    }
   ],
   "source": [
    "print('\\nBefore OVER-sampling\\n', y_train1.value_counts())\n",
    "print('\\nAfter OVER-sampling\\n', y_sm1.value_counts())"
   ]
  },
  {
   "cell_type": "code",
   "execution_count": null,
   "id": "68959740",
   "metadata": {},
   "outputs": [],
   "source": [
    "print('\\nBefore OVER-sampling\\n', y_s_train.value_counts())\n",
    "print('\\nAfter OVER-sampling\\n', y_sm_s.value_counts())"
   ]
  },
  {
   "cell_type": "code",
   "execution_count": 336,
   "id": "b96a9ee2",
   "metadata": {},
   "outputs": [
    {
     "name": "stdout",
     "output_type": "stream",
     "text": [
      "\n",
      "Before OVER-sampling\n",
      " 0.0    258184\n",
      "1.0      2671\n",
      "Name: target, dtype: int64\n",
      "\n",
      "After OVER-sampling\n",
      " 0.0    258184\n",
      "1.0    258184\n",
      "Name: target, dtype: int64\n"
     ]
    }
   ],
   "source": [
    "print('\\nBefore OVER-sampling\\n', y_s_train1.value_counts())\n",
    "print('\\nAfter OVER-sampling\\n', y_sm_s1.value_counts())"
   ]
  },
  {
   "cell_type": "markdown",
   "id": "0dc184e6",
   "metadata": {},
   "source": [
    "## XGBoost classifier"
   ]
  },
  {
   "cell_type": "markdown",
   "id": "42a94510",
   "metadata": {},
   "source": [
    "### Big dataset"
   ]
  },
  {
   "cell_type": "code",
   "execution_count": 342,
   "id": "dee6c64f",
   "metadata": {},
   "outputs": [],
   "source": [
    "xgb_model=xgb.XGBClassifier(random_state=42)"
   ]
  },
  {
   "cell_type": "code",
   "execution_count": null,
   "id": "3d649413",
   "metadata": {
    "scrolled": true
   },
   "outputs": [],
   "source": [
    "xgb_mod=xgb_model.fit(X_train,y_train.values.ravel()) "
   ]
  },
  {
   "cell_type": "code",
   "execution_count": 355,
   "id": "9cbfd717",
   "metadata": {},
   "outputs": [
    {
     "name": "stderr",
     "output_type": "stream",
     "text": [
      "The use of label encoder in XGBClassifier is deprecated and will be removed in a future release. To remove this warning, do the following: 1) Pass option use_label_encoder=False when constructing XGBClassifier object; and 2) Encode your labels (y) as integers starting with 0, i.e. 0, 1, 2, ..., [num_class - 1].\n",
      "\n"
     ]
    },
    {
     "name": "stdout",
     "output_type": "stream",
     "text": [
      "[13:02:43] WARNING: /opt/concourse/worker/volumes/live/7a2b9f41-3287-451b-6691-43e9a6c0910f/volume/xgboost-split_1619728204606/work/src/learner.cc:1061: Starting in XGBoost 1.3.0, the default evaluation metric used with the objective 'binary:logistic' was changed from 'error' to 'logloss'. Explicitly set eval_metric if you'd like to restore the old behavior.\n"
     ]
    }
   ],
   "source": [
    "xgb_mod1=xgb_model.fit(X_train1,y_train1.values.ravel()) "
   ]
  },
  {
   "cell_type": "code",
   "execution_count": null,
   "id": "2f6247c6",
   "metadata": {},
   "outputs": [],
   "source": [
    "pickle.dump(xgb_mod, open('../models/xgb_mod.sav', 'wb'))"
   ]
  },
  {
   "cell_type": "code",
   "execution_count": 356,
   "id": "2f6247c6",
   "metadata": {},
   "outputs": [],
   "source": [
    "pickle.dump(xgb_mod1, open('../models/xgb_mod1.sav', 'wb'))"
   ]
  },
  {
   "cell_type": "code",
   "execution_count": null,
   "id": "a0a80970",
   "metadata": {},
   "outputs": [],
   "source": [
    "xgb_mod = pickle.load(open('../models/xgb_mod.sav', 'rb'))"
   ]
  },
  {
   "cell_type": "code",
   "execution_count": 357,
   "id": "a0a80970",
   "metadata": {},
   "outputs": [],
   "source": [
    "xgb_mod1 = pickle.load(open('../models/xgb_mod1.sav', 'rb'))"
   ]
  },
  {
   "cell_type": "code",
   "execution_count": null,
   "id": "1f5b84d0",
   "metadata": {},
   "outputs": [],
   "source": [
    "y_pred_xgb = xgb_mod.predict(X_test)"
   ]
  },
  {
   "cell_type": "code",
   "execution_count": 358,
   "id": "9a2f923a",
   "metadata": {},
   "outputs": [],
   "source": [
    "y_pred_xgb1 = xgb_mod1.predict(X_test1)"
   ]
  },
  {
   "cell_type": "code",
   "execution_count": null,
   "id": "5791e212",
   "metadata": {},
   "outputs": [],
   "source": [
    "print('Accuracy Score : ' + str(accuracy_score(y_test,y_pred_xgb)))\n",
    "print('Precision Score : ' + str(precision_score(y_test,y_pred_xgb)))\n",
    "print('Recall Score : ' + str(recall_score(y_test,y_pred_xgb)))\n",
    "print('F1 Score : ' + str(f1_score(y_test,y_pred_xgb)))"
   ]
  },
  {
   "cell_type": "code",
   "execution_count": 359,
   "id": "8b1ad41d",
   "metadata": {},
   "outputs": [
    {
     "name": "stdout",
     "output_type": "stream",
     "text": [
      "Accuracy Score : 0.9906481704802732\n",
      "Precision Score : 0.7207505518763797\n",
      "Recall Score : 0.23288159771754635\n",
      "F1 Score : 0.35202156334231804\n"
     ]
    }
   ],
   "source": [
    "print('Accuracy Score : ' + str(accuracy_score(y_test1,y_pred_xgb1)))\n",
    "print('Precision Score : ' + str(precision_score(y_test1,y_pred_xgb1)))\n",
    "print('Recall Score : ' + str(recall_score(y_test1,y_pred_xgb1)))\n",
    "print('F1 Score : ' + str(f1_score(y_test1,y_pred_xgb1)))"
   ]
  },
  {
   "cell_type": "markdown",
   "id": "42a94510",
   "metadata": {},
   "source": [
    "### Big dataset with SMOTE"
   ]
  },
  {
   "cell_type": "code",
   "execution_count": 12,
   "id": "3d649413",
   "metadata": {
    "scrolled": true
   },
   "outputs": [
    {
     "name": "stderr",
     "output_type": "stream",
     "text": [
      "The use of label encoder in XGBClassifier is deprecated and will be removed in a future release. To remove this warning, do the following: 1) Pass option use_label_encoder=False when constructing XGBClassifier object; and 2) Encode your labels (y) as integers starting with 0, i.e. 0, 1, 2, ..., [num_class - 1].\n",
      "\n"
     ]
    },
    {
     "name": "stdout",
     "output_type": "stream",
     "text": [
      "[16:36:13] WARNING: /opt/concourse/worker/volumes/live/7a2b9f41-3287-451b-6691-43e9a6c0910f/volume/xgboost-split_1619728204606/work/src/learner.cc:1061: Starting in XGBoost 1.3.0, the default evaluation metric used with the objective 'binary:logistic' was changed from 'error' to 'logloss'. Explicitly set eval_metric if you'd like to restore the old behavior.\n"
     ]
    }
   ],
   "source": [
    "xgb_mod_sm=xgb_model.fit(X_sm,y_sm.values.ravel()) "
   ]
  },
  {
   "cell_type": "code",
   "execution_count": 345,
   "id": "3d649413",
   "metadata": {
    "scrolled": true
   },
   "outputs": [
    {
     "name": "stdout",
     "output_type": "stream",
     "text": [
      "[12:28:32] WARNING: /opt/concourse/worker/volumes/live/7a2b9f41-3287-451b-6691-43e9a6c0910f/volume/xgboost-split_1619728204606/work/src/learner.cc:1061: Starting in XGBoost 1.3.0, the default evaluation metric used with the objective 'binary:logistic' was changed from 'error' to 'logloss'. Explicitly set eval_metric if you'd like to restore the old behavior.\n"
     ]
    }
   ],
   "source": [
    "xgb_mod_sm1=xgb_model.fit(X_sm1,y_sm1.values.ravel()) "
   ]
  },
  {
   "cell_type": "code",
   "execution_count": 13,
   "id": "2f6247c6",
   "metadata": {},
   "outputs": [],
   "source": [
    "pickle.dump(xgb_mod_sm, open('../models/xgb_mod_sm.sav', 'wb'))"
   ]
  },
  {
   "cell_type": "code",
   "execution_count": 346,
   "id": "2f6247c6",
   "metadata": {},
   "outputs": [],
   "source": [
    "pickle.dump(xgb_mod_sm1, open('../models/xgb_mod_sm1.sav', 'wb'))"
   ]
  },
  {
   "cell_type": "code",
   "execution_count": 178,
   "id": "a0a80970",
   "metadata": {},
   "outputs": [],
   "source": [
    "xgb_mod_sm = pickle.load(open('../models/xgb_mod_sm.sav', 'rb'))"
   ]
  },
  {
   "cell_type": "code",
   "execution_count": 347,
   "id": "fda61664",
   "metadata": {},
   "outputs": [],
   "source": [
    "xgb_mod_sm1 = pickle.load(open('../models/xgb_mod_sm1.sav', 'rb'))"
   ]
  },
  {
   "cell_type": "code",
   "execution_count": 15,
   "id": "1f5b84d0",
   "metadata": {},
   "outputs": [],
   "source": [
    "y_pred_xgb_sm = xgb_mod_sm.predict(X_test)"
   ]
  },
  {
   "cell_type": "code",
   "execution_count": 348,
   "id": "2d120d57",
   "metadata": {},
   "outputs": [],
   "source": [
    "y_pred_xgb_sm1 = xgb_mod_sm1.predict(X_test1)"
   ]
  },
  {
   "cell_type": "code",
   "execution_count": 16,
   "id": "5791e212",
   "metadata": {},
   "outputs": [
    {
     "name": "stdout",
     "output_type": "stream",
     "text": [
      "Accuracy Score : 0.9675914759863379\n",
      "Precision Score : 0.19345535219079313\n",
      "Recall Score : 0.6219686162624821\n",
      "F1 Score : 0.29511803029021066\n"
     ]
    }
   ],
   "source": [
    "print('Accuracy Score : ' + str(accuracy_score(y_test,y_pred_xgb_sm)))\n",
    "print('Precision Score : ' + str(precision_score(y_test,y_pred_xgb_sm)))\n",
    "print('Recall Score : ' + str(recall_score(y_test,y_pred_xgb_sm)))\n",
    "print('F1 Score : ' + str(f1_score(y_test,y_pred_xgb_sm)))"
   ]
  },
  {
   "cell_type": "code",
   "execution_count": 349,
   "id": "f43044e6",
   "metadata": {},
   "outputs": [
    {
     "name": "stdout",
     "output_type": "stream",
     "text": [
      "Accuracy Score : 0.967105211972209\n",
      "Precision Score : 0.19053876478318002\n",
      "Recall Score : 0.6205420827389444\n",
      "F1 Score : 0.2915549597855228\n"
     ]
    }
   ],
   "source": [
    "print('Accuracy Score : ' + str(accuracy_score(y_test1,y_pred_xgb_sm1)))\n",
    "print('Precision Score : ' + str(precision_score(y_test1,y_pred_xgb_sm1)))\n",
    "print('Recall Score : ' + str(recall_score(y_test1,y_pred_xgb_sm1)))\n",
    "print('F1 Score : ' + str(f1_score(y_test1,y_pred_xgb_sm1)))"
   ]
  },
  {
   "cell_type": "markdown",
   "id": "4d27f512",
   "metadata": {},
   "source": [
    "### Small dataset"
   ]
  },
  {
   "cell_type": "code",
   "execution_count": null,
   "id": "8907c5dd",
   "metadata": {},
   "outputs": [],
   "source": [
    "xgb_mod_s=xgb_model.fit(X_s_train,y_s_train.values.ravel()) "
   ]
  },
  {
   "cell_type": "code",
   "execution_count": 366,
   "id": "8907c5dd",
   "metadata": {},
   "outputs": [
    {
     "name": "stderr",
     "output_type": "stream",
     "text": [
      "The use of label encoder in XGBClassifier is deprecated and will be removed in a future release. To remove this warning, do the following: 1) Pass option use_label_encoder=False when constructing XGBClassifier object; and 2) Encode your labels (y) as integers starting with 0, i.e. 0, 1, 2, ..., [num_class - 1].\n",
      "\n"
     ]
    },
    {
     "name": "stdout",
     "output_type": "stream",
     "text": [
      "[13:08:22] WARNING: /opt/concourse/worker/volumes/live/7a2b9f41-3287-451b-6691-43e9a6c0910f/volume/xgboost-split_1619728204606/work/src/learner.cc:1061: Starting in XGBoost 1.3.0, the default evaluation metric used with the objective 'binary:logistic' was changed from 'error' to 'logloss'. Explicitly set eval_metric if you'd like to restore the old behavior.\n"
     ]
    }
   ],
   "source": [
    "xgb_mod_s1=xgb_model.fit(X_s_train1,y_s_train1.values.ravel()) "
   ]
  },
  {
   "cell_type": "code",
   "execution_count": null,
   "id": "a91c385d",
   "metadata": {},
   "outputs": [],
   "source": [
    "pickle.dump(xgb_mod_s, open('../models/xgb_mod_s.sav', 'wb'))"
   ]
  },
  {
   "cell_type": "code",
   "execution_count": 362,
   "id": "3f6b9511",
   "metadata": {},
   "outputs": [],
   "source": [
    "pickle.dump(xgb_mod_s1, open('../models/xgb_mod_s1.sav', 'wb'))"
   ]
  },
  {
   "cell_type": "code",
   "execution_count": null,
   "id": "5b9fad3b",
   "metadata": {},
   "outputs": [],
   "source": [
    "xgb_mod_s = pickle.load(open('../models/xgb_mod_s.sav', 'rb'))"
   ]
  },
  {
   "cell_type": "code",
   "execution_count": 363,
   "id": "5b9fad3b",
   "metadata": {},
   "outputs": [],
   "source": [
    "xgb_mod_s1 = pickle.load(open('../models/xgb_mod_s1.sav', 'rb'))"
   ]
  },
  {
   "cell_type": "code",
   "execution_count": null,
   "id": "8c95a829",
   "metadata": {},
   "outputs": [],
   "source": [
    "y_pred_xgb_s = xgb_mod_s.predict(X_s_test)"
   ]
  },
  {
   "cell_type": "code",
   "execution_count": 367,
   "id": "8c95a829",
   "metadata": {},
   "outputs": [],
   "source": [
    "y_pred_xgb_s1 = xgb_mod_s1.predict(X_s_test1)"
   ]
  },
  {
   "cell_type": "code",
   "execution_count": null,
   "id": "5ac31b4d",
   "metadata": {},
   "outputs": [],
   "source": [
    "print('Accuracy Score : ' + str(accuracy_score(y_s_test,y_pred_xgb_s)))\n",
    "print('Precision Score : ' + str(precision_score(y_s_test,y_pred_xgb_s)))\n",
    "print('Recall Score : ' + str(recall_score(y_s_test,y_pred_xgb_s)))\n",
    "print('F1 Score : ' + str(f1_score(y_s_test,y_pred_xgb_s)))"
   ]
  },
  {
   "cell_type": "code",
   "execution_count": 368,
   "id": "4d83e889",
   "metadata": {},
   "outputs": [
    {
     "name": "stdout",
     "output_type": "stream",
     "text": [
      "Accuracy Score : 0.992522026924281\n",
      "Precision Score : 0.7841328413284133\n",
      "Recall Score : 0.3715034965034965\n",
      "F1 Score : 0.5041518386714117\n"
     ]
    }
   ],
   "source": [
    "print('Accuracy Score : ' + str(accuracy_score(y_s_test1,y_pred_xgb_s1)))\n",
    "print('Precision Score : ' + str(precision_score(y_s_test1,y_pred_xgb_s1)))\n",
    "print('Recall Score : ' + str(recall_score(y_s_test1,y_pred_xgb_s1)))\n",
    "print('F1 Score : ' + str(f1_score(y_s_test1,y_pred_xgb_s1)))"
   ]
  },
  {
   "cell_type": "markdown",
   "id": "4d27f512",
   "metadata": {},
   "source": [
    "### Small dataset with SMOTE"
   ]
  },
  {
   "cell_type": "code",
   "execution_count": 17,
   "id": "8907c5dd",
   "metadata": {},
   "outputs": [
    {
     "name": "stderr",
     "output_type": "stream",
     "text": [
      "The use of label encoder in XGBClassifier is deprecated and will be removed in a future release. To remove this warning, do the following: 1) Pass option use_label_encoder=False when constructing XGBClassifier object; and 2) Encode your labels (y) as integers starting with 0, i.e. 0, 1, 2, ..., [num_class - 1].\n",
      "\n"
     ]
    },
    {
     "name": "stdout",
     "output_type": "stream",
     "text": [
      "[16:41:16] WARNING: /opt/concourse/worker/volumes/live/7a2b9f41-3287-451b-6691-43e9a6c0910f/volume/xgboost-split_1619728204606/work/src/learner.cc:1061: Starting in XGBoost 1.3.0, the default evaluation metric used with the objective 'binary:logistic' was changed from 'error' to 'logloss'. Explicitly set eval_metric if you'd like to restore the old behavior.\n"
     ]
    }
   ],
   "source": [
    "xgb_mod_s_sm=xgb_mod.fit(X_sm_s,y_sm_s.values.ravel()) "
   ]
  },
  {
   "cell_type": "code",
   "execution_count": 350,
   "id": "8907c5dd",
   "metadata": {},
   "outputs": [
    {
     "name": "stderr",
     "output_type": "stream",
     "text": [
      "The use of label encoder in XGBClassifier is deprecated and will be removed in a future release. To remove this warning, do the following: 1) Pass option use_label_encoder=False when constructing XGBClassifier object; and 2) Encode your labels (y) as integers starting with 0, i.e. 0, 1, 2, ..., [num_class - 1].\n",
      "\n"
     ]
    },
    {
     "name": "stdout",
     "output_type": "stream",
     "text": [
      "[12:32:42] WARNING: /opt/concourse/worker/volumes/live/7a2b9f41-3287-451b-6691-43e9a6c0910f/volume/xgboost-split_1619728204606/work/src/learner.cc:1061: Starting in XGBoost 1.3.0, the default evaluation metric used with the objective 'binary:logistic' was changed from 'error' to 'logloss'. Explicitly set eval_metric if you'd like to restore the old behavior.\n"
     ]
    }
   ],
   "source": [
    "xgb_mod_s_sm1=xgb_model.fit(X_sm_s1,y_sm_s1.values.ravel()) "
   ]
  },
  {
   "cell_type": "code",
   "execution_count": 18,
   "id": "a91c385d",
   "metadata": {},
   "outputs": [],
   "source": [
    "pickle.dump(xgb_mod_s_sm, open('../models/xgb_mod_s_sm.sav', 'wb'))"
   ]
  },
  {
   "cell_type": "code",
   "execution_count": 351,
   "id": "a91c385d",
   "metadata": {},
   "outputs": [],
   "source": [
    "pickle.dump(xgb_mod_s_sm1, open('../models/xgb_mod_s_sm1.sav', 'wb'))"
   ]
  },
  {
   "cell_type": "code",
   "execution_count": 177,
   "id": "5b9fad3b",
   "metadata": {},
   "outputs": [],
   "source": [
    "xgb_mod_s_sm = pickle.load(open('../models/xgb_mod_s_sm.sav', 'rb'))"
   ]
  },
  {
   "cell_type": "code",
   "execution_count": 352,
   "id": "5b9fad3b",
   "metadata": {},
   "outputs": [],
   "source": [
    "xgb_mod_s_sm1 = pickle.load(open('../models/xgb_mod_s_sm1.sav', 'rb'))"
   ]
  },
  {
   "cell_type": "code",
   "execution_count": 22,
   "id": "8c95a829",
   "metadata": {},
   "outputs": [],
   "source": [
    "y_pred_xgb_s_sm = xgb_mod_s_sm.predict(X_s_test)"
   ]
  },
  {
   "cell_type": "code",
   "execution_count": 353,
   "id": "8c95a829",
   "metadata": {},
   "outputs": [],
   "source": [
    "y_pred_xgb_s_sm1 = xgb_mod_s_sm1.predict(X_s_test1)"
   ]
  },
  {
   "cell_type": "code",
   "execution_count": 23,
   "id": "5ac31b4d",
   "metadata": {},
   "outputs": [
    {
     "name": "stdout",
     "output_type": "stream",
     "text": [
      "Accuracy Score : 0.9798559864036853\n",
      "Precision Score : 0.2846034214618974\n",
      "Recall Score : 0.6398601398601399\n",
      "F1 Score : 0.39397201291711514\n"
     ]
    }
   ],
   "source": [
    "print('Accuracy Score : ' + str(accuracy_score(y_s_test,y_pred_xgb_s_sm)))\n",
    "print('Precision Score : ' + str(precision_score(y_s_test,y_pred_xgb_s_sm)))\n",
    "print('Recall Score : ' + str(recall_score(y_s_test,y_pred_xgb_s_sm)))\n",
    "print('F1 Score : ' + str(f1_score(y_s_test,y_pred_xgb_s_sm)))"
   ]
  },
  {
   "cell_type": "code",
   "execution_count": 354,
   "id": "2eb1d79a",
   "metadata": {},
   "outputs": [
    {
     "name": "stdout",
     "output_type": "stream",
     "text": [
      "Accuracy Score : 0.9800348852810948\n",
      "Precision Score : 0.28429817605075336\n",
      "Recall Score : 0.6267482517482518\n",
      "F1 Score : 0.3911620294599018\n"
     ]
    }
   ],
   "source": [
    "print('Accuracy Score : ' + str(accuracy_score(y_s_test1,y_pred_xgb_s_sm1)))\n",
    "print('Precision Score : ' + str(precision_score(y_s_test1,y_pred_xgb_s_sm1)))\n",
    "print('Recall Score : ' + str(recall_score(y_s_test1,y_pred_xgb_s_sm1)))\n",
    "print('F1 Score : ' + str(f1_score(y_s_test1,y_pred_xgb_s_sm1)))"
   ]
  },
  {
   "cell_type": "markdown",
   "id": "fe7af584",
   "metadata": {},
   "source": [
    "### Explainability"
   ]
  },
  {
   "cell_type": "code",
   "execution_count": 210,
   "id": "fdcf003d",
   "metadata": {},
   "outputs": [
    {
     "name": "stdout",
     "output_type": "stream",
     "text": [
      "[('length', 0.05506904795765877), ('is_named_entity', 0.08164680749177933), ('is_named_author', 0.113590769469738), ('is_in_toc', 0.012414734810590744), ('freq', 0.1385580450296402), ('tfidf', 0.05461527034640312), ('importance', 0.00529780937358737), ('position_in_context', 0.009637911804020405), ('is_a_textbook_word', 0.012359146028757095), ('POS_ADJ', 0.007587687578052282), ('POS_ADP', 0.00747976778075099), ('POS_ADV', 0.046125978231430054), ('POS_AUX', 0.007945442572236061), ('POS_CCONJ', 0.0007129997247830033), ('POS_CHUNK', 0.3050233721733093), ('POS_DET', 0.0018702878151088953), ('POS_INTJ', 0.0019166000420227647), ('POS_NOUN', 0.04070378839969635), ('POS_NUM', 0.004307768307626247), ('POS_PART', 0.0), ('POS_PRON', 0.00814872793853283), ('POS_PROPN', 0.03570689260959625), ('POS_PUNCT', 0.0013896425953134894), ('POS_SCONJ', 0.01152265165001154), ('POS_SYM', 0.00037523373612202704), ('POS_VERB', 0.033463530242443085), ('POS_X', 0.0025300909765064716)]\n"
     ]
    }
   ],
   "source": [
    "importance_xgb_sm = xgb_mod_sm.feature_importances_\n",
    "\n",
    "list_of_importance_xgb_sm=zip(X.columns.tolist(), importance_xgb_sm.tolist())\n",
    "\n",
    "print(list(list_of_importance_xgb_sm))"
   ]
  },
  {
   "cell_type": "code",
   "execution_count": null,
   "id": "41044729",
   "metadata": {},
   "outputs": [],
   "source": [
    "importance_xgb_s = xgb_mod_s.feature_importances_\n",
    "\n",
    "list_of_importance_xgb_s=zip(X.columns.tolist(), importance_xgb_s.tolist())\n",
    "\n",
    "print(list(list_of_importance_xgb_s))"
   ]
  },
  {
   "cell_type": "code",
   "execution_count": 211,
   "id": "4839ac69",
   "metadata": {},
   "outputs": [
    {
     "data": {
      "image/png": "[encoded data removed]",
      "text/plain": [
       "<Figure size 720x432 with 1 Axes>"
      ]
     },
     "metadata": {
      "needs_background": "light"
     },
     "output_type": "display_data"
    }
   ],
   "source": [
    "plt.figure(figsize=(10, 6))\n",
    "\n",
    "arr = [x for x in range(len(importance_xgb_sm))]\n",
    "labels = X_train.columns.tolist()\n",
    "plt.bar(arr, importance_xgb_sm)\n",
    "plt.title('Feature importance XGBoost')\n",
    "plt.xticks(arr, labels, rotation=90)\n",
    "plt.show()\n",
    "#sort it"
   ]
  },
  {
   "cell_type": "code",
   "execution_count": null,
   "id": "e2c6ee86",
   "metadata": {},
   "outputs": [],
   "source": [
    "plt.figure(figsize=(10, 6))\n",
    "\n",
    "arr = [x for x in range(len(importance_xgb_s))]\n",
    "labels = X_train.columns.tolist()\n",
    "plt.bar(arr, importance_xgb_s)\n",
    "plt.title('Feature importance XGBoost (small)')\n",
    "plt.xticks(arr, labels, rotation=90)\n",
    "plt.show()\n",
    "#sort it"
   ]
  },
  {
   "cell_type": "code",
   "execution_count": null,
   "id": "b017540e",
   "metadata": {},
   "outputs": [],
   "source": [
    "explainer = shap.TreeExplainer(xgb_mod)\n",
    "shap_values = explainer.shap_values(X)\n",
    "expected_value = explainer.expected_value"
   ]
  },
  {
   "cell_type": "code",
   "execution_count": null,
   "id": "592d5294",
   "metadata": {},
   "outputs": [],
   "source": [
    "pickle.dump(shap_values, open('../models/shap_values.sav', 'wb'))"
   ]
  },
  {
   "cell_type": "code",
   "execution_count": null,
   "id": "b6f11165",
   "metadata": {},
   "outputs": [],
   "source": [
    "pickle.dump(expected_value, open('../models/expected_value.sav', 'wb'))"
   ]
  },
  {
   "cell_type": "code",
   "execution_count": null,
   "id": "66700a7a",
   "metadata": {},
   "outputs": [],
   "source": [
    "shap.summary_plot(shap_values, X,title=\"SHAP summary plot\", show=False)\n",
    "plt.savefig('../images/shap_summary.png')"
   ]
  },
  {
   "cell_type": "code",
   "execution_count": 185,
   "id": "9010a2ba",
   "metadata": {},
   "outputs": [],
   "source": [
    "explainer_xgb_sm = shap.TreeExplainer(xgb_mod_sm)\n",
    "#shap_values_xgb_sm = explainer_xgb_sm.shap_values(X_sm)\n",
    "#expected_value_xgb_sm = explainer_xgb_sm.expected_value\n",
    "shap_values_xgb_sm_2=explainer_xgb_sm(X_sm)"
   ]
  },
  {
   "cell_type": "code",
   "execution_count": 186,
   "id": "ded39ddf",
   "metadata": {},
   "outputs": [],
   "source": [
    "pickle.dump(shap_values_xgb_sm_2, open('../models/shap_values_xgb_sm_2.sav', 'wb'))"
   ]
  },
  {
   "cell_type": "code",
   "execution_count": 316,
   "id": "b5db5b0a",
   "metadata": {},
   "outputs": [],
   "source": [
    "shap_values_xgb_sm_2 = pickle.load(open('../models/shap_values_xgb_sm_2.sav', 'rb'))"
   ]
  },
  {
   "cell_type": "code",
   "execution_count": 317,
   "id": "d17f63a4",
   "metadata": {},
   "outputs": [],
   "source": [
    "shap_values_xgb_sm = pickle.load(open('../models/shap_values_RF_sm.sav', 'rb'))"
   ]
  },
  {
   "cell_type": "code",
   "execution_count": 32,
   "id": "c1d929a8",
   "metadata": {
    "scrolled": true
   },
   "outputs": [
    {
     "data": {
      "image/png": "[encoded data removed]",
      "text/plain": [
       "<Figure size 576x684 with 2 Axes>"
      ]
     },
     "metadata": {
      "needs_background": "light"
     },
     "output_type": "display_data"
    }
   ],
   "source": [
    "shap.summary_plot(shap_values_RF_sm,X_sm,title=\"SHAP summary plot RF\", color=plt.get_cmap(\"cool\"), show=False)\n",
    "plt.savefig('../images/shap_summary_RF_sm.png')"
   ]
  },
  {
   "cell_type": "code",
   "execution_count": 44,
   "id": "d9cd26f1",
   "metadata": {},
   "outputs": [
    {
     "data": {
      "image/png": "[encoded data removed]",
      "text/plain": [
       "<Figure size 576x396 with 2 Axes>"
      ]
     },
     "metadata": {
      "needs_background": "light"
     },
     "output_type": "display_data"
    }
   ],
   "source": [
    "shap.plots.beeswarm(shap_values_RF_sm_2, color=plt.get_cmap(\"cool\"), show=False)\n",
    "plt.savefig('../images/shap_summary_RF_sm_3.png', bbox_inches=\"tight\")"
   ]
  },
  {
   "cell_type": "code",
   "execution_count": 279,
   "id": "eaa00819",
   "metadata": {
    "scrolled": false
   },
   "outputs": [
    {
     "ename": "TypeError",
     "evalue": "bar() got an unexpected keyword argument 'plot_cmap'",
     "output_type": "error",
     "traceback": [
      "\u001b[0;31m---------------------------------------------------------------------------\u001b[0m",
      "\u001b[0;31mTypeError\u001b[0m                                 Traceback (most recent call last)",
      "\u001b[0;32m<ipython-input-279-6db24c17fc62>\u001b[0m in \u001b[0;36m<module>\u001b[0;34m\u001b[0m\n\u001b[0;32m----> 1\u001b[0;31m \u001b[0mshap\u001b[0m\u001b[0;34m.\u001b[0m\u001b[0mplots\u001b[0m\u001b[0;34m.\u001b[0m\u001b[0mbar\u001b[0m\u001b[0;34m(\u001b[0m\u001b[0mshap_values_xgb_sm_2\u001b[0m\u001b[0;34m,\u001b[0m \u001b[0mmax_display\u001b[0m\u001b[0;34m=\u001b[0m\u001b[0;36m8\u001b[0m\u001b[0;34m,\u001b[0m \u001b[0mshow\u001b[0m\u001b[0;34m=\u001b[0m\u001b[0;32mFalse\u001b[0m\u001b[0;34m,\u001b[0m \u001b[0mplot_cmap\u001b[0m\u001b[0;34m=\u001b[0m\u001b[0mplt\u001b[0m\u001b[0;34m.\u001b[0m\u001b[0mget_cmap\u001b[0m\u001b[0;34m(\u001b[0m\u001b[0;34m\"cool\"\u001b[0m\u001b[0;34m)\u001b[0m\u001b[0;34m)\u001b[0m\u001b[0;34m\u001b[0m\u001b[0;34m\u001b[0m\u001b[0m\n\u001b[0m\u001b[1;32m      2\u001b[0m \u001b[0mfig\u001b[0m \u001b[0;34m=\u001b[0m \u001b[0mplt\u001b[0m\u001b[0;34m.\u001b[0m\u001b[0mgcf\u001b[0m\u001b[0;34m(\u001b[0m\u001b[0;34m)\u001b[0m \u001b[0;31m# gcf means \"get current figure\"\u001b[0m\u001b[0;34m\u001b[0m\u001b[0;34m\u001b[0m\u001b[0m\n\u001b[1;32m      3\u001b[0m \u001b[0mfig\u001b[0m\u001b[0;34m.\u001b[0m\u001b[0mset_figheight\u001b[0m\u001b[0;34m(\u001b[0m\u001b[0;36m11\u001b[0m\u001b[0;34m)\u001b[0m\u001b[0;34m\u001b[0m\u001b[0;34m\u001b[0m\u001b[0m\n\u001b[1;32m      4\u001b[0m \u001b[0mfig\u001b[0m\u001b[0;34m.\u001b[0m\u001b[0mset_figwidth\u001b[0m\u001b[0;34m(\u001b[0m\u001b[0;36m9\u001b[0m\u001b[0;34m)\u001b[0m\u001b[0;34m\u001b[0m\u001b[0;34m\u001b[0m\u001b[0m\n\u001b[1;32m      5\u001b[0m \u001b[0mplt\u001b[0m\u001b[0;34m.\u001b[0m\u001b[0mrcParams\u001b[0m\u001b[0;34m[\u001b[0m\u001b[0;34m'font.size'\u001b[0m\u001b[0;34m]\u001b[0m \u001b[0;34m=\u001b[0m \u001b[0;34m'12'\u001b[0m\u001b[0;34m\u001b[0m\u001b[0;34m\u001b[0m\u001b[0m\n",
      "\u001b[0;31mTypeError\u001b[0m: bar() got an unexpected keyword argument 'plot_cmap'"
     ]
    }
   ],
   "source": [
    "shap.plots.bar(shap_values_xgb_sm_2, max_display=8, show=False, plot_cmap=plt.get_cmap(\"cool\"))\n",
    "fig = plt.gcf() # gcf means \"get current figure\"\n",
    "fig.set_figheight(11)\n",
    "fig.set_figwidth(9)\n",
    "plt.rcParams['font.size'] = '12'\n"
   ]
  },
  {
   "cell_type": "code",
   "execution_count": 319,
   "id": "9cbb42ef",
   "metadata": {},
   "outputs": [
    {
     "data": {
      "image/png": "[encoded data removed]",
      "text/plain": [
       "<Figure size 576x885.6 with 1 Axes>"
      ]
     },
     "metadata": {
      "needs_background": "light"
     },
     "output_type": "display_data"
    }
   ],
   "source": [
    "shap.summary_plot(shap_values_xgb_sm_2, X_sm, plot_type=\"bar\", max_display=30,show=False)\n"
   ]
  },
  {
   "cell_type": "code",
   "execution_count": 369,
   "id": "2e1eea62",
   "metadata": {},
   "outputs": [],
   "source": [
    "explainer_xgb1 = shap.TreeExplainer(xgb_mod1)\n",
    "#shap_values_xgb_sm = explainer_xgb_sm.shap_values(X_sm)\n",
    "#expected_value_xgb_sm = explainer_xgb_sm.expected_value\n",
    "shap_values_xgb1=explainer_xgb1(X1)"
   ]
  },
  {
   "cell_type": "code",
   "execution_count": 370,
   "id": "c30f0002",
   "metadata": {},
   "outputs": [],
   "source": [
    "pickle.dump(shap_values_xgb1, open('../models/expected_value_xgb1.sav', 'wb'))"
   ]
  },
  {
   "cell_type": "code",
   "execution_count": 388,
   "id": "35d3875d",
   "metadata": {},
   "outputs": [
    {
     "data": {
      "image/png": "[encoded data removed]",
      "text/plain": [
       "<Figure size 648x792 with 1 Axes>"
      ]
     },
     "metadata": {
      "needs_background": "light"
     },
     "output_type": "display_data"
    }
   ],
   "source": [
    "shap.summary_plot(shap_values_xgb1, X1, plot_type=\"bar\", max_display=10,show=False)\n",
    "fig = plt.gcf() # gcf means \"get current figure\"\n",
    "fig.set_figheight(11)\n",
    "fig.set_figwidth(9)\n",
    "plt.rcParams['font.size'] = '12'\n",
    "plt.savefig('../images/shap_summary_xgb1.png', bbox_inches=\"tight\")"
   ]
  },
  {
   "cell_type": "code",
   "execution_count": null,
   "id": "edd09426",
   "metadata": {},
   "outputs": [],
   "source": []
  }
 ],
 "metadata": {
  "kernelspec": {
   "display_name": "Python 3",
   "language": "python",
   "name": "python3"
  },
  "language_info": {
   "codemirror_mode": {
    "name": "ipython",
    "version": 3
   },
   "file_extension": ".py",
   "mimetype": "text/x-python",
   "name": "python",
   "nbconvert_exporter": "python",
   "pygments_lexer": "ipython3",
   "version": "3.7.10"
  }
 },
 "nbformat": 4,
 "nbformat_minor": 5
}
