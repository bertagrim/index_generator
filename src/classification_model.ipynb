{
 "cells": [
  {
   "cell_type": "code",
   "execution_count": 1,
   "id": "6e1e6559",
   "metadata": {},
   "outputs": [],
   "source": [
    "from sklearn.model_selection import cross_validate\n",
    "from sklearn.model_selection import train_test_split\n",
    "from sklearn.model_selection import GridSearchCV\n",
    "from sklearn.metrics import accuracy_score,recall_score,precision_score,f1_score\n",
    "from sklearn.metrics import confusion_matrix\n",
    "from sklearn.preprocessing import MinMaxScaler\n",
    "from imblearn.over_sampling import SMOTE\n",
    "import xgboost as xgb\n",
    "\n",
    "import numpy as np\n",
    "import pandas as pd\n",
    "import seaborn as sns\n",
    "import matplotlib.pyplot as plt\n",
    "\n",
    "import shap\n",
    "from shap import plots\n",
    "\n",
    "import pickle\n",
    "\n",
    "import pathlib\n",
    "from glob import glob\n",
    "from data_loader import get_agg_dfs_filepaths, get_agg_dfs_filepaths_philosophy\n",
    "from config import textbook_words"
   ]
  },
  {
   "cell_type": "markdown",
   "id": "317f1d1b",
   "metadata": {},
   "source": [
    "# 0. Create dataset from the book's agg csv"
   ]
  },
  {
   "cell_type": "code",
   "execution_count": 2,
   "id": "3dbbab06",
   "metadata": {},
   "outputs": [],
   "source": [
    "DATA_DIR_PATH = \"../data/\"\n",
    "PDF_SOURCE_DIR_PATH = DATA_DIR_PATH + \"pdf/\"\n",
    "PROCESSED_DATA_DIR_PATH = DATA_DIR_PATH + \"processed/\""
   ]
  },
  {
   "cell_type": "code",
   "execution_count": 3,
   "id": "71204b40",
   "metadata": {},
   "outputs": [
    {
     "data": {
      "text/plain": [
       "['/Users/bertagrim/dev_projects/final_project/index_generator/data/processed/lycan_08/aggregated.csv',\n",
       " '/Users/bertagrim/dev_projects/final_project/index_generator/data/processed/2015_Book_LinearAlgebra/aggregated.csv',\n",
       " '/Users/bertagrim/dev_projects/final_project/index_generator/data/processed/2007BoolosComputability and Logic Fifth Edition/aggregated.csv',\n",
       " '/Users/bertagrim/dev_projects/final_project/index_generator/data/processed/christensen_04/aggregated.csv',\n",
       " '/Users/bertagrim/dev_projects/final_project/index_generator/data/processed/williamson_94/aggregated.csv',\n",
       " '/Users/bertagrim/dev_projects/final_project/index_generator/data/processed/2014_Book_Microeconomics/aggregated.csv',\n",
       " '/Users/bertagrim/dev_projects/final_project/index_generator/data/processed/jacobson_14/aggregated.csv',\n",
       " '/Users/bertagrim/dev_projects/final_project/index_generator/data/processed/morris_07/aggregated.csv',\n",
       " '/Users/bertagrim/dev_projects/final_project/index_generator/data/processed/moltmann_97/aggregated.csv',\n",
       " '/Users/bertagrim/dev_projects/final_project/index_generator/data/processed/zimmermann_13/aggregated.csv',\n",
       " '/Users/bertagrim/dev_projects/final_project/index_generator/data/processed/2009_Book_TheElementsOfStatisticalLearni/aggregated.csv',\n",
       " '/Users/bertagrim/dev_projects/final_project/index_generator/data/processed/peregrin_17/aggregated.csv',\n",
       " '/Users/bertagrim/dev_projects/final_project/index_generator/data/processed/linnebo_21/aggregated.csv',\n",
       " '/Users/bertagrim/dev_projects/final_project/index_generator/data/processed/2017_Book_CosmologyForTheCurious/aggregated.csv',\n",
       " '/Users/bertagrim/dev_projects/final_project/index_generator/data/processed/shapiro_97/aggregated.csv',\n",
       " '/Users/bertagrim/dev_projects/final_project/index_generator/data/processed/linnebo_18/aggregated.csv',\n",
       " '/Users/bertagrim/dev_projects/final_project/index_generator/data/processed/heather_17/aggregated.csv',\n",
       " '/Users/bertagrim/dev_projects/final_project/index_generator/data/processed/jenkins_08/aggregated.csv',\n",
       " '/Users/bertagrim/dev_projects/final_project/index_generator/data/processed/keefe_00/aggregated.csv',\n",
       " '/Users/bertagrim/dev_projects/final_project/index_generator/data/processed/winter_16/aggregated.csv',\n",
       " '/Users/bertagrim/dev_projects/final_project/index_generator/data/processed/oliver_13/aggregated.csv',\n",
       " '/Users/bertagrim/dev_projects/final_project/index_generator/data/processed/lyons_96/aggregated.csv']"
      ]
     },
     "execution_count": 3,
     "metadata": {},
     "output_type": "execute_result"
    }
   ],
   "source": [
    "file_paths = get_agg_dfs_filepaths(PROCESSED_DATA_DIR_PATH)\n",
    "file_paths"
   ]
  },
  {
   "cell_type": "code",
   "execution_count": 4,
   "id": "ce54bd73",
   "metadata": {},
   "outputs": [
    {
     "data": {
      "text/plain": [
       "['/Users/bertagrim/dev_projects/final_project/index_generator/data/processed/philosophy/lycan_08/aggregated.csv',\n",
       " '/Users/bertagrim/dev_projects/final_project/index_generator/data/processed/philosophy/christensen_04/aggregated.csv',\n",
       " '/Users/bertagrim/dev_projects/final_project/index_generator/data/processed/philosophy/williamson_94/aggregated.csv',\n",
       " '/Users/bertagrim/dev_projects/final_project/index_generator/data/processed/philosophy/morris_07/aggregated.csv',\n",
       " '/Users/bertagrim/dev_projects/final_project/index_generator/data/processed/philosophy/peregrin_17/aggregated.csv',\n",
       " '/Users/bertagrim/dev_projects/final_project/index_generator/data/processed/philosophy/shapiro_97/aggregated.csv',\n",
       " '/Users/bertagrim/dev_projects/final_project/index_generator/data/processed/philosophy/linnebo_18/aggregated.csv',\n",
       " '/Users/bertagrim/dev_projects/final_project/index_generator/data/processed/philosophy/jenkins_08/aggregated.csv',\n",
       " '/Users/bertagrim/dev_projects/final_project/index_generator/data/processed/philosophy/keefe_00/aggregated.csv',\n",
       " '/Users/bertagrim/dev_projects/final_project/index_generator/data/processed/philosophy/oliver_13/aggregated.csv']"
      ]
     },
     "execution_count": 4,
     "metadata": {},
     "output_type": "execute_result"
    }
   ],
   "source": [
    "file_paths_philo = get_agg_dfs_filepaths_philosophy(PROCESSED_DATA_DIR_PATH)\n",
    "file_paths_philo"
   ]
  },
  {
   "cell_type": "code",
   "execution_count": 290,
   "id": "9e3a23e9",
   "metadata": {},
   "outputs": [],
   "source": [
    "list_agg_dfs=[]\n",
    "for path in file_paths:\n",
    "    aggregated_df = pd.read_csv(path,index_col=0)\n",
    "    list_agg_dfs.append(aggregated_df)\n",
    "    \n",
    "df = pd.concat(list_agg_dfs)"
   ]
  },
  {
   "cell_type": "code",
   "execution_count": 291,
   "id": "3fdc282d",
   "metadata": {},
   "outputs": [],
   "source": [
    "list_agg_dfs=[]\n",
    "for path in file_paths_philo:\n",
    "    aggregated_df = pd.read_csv(path,index_col=0)\n",
    "    list_agg_dfs.append(aggregated_df)\n",
    "    \n",
    "df_s = pd.concat(list_agg_dfs)"
   ]
  },
  {
   "cell_type": "code",
   "execution_count": null,
   "id": "b2361aa4",
   "metadata": {},
   "outputs": [],
   "source": [
    "df.info()"
   ]
  },
  {
   "cell_type": "code",
   "execution_count": null,
   "id": "ea926e8a",
   "metadata": {},
   "outputs": [],
   "source": [
    "df_s.info()"
   ]
  },
  {
   "cell_type": "markdown",
   "id": "ce304b15",
   "metadata": {},
   "source": [
    "# 1. Feature engineering"
   ]
  },
  {
   "cell_type": "code",
   "execution_count": 293,
   "id": "7dbbc895",
   "metadata": {},
   "outputs": [],
   "source": [
    "df.reset_index(drop=True, inplace=True)\n",
    "df_s.reset_index(drop=True, inplace=True)"
   ]
  },
  {
   "cell_type": "code",
   "execution_count": 296,
   "id": "957027f0",
   "metadata": {},
   "outputs": [],
   "source": [
    "df.dropna(inplace=True)\n",
    "df_s.dropna(inplace=True)"
   ]
  },
  {
   "cell_type": "code",
   "execution_count": 299,
   "id": "ad5869ad",
   "metadata": {},
   "outputs": [],
   "source": [
    "dict_tbw={}\n",
    "for w in df.candidate_keyword:\n",
    "    if w in textbook_words:\n",
    "        dict_tbw[w]=1\n",
    "    else:\n",
    "        dict_tbw[w]=0"
   ]
  },
  {
   "cell_type": "code",
   "execution_count": 300,
   "id": "508d3bda",
   "metadata": {},
   "outputs": [],
   "source": [
    "dict_tbw_s={}\n",
    "for w in df_s.candidate_keyword:\n",
    "    if w in textbook_words:\n",
    "        dict_tbw_s[w]=1\n",
    "    else:\n",
    "        dict_tbw_s[w]=0"
   ]
  },
  {
   "cell_type": "code",
   "execution_count": 301,
   "id": "6871b5a3",
   "metadata": {},
   "outputs": [],
   "source": [
    "def is_a_tbw(x):\n",
    "    if w in textbook_words:\n",
    "        return 1\n",
    "    else: \n",
    "        return 0"
   ]
  },
  {
   "cell_type": "code",
   "execution_count": 302,
   "id": "25479850",
   "metadata": {
    "scrolled": true
   },
   "outputs": [],
   "source": [
    "df['is_a_textbook_word']=df.candidate_keyword.apply(lambda x: dict_tbw[x])"
   ]
  },
  {
   "cell_type": "code",
   "execution_count": 303,
   "id": "6f29cf77",
   "metadata": {
    "scrolled": true
   },
   "outputs": [],
   "source": [
    "df_s['is_a_textbook_word']=df_s.candidate_keyword.apply(lambda x: dict_tbw_s[x])"
   ]
  },
  {
   "cell_type": "code",
   "execution_count": 304,
   "id": "4dd28e65",
   "metadata": {},
   "outputs": [],
   "source": [
    "df_scaled = pd.get_dummies(df, columns=['POS'],\n",
    "prefix = ['POS'])"
   ]
  },
  {
   "cell_type": "code",
   "execution_count": 305,
   "id": "fb580304",
   "metadata": {},
   "outputs": [],
   "source": [
    "df_s_scaled = pd.get_dummies(df_s, columns=['POS'],\n",
    "prefix = ['POS'])"
   ]
  },
  {
   "cell_type": "code",
   "execution_count": null,
   "id": "a3eeb608",
   "metadata": {},
   "outputs": [],
   "source": [
    "df_scaled.head()"
   ]
  },
  {
   "cell_type": "code",
   "execution_count": null,
   "id": "0d7b419f",
   "metadata": {},
   "outputs": [],
   "source": [
    "df_s_scaled.head()"
   ]
  },
  {
   "cell_type": "code",
   "execution_count": 307,
   "id": "1d26da84",
   "metadata": {},
   "outputs": [],
   "source": [
    "df_scaled.drop(columns=['candidate_keyword'], inplace=True)"
   ]
  },
  {
   "cell_type": "code",
   "execution_count": 308,
   "id": "cb52be7b",
   "metadata": {},
   "outputs": [],
   "source": [
    "df_s_scaled.drop(columns=['candidate_keyword'], inplace=True)"
   ]
  },
  {
   "cell_type": "code",
   "execution_count": 309,
   "id": "8373c548",
   "metadata": {},
   "outputs": [],
   "source": [
    "df_scaled_columns = df_scaled.columns"
   ]
  },
  {
   "cell_type": "code",
   "execution_count": 310,
   "id": "06919605",
   "metadata": {},
   "outputs": [],
   "source": [
    "df_s_scaled_columns = df_s_scaled.columns"
   ]
  },
  {
   "cell_type": "code",
   "execution_count": 311,
   "id": "771ecee3",
   "metadata": {},
   "outputs": [],
   "source": [
    "scaler = MinMaxScaler() "
   ]
  },
  {
   "cell_type": "code",
   "execution_count": 312,
   "id": "3dea07b3",
   "metadata": {},
   "outputs": [],
   "source": [
    "df_scaled = scaler.fit_transform(df_scaled)\n",
    "df_scaled = pd.DataFrame(df_scaled, columns= df_scaled_columns)"
   ]
  },
  {
   "cell_type": "code",
   "execution_count": 313,
   "id": "a20e1112",
   "metadata": {},
   "outputs": [],
   "source": [
    "df_s_scaled = scaler.fit_transform(df_s_scaled)\n",
    "df_s_scaled = pd.DataFrame(df_s_scaled, columns= df_s_scaled_columns)"
   ]
  },
  {
   "cell_type": "code",
   "execution_count": 314,
   "id": "804be99e",
   "metadata": {},
   "outputs": [],
   "source": [
    "df_scaled=df_scaled.rename(columns={\"is_in_index\": \"target\"})"
   ]
  },
  {
   "cell_type": "code",
   "execution_count": 315,
   "id": "d8247507",
   "metadata": {},
   "outputs": [],
   "source": [
    "df_s_scaled=df_s_scaled.rename(columns={\"is_in_index\": \"target\"})"
   ]
  },
  {
   "cell_type": "code",
   "execution_count": null,
   "id": "3c2f7814",
   "metadata": {},
   "outputs": [],
   "source": [
    "df_scaled=df_scaled.drop(columns=['POS_SYM', \n",
    "                                        'POS_PART', \n",
    "                                        'POS_PUNCT', \n",
    "                                        'POS_INTJ', \n",
    "                                        'POS_DET',\n",
    "                                        'POS_AUX',\n",
    "                                        'POS_SCONJ',\n",
    "                                        'POS_CCONJ',\n",
    "                                        'POS_X',\n",
    "                                        'POS_PRON',\n",
    "                                        'POS_ADP',\n",
    "                                        'POS_NUM'], errors='ignore)"
   ]
  },
  {
   "cell_type": "code",
   "execution_count": 320,
   "id": "a1fa23f3",
   "metadata": {},
   "outputs": [],
   "source": [
    "df_s_scaled=df_s_scaled.drop(columns=['POS_SYM', \n",
    "                                        'POS_PART', \n",
    "                                        'POS_PUNCT', \n",
    "                                        'POS_INTJ', \n",
    "                                        'POS_DET',\n",
    "                                        'POS_AUX',\n",
    "                                        'POS_SCONJ',\n",
    "                                        'POS_CCONJ',\n",
    "                                        'POS_X',\n",
    "                                        'POS_PRON',\n",
    "                                        'POS_ADP',\n",
    "                                        'POS_NUM'], errors='ignore')"
   ]
  },
  {
   "cell_type": "code",
   "execution_count": null,
   "id": "15c2127c",
   "metadata": {},
   "outputs": [],
   "source": [
    "df_scaled.info()"
   ]
  },
  {
   "cell_type": "code",
   "execution_count": null,
   "id": "c357a691",
   "metadata": {},
   "outputs": [],
   "source": [
    "df_s_scaled.info()"
   ]
  },
  {
   "cell_type": "code",
   "execution_count": null,
   "id": "e219b96d",
   "metadata": {},
   "outputs": [],
   "source": [
    "df_scaled.to_csv(\"../data/final_scaled.csv\", encoding = 'utf-8')"
   ]
  },
  {
   "cell_type": "code",
   "execution_count": null,
   "id": "ea216e97",
   "metadata": {},
   "outputs": [],
   "source": [
    "df_s_scaled.to_csv(\"../data/final_scaled_small.csv\", encoding = 'utf-8')"
   ]
  },
  {
   "cell_type": "markdown",
   "id": "d94338ce",
   "metadata": {},
   "source": [
    "# 2. Quick EDA"
   ]
  },
  {
   "cell_type": "code",
   "execution_count": null,
   "id": "d180470b",
   "metadata": {
    "scrolled": true
   },
   "outputs": [],
   "source": [
    "path = '../data/final_scaled.csv'\n",
    "df_scaled = pd.read_csv(path,index_col=0)\n",
    "df_scaled.info()"
   ]
  },
  {
   "cell_type": "code",
   "execution_count": null,
   "id": "7439984e",
   "metadata": {},
   "outputs": [],
   "source": [
    "path = '../data/final_scaled_small.csv'\n",
    "df_s_scaled = pd.read_csv(path,index_col=0)\n",
    "df_s_scaled.info()"
   ]
  },
  {
   "cell_type": "markdown",
   "id": "b5f4d36c",
   "metadata": {},
   "source": [
    "### Correlation heatmap"
   ]
  },
  {
   "cell_type": "code",
   "execution_count": null,
   "id": "104e955d",
   "metadata": {},
   "outputs": [],
   "source": [
    "plt.figure(figsize=(4, 10))\n",
    "\n",
    "heatmap = sns.heatmap(df_scaled.corr()[['target']].sort_values(by='target', ascending=False), \n",
    "                      vmin=-1, \n",
    "                      vmax=1,\n",
    "                      annot=True,\n",
    "                      cmap='BrBG')\n",
    "\n",
    "heatmap.set_title('Index Correlation', fontdict={'fontsize':18}, pad=16);\n",
    "\n",
    "plt.show()"
   ]
  },
  {
   "cell_type": "code",
   "execution_count": null,
   "id": "b5540ef7",
   "metadata": {},
   "outputs": [],
   "source": [
    "heatmap.figure.savefig(\"../images/heatmap.png\", bbox_inches=\"tight\")"
   ]
  },
  {
   "cell_type": "code",
   "execution_count": null,
   "id": "db426572",
   "metadata": {},
   "outputs": [],
   "source": [
    "plt.figure(figsize=(4, 10))\n",
    "\n",
    "heatmap_s = sns.heatmap(df_s_scaled.corr()[['target']].sort_values(by='target', ascending=False), \n",
    "                      vmin=-1, \n",
    "                      vmax=1,\n",
    "                      annot=True,\n",
    "                      cmap='BrBG')\n",
    "\n",
    "heatmap_s.set_title('Index Correlation', fontdict={'fontsize':18}, pad=16);\n",
    "\n",
    "plt.show()"
   ]
  },
  {
   "cell_type": "code",
   "execution_count": null,
   "id": "c242fdb0",
   "metadata": {},
   "outputs": [],
   "source": [
    "heatmap_s.figure.savefig(\"../images/heatmap_s.png\", bbox_inches=\"tight\")"
   ]
  },
  {
   "cell_type": "markdown",
   "id": "f7958a63",
   "metadata": {},
   "source": [
    "### Visualization (types of books)"
   ]
  },
  {
   "cell_type": "code",
   "execution_count": 164,
   "id": "d30630d4",
   "metadata": {},
   "outputs": [],
   "source": [
    "types_books={'Philosophy': 10, 'Linguistics': 6,  'Logic': 2, 'Economics': 1,  'Data Science': 1, 'Maths': 1, 'Astronomy': 1}"
   ]
  },
  {
   "cell_type": "code",
   "execution_count": 165,
   "id": "89fc47d4",
   "metadata": {},
   "outputs": [],
   "source": [
    "keys = list(types_books.keys())\n",
    "vals = [types_books[k] for k in keys]"
   ]
  },
  {
   "cell_type": "code",
   "execution_count": 453,
   "id": "bd9cc118",
   "metadata": {},
   "outputs": [
    {
     "data": {
      "image/png": "[encoded data removed]",
      "text/plain": [
       "<Figure size 1440x576 with 1 Axes>"
      ]
     },
     "metadata": {
      "needs_background": "light"
     },
     "output_type": "display_data"
    }
   ],
   "source": [
    "plt.figure(figsize=(20, 8))\n",
    "types_of_books=sns.barplot(y=keys, x=vals, palette=\"flare\", saturation=1)\n",
    "types_of_books.set_title('Number of books per field', fontdict={'fontsize':25}, pad=16)\n",
    "plt.xticks(np.arange(0, 11, 1.0))\n",
    "plt.tick_params(axis='y', which='major', labelsize=20)\n",
    "plt.tick_params(axis='x', which='major', labelsize=20)\n",
    "plt.show()"
   ]
  },
  {
   "cell_type": "code",
   "execution_count": 454,
   "id": "4899f484",
   "metadata": {},
   "outputs": [],
   "source": [
    "types_of_books.figure.savefig(\"../images/types_of_books.png\", bbox_inches=\"tight\")"
   ]
  },
  {
   "cell_type": "markdown",
   "id": "f70b3682",
   "metadata": {},
   "source": [
    "# 3. Train and test the models"
   ]
  },
  {
   "cell_type": "code",
   "execution_count": 180,
   "id": "c96473d9",
   "metadata": {},
   "outputs": [],
   "source": [
    "X = df_scaled.drop('target', axis= 1)\n",
    "y = df_scaled.target"
   ]
  },
  {
   "cell_type": "code",
   "execution_count": 181,
   "id": "02b5c5d6",
   "metadata": {},
   "outputs": [],
   "source": [
    "X_s = df_s_scaled.drop('target', axis= 1)\n",
    "y_s = df_s_scaled.target"
   ]
  },
  {
   "cell_type": "code",
   "execution_count": 182,
   "id": "c821f737",
   "metadata": {},
   "outputs": [],
   "source": [
    "X_train, X_test, y_train, y_test = train_test_split(X, y, test_size=0.3,\n",
    "                                                    random_state=42, stratify=y)"
   ]
  },
  {
   "cell_type": "code",
   "execution_count": 183,
   "id": "62b9f9e1",
   "metadata": {},
   "outputs": [],
   "source": [
    "X_s_train, X_s_test, y_s_train, y_s_test = train_test_split(X_s, y_s, test_size=0.3,\n",
    "                                                    random_state=42, stratify=y_s)"
   ]
  },
  {
   "cell_type": "markdown",
   "id": "ee247cc0",
   "metadata": {},
   "source": [
    "### 3.1. Oversampling with SMOTE"
   ]
  },
  {
   "cell_type": "code",
   "execution_count": 328,
   "id": "773b0c05",
   "metadata": {},
   "outputs": [],
   "source": [
    "smote = SMOTE(random_state=42)"
   ]
  },
  {
   "cell_type": "code",
   "execution_count": null,
   "id": "edc89c50",
   "metadata": {},
   "outputs": [],
   "source": [
    "X_sm,y_sm=smote.fit_resample(X_train, y_train)"
   ]
  },
  {
   "cell_type": "code",
   "execution_count": null,
   "id": "b7a06bbd",
   "metadata": {},
   "outputs": [],
   "source": [
    "X_sm_s,y_sm_s=smote.fit_resample(X_s_train, y_s_train)"
   ]
  },
  {
   "cell_type": "code",
   "execution_count": null,
   "id": "33d78395",
   "metadata": {},
   "outputs": [],
   "source": [
    "pickle.dump(X_sm, open('../models/X_sm.sav', 'wb'))\n",
    "pickle.dump(y_sm, open('../models/y_sm.sav', 'wb'))"
   ]
  },
  {
   "cell_type": "code",
   "execution_count": null,
   "id": "95c0b352",
   "metadata": {},
   "outputs": [],
   "source": [
    "pickle.dump(X_sm_s, open('../models/X_sm_s.sav', 'wb'))\n",
    "pickle.dump(y_sm_s, open('../models/y_sm_s.sav', 'wb'))"
   ]
  },
  {
   "cell_type": "code",
   "execution_count": 184,
   "id": "bdb50af6",
   "metadata": {},
   "outputs": [],
   "source": [
    "X_sm = pickle.load(open('../models/X_sm.sav', 'rb'))\n",
    "y_sm = pickle.load(open('../models/y_sm.sav', 'rb'))"
   ]
  },
  {
   "cell_type": "code",
   "execution_count": 10,
   "id": "96a69ccd",
   "metadata": {},
   "outputs": [],
   "source": [
    "X_sm_s = pickle.load(open('../models/X_sm_s.sav', 'rb'))\n",
    "y_sm_s = pickle.load(open('../models/y_sm_s.sav', 'rb'))"
   ]
  },
  {
   "cell_type": "code",
   "execution_count": null,
   "id": "6fd87f3b",
   "metadata": {},
   "outputs": [],
   "source": [
    "print('\\nBefore OVER-sampling\\n', y_train.value_counts())\n",
    "print('\\nAfter OVER-sampling\\n', y_sm.value_counts())"
   ]
  },
  {
   "cell_type": "code",
   "execution_count": null,
   "id": "68959740",
   "metadata": {},
   "outputs": [],
   "source": [
    "print('\\nBefore OVER-sampling\\n', y_s_train.value_counts())\n",
    "print('\\nAfter OVER-sampling\\n', y_sm_s.value_counts())"
   ]
  },
  {
   "cell_type": "markdown",
   "id": "0dc184e6",
   "metadata": {},
   "source": [
    "### 3.2. XGBoost classifier"
   ]
  },
  {
   "cell_type": "markdown",
   "id": "42a94510",
   "metadata": {},
   "source": [
    "### Big dataset"
   ]
  },
  {
   "cell_type": "code",
   "execution_count": 342,
   "id": "dee6c64f",
   "metadata": {},
   "outputs": [],
   "source": [
    "xgb_model=xgb.XGBClassifier(random_state=42)"
   ]
  },
  {
   "cell_type": "code",
   "execution_count": null,
   "id": "3d649413",
   "metadata": {
    "scrolled": true
   },
   "outputs": [],
   "source": [
    "xgb_mod=xgb_model.fit(X_train,y_train.values.ravel()) "
   ]
  },
  {
   "cell_type": "code",
   "execution_count": null,
   "id": "2f6247c6",
   "metadata": {},
   "outputs": [],
   "source": [
    "pickle.dump(xgb_mod, open('../models/xgb_mod.sav', 'wb'))"
   ]
  },
  {
   "cell_type": "code",
   "execution_count": null,
   "id": "a0a80970",
   "metadata": {},
   "outputs": [],
   "source": [
    "xgb_mod = pickle.load(open('../models/xgb_mod.sav', 'rb'))"
   ]
  },
  {
   "cell_type": "code",
   "execution_count": null,
   "id": "1f5b84d0",
   "metadata": {},
   "outputs": [],
   "source": [
    "y_pred_xgb = xgb_mod.predict(X_test)"
   ]
  },
  {
   "cell_type": "code",
   "execution_count": null,
   "id": "5791e212",
   "metadata": {},
   "outputs": [],
   "source": [
    "print('Accuracy Score : ' + str(accuracy_score(y_test,y_pred_xgb)))\n",
    "print('Precision Score : ' + str(precision_score(y_test,y_pred_xgb)))\n",
    "print('Recall Score : ' + str(recall_score(y_test,y_pred_xgb)))\n",
    "print('F1 Score : ' + str(f1_score(y_test,y_pred_xgb)))"
   ]
  },
  {
   "cell_type": "markdown",
   "id": "89a1270a",
   "metadata": {},
   "source": [
    "### Big dataset with SMOTE"
   ]
  },
  {
   "cell_type": "code",
   "execution_count": null,
   "id": "3d649413",
   "metadata": {
    "scrolled": true
   },
   "outputs": [],
   "source": [
    "xgb_mod_sm=xgb_model.fit(X_sm,y_sm.values.ravel()) "
   ]
  },
  {
   "cell_type": "code",
   "execution_count": 13,
   "id": "2f6247c6",
   "metadata": {},
   "outputs": [],
   "source": [
    "pickle.dump(xgb_mod_sm, open('../models/xgb_mod_sm.sav', 'wb'))"
   ]
  },
  {
   "cell_type": "code",
   "execution_count": 178,
   "id": "a0a80970",
   "metadata": {},
   "outputs": [],
   "source": [
    "xgb_mod_sm = pickle.load(open('../models/xgb_mod_sm.sav', 'rb'))"
   ]
  },
  {
   "cell_type": "code",
   "execution_count": 15,
   "id": "1f5b84d0",
   "metadata": {},
   "outputs": [],
   "source": [
    "y_pred_xgb_sm = xgb_mod_sm.predict(X_test)"
   ]
  },
  {
   "cell_type": "code",
   "execution_count": null,
   "id": "5791e212",
   "metadata": {},
   "outputs": [],
   "source": [
    "print('Accuracy Score : ' + str(accuracy_score(y_test,y_pred_xgb_sm)))\n",
    "print('Precision Score : ' + str(precision_score(y_test,y_pred_xgb_sm)))\n",
    "print('Recall Score : ' + str(recall_score(y_test,y_pred_xgb_sm)))\n",
    "print('F1 Score : ' + str(f1_score(y_test,y_pred_xgb_sm)))"
   ]
  },
  {
   "cell_type": "markdown",
   "id": "4d27f512",
   "metadata": {},
   "source": [
    "### Small dataset"
   ]
  },
  {
   "cell_type": "code",
   "execution_count": null,
   "id": "8907c5dd",
   "metadata": {},
   "outputs": [],
   "source": [
    "xgb_mod_s=xgb_model.fit(X_s_train,y_s_train.values.ravel()) "
   ]
  },
  {
   "cell_type": "code",
   "execution_count": null,
   "id": "a91c385d",
   "metadata": {},
   "outputs": [],
   "source": [
    "pickle.dump(xgb_mod_s, open('../models/xgb_mod_s.sav', 'wb'))"
   ]
  },
  {
   "cell_type": "code",
   "execution_count": null,
   "id": "5b9fad3b",
   "metadata": {},
   "outputs": [],
   "source": [
    "xgb_mod_s = pickle.load(open('../models/xgb_mod_s.sav', 'rb'))"
   ]
  },
  {
   "cell_type": "code",
   "execution_count": null,
   "id": "8c95a829",
   "metadata": {},
   "outputs": [],
   "source": [
    "y_pred_xgb_s = xgb_mod_s.predict(X_s_test)"
   ]
  },
  {
   "cell_type": "code",
   "execution_count": null,
   "id": "5ac31b4d",
   "metadata": {},
   "outputs": [],
   "source": [
    "print('Accuracy Score : ' + str(accuracy_score(y_s_test,y_pred_xgb_s)))\n",
    "print('Precision Score : ' + str(precision_score(y_s_test,y_pred_xgb_s)))\n",
    "print('Recall Score : ' + str(recall_score(y_s_test,y_pred_xgb_s)))\n",
    "print('F1 Score : ' + str(f1_score(y_s_test,y_pred_xgb_s)))"
   ]
  },
  {
   "cell_type": "markdown",
   "id": "4d27f512",
   "metadata": {},
   "source": [
    "### Small dataset with SMOTE"
   ]
  },
  {
   "cell_type": "code",
   "execution_count": null,
   "id": "8907c5dd",
   "metadata": {},
   "outputs": [],
   "source": [
    "xgb_mod_s_sm=xgb_mod.fit(X_sm_s,y_sm_s.values.ravel()) "
   ]
  },
  {
   "cell_type": "code",
   "execution_count": 18,
   "id": "a91c385d",
   "metadata": {},
   "outputs": [],
   "source": [
    "pickle.dump(xgb_mod_s_sm, open('../models/xgb_mod_s_sm.sav', 'wb'))"
   ]
  },
  {
   "cell_type": "code",
   "execution_count": 177,
   "id": "5b9fad3b",
   "metadata": {},
   "outputs": [],
   "source": [
    "xgb_mod_s_sm = pickle.load(open('../models/xgb_mod_s_sm.sav', 'rb'))"
   ]
  },
  {
   "cell_type": "code",
   "execution_count": 22,
   "id": "8c95a829",
   "metadata": {},
   "outputs": [],
   "source": [
    "y_pred_xgb_s_sm = xgb_mod_s_sm.predict(X_s_test)"
   ]
  },
  {
   "cell_type": "code",
   "execution_count": null,
   "id": "5ac31b4d",
   "metadata": {},
   "outputs": [],
   "source": [
    "print('Accuracy Score : ' + str(accuracy_score(y_s_test,y_pred_xgb_s_sm)))\n",
    "print('Precision Score : ' + str(precision_score(y_s_test,y_pred_xgb_s_sm)))\n",
    "print('Recall Score : ' + str(recall_score(y_s_test,y_pred_xgb_s_sm)))\n",
    "print('F1 Score : ' + str(f1_score(y_s_test,y_pred_xgb_s_sm)))"
   ]
  },
  {
   "cell_type": "markdown",
   "id": "fe7af584",
   "metadata": {},
   "source": [
    "## 4. Explainability"
   ]
  },
  {
   "cell_type": "markdown",
   "id": "82cc2dd7",
   "metadata": {},
   "source": [
    "### 4.1 Feature importance"
   ]
  },
  {
   "cell_type": "code",
   "execution_count": null,
   "id": "fdcf003d",
   "metadata": {},
   "outputs": [],
   "source": [
    "importance_xgb_sm = xgb_mod_sm.feature_importances_\n",
    "\n",
    "list_of_importance_xgb_sm=zip(X.columns.tolist(), importance_xgb_sm.tolist())"
   ]
  },
  {
   "cell_type": "code",
   "execution_count": null,
   "id": "4839ac69",
   "metadata": {},
   "outputs": [],
   "source": [
    "plt.figure(figsize=(10, 6))\n",
    "\n",
    "arr = [x for x in range(len(importance_xgb_sm))]\n",
    "labels = X_train.columns.tolist()\n",
    "plt.bar(arr, importance_xgb_sm)\n",
    "plt.title('Feature importance XGBoost')\n",
    "plt.xticks(arr, labels, rotation=90)\n",
    "plt.show()"
   ]
  },
  {
   "cell_type": "code",
   "execution_count": null,
   "id": "41044729",
   "metadata": {},
   "outputs": [],
   "source": [
    "importance_xgb_s = xgb_mod_s.feature_importances_\n",
    "\n",
    "list_of_importance_xgb_s=zip(X.columns.tolist(), importance_xgb_s.tolist())"
   ]
  },
  {
   "cell_type": "code",
   "execution_count": null,
   "id": "e2c6ee86",
   "metadata": {},
   "outputs": [],
   "source": [
    "plt.figure(figsize=(10, 6))\n",
    "\n",
    "arr = [x for x in range(len(importance_xgb_s))]\n",
    "labels = X_train.columns.tolist()\n",
    "plt.bar(arr, importance_xgb_s)\n",
    "plt.title('Feature importance XGBoost (small)')\n",
    "plt.xticks(arr, labels, rotation=90)\n",
    "plt.show()"
   ]
  },
  {
   "cell_type": "markdown",
   "id": "630063e6",
   "metadata": {},
   "source": [
    "### 4.2. SHAP plots"
   ]
  },
  {
   "cell_type": "markdown",
   "id": "adc229b1",
   "metadata": {},
   "source": [
    "### Summary plots"
   ]
  },
  {
   "cell_type": "code",
   "execution_count": null,
   "id": "b017540e",
   "metadata": {},
   "outputs": [],
   "source": [
    "explainer_xgb = shap.TreeExplainer(xgb_mod)\n",
    "shap_values_xgb = explainer_xgb.shap_values(X)\n",
    "expected_value_xgb = explainer_xgbr.expected_value"
   ]
  },
  {
   "cell_type": "code",
   "execution_count": null,
   "id": "592d5294",
   "metadata": {},
   "outputs": [],
   "source": [
    "pickle.dump(shap_values_xgb, open('../models/shap_values_xgb.sav', 'wb'))"
   ]
  },
  {
   "cell_type": "code",
   "execution_count": null,
   "id": "b6f11165",
   "metadata": {},
   "outputs": [],
   "source": [
    "pickle.dump(expected_value_xgb, open('../models/expected_value_xgb.sav', 'wb'))"
   ]
  },
  {
   "cell_type": "code",
   "execution_count": null,
   "id": "66700a7a",
   "metadata": {},
   "outputs": [],
   "source": [
    "shap.summary_plot(shap_values_xgb, X,title=\"SHAP summary XGB\", show=False)\n",
    "plt.savefig('../images/shap_summary_xgb.png')"
   ]
  },
  {
   "cell_type": "code",
   "execution_count": null,
   "id": "b017540e",
   "metadata": {},
   "outputs": [],
   "source": [
    "explainer_xgb_s = shap.TreeExplainer(xgb_mod_s)\n",
    "shap_values_xgb_s = explainer_xgb_s.shap_values(X_s)\n",
    "expected_value_xgb_s = explainer_xgb_s.expected_value"
   ]
  },
  {
   "cell_type": "code",
   "execution_count": null,
   "id": "592d5294",
   "metadata": {},
   "outputs": [],
   "source": [
    "pickle.dump(shap_values_xgb_s, open('../models/shap_values_xgb_s.sav', 'wb'))"
   ]
  },
  {
   "cell_type": "code",
   "execution_count": null,
   "id": "b6f11165",
   "metadata": {},
   "outputs": [],
   "source": [
    "pickle.dump(expected_value_xgb_s, open('../models/expected_value_xgb_s.sav', 'wb'))"
   ]
  },
  {
   "cell_type": "code",
   "execution_count": null,
   "id": "66700a7a",
   "metadata": {},
   "outputs": [],
   "source": [
    "shap.summary_plot(shap_values_xgb_s, X,title=\"SHAP summary XGB (small dataset)\", show=False)\n",
    "plt.savefig('../images/shap_summary_xgb_s.png')"
   ]
  },
  {
   "cell_type": "markdown",
   "id": "7d98030a",
   "metadata": {},
   "source": [
    "### Barplot (for big dataset only)"
   ]
  },
  {
   "cell_type": "code",
   "execution_count": 369,
   "id": "2e1eea62",
   "metadata": {},
   "outputs": [],
   "source": [
    "shap_values_xgb_1=explainer_xgb(X)"
   ]
  },
  {
   "cell_type": "code",
   "execution_count": 370,
   "id": "c30f0002",
   "metadata": {},
   "outputs": [],
   "source": [
    "pickle.dump(shap_values_xgb_1, open('../models/expected_value_xgb_1.sav', 'wb'))"
   ]
  },
  {
   "cell_type": "code",
   "execution_count": 392,
   "id": "c8e88510",
   "metadata": {},
   "outputs": [],
   "source": [
    "shap_values_xgb_1 = pickle.load(open('../models/expected_value_xgb_1.sav', 'rb'))"
   ]
  },
  {
   "cell_type": "code",
   "execution_count": 456,
   "id": "35d3875d",
   "metadata": {},
   "outputs": [
    {
     "data": {
      "image/png": "[encoded data removed]",
      "text/plain": [
       "<Figure size 648x792 with 1 Axes>"
      ]
     },
     "metadata": {
      "needs_background": "light"
     },
     "output_type": "display_data"
    }
   ],
   "source": [
    "shap.summary_plot(shap_values_xgb_1, X, plot_type=\"bar\", color='firebrick', max_display=10,show=False)\n",
    "fig = plt.gcf() # gcf means \"get current figure\"\n",
    "fig.set_figheight(11)\n",
    "fig.set_figwidth(9)\n",
    "ax = plt.gca()\n",
    "labels=['Is it an author name?','Is it a verb?','Is it a proper name?','Is it a noun?','Importance','Tf-Idf','Position in sentence','Word length','Is it a bigram?','Frequency']\n",
    "ax.set_yticklabels(labels, fontsize=16)\n",
    "ax.set_xlabel(\"Feature importance (mean SHAP values)\", fontsize=16)\n",
    "\n",
    "plt.savefig('../images/shap_summary_xgb1.png', bbox_inches=\"tight\")"
   ]
  },
  {
   "cell_type": "markdown",
   "id": "784d2e12",
   "metadata": {},
   "source": [
    "### Appendix: Visualization (comparison metrics)"
   ]
  },
  {
   "cell_type": "code",
   "execution_count": 373,
   "id": "c1d43d83",
   "metadata": {},
   "outputs": [],
   "source": [
    "comparison_metrics=[['Accuracy','General model',0.9906481704802732],\n",
    "                    ['Accuracy','Philosophy model',0.992522026924281],\n",
    "                    ['Precision','General model',0.7207505518763797],\n",
    "                    ['Precision','Philosophy model',0.7841328413284133], \n",
    "                    ['Recall','General model', 0.23288159771754635],\n",
    "                    ['Recall','Philosophy model',0.3715034965034965],\n",
    "                    ['F1 score','General model',0.35202156334231804],\n",
    "                    ['F1 score','Philosophy model',0.5041518386714117]]"
   ]
  },
  {
   "cell_type": "code",
   "execution_count": 374,
   "id": "da310f41",
   "metadata": {},
   "outputs": [],
   "source": [
    "comparison_metrics_df=pd.DataFrame(comparison_metrics, columns=['Metric','Model', 'Value'])"
   ]
  },
  {
   "cell_type": "code",
   "execution_count": 375,
   "id": "0e2a17f0",
   "metadata": {
    "scrolled": true
   },
   "outputs": [
    {
     "data": {
      "text/html": [
       "<div>\n",
       "<style scoped>\n",
       "    .dataframe tbody tr th:only-of-type {\n",
       "        vertical-align: middle;\n",
       "    }\n",
       "\n",
       "    .dataframe tbody tr th {\n",
       "        vertical-align: top;\n",
       "    }\n",
       "\n",
       "    .dataframe thead th {\n",
       "        text-align: right;\n",
       "    }\n",
       "</style>\n",
       "<table border=\"1\" class=\"dataframe\">\n",
       "  <thead>\n",
       "    <tr style=\"text-align: right;\">\n",
       "      <th></th>\n",
       "      <th>Metric</th>\n",
       "      <th>Model</th>\n",
       "      <th>Value</th>\n",
       "    </tr>\n",
       "  </thead>\n",
       "  <tbody>\n",
       "    <tr>\n",
       "      <th>0</th>\n",
       "      <td>Accuracy</td>\n",
       "      <td>General model</td>\n",
       "      <td>0.990648</td>\n",
       "    </tr>\n",
       "    <tr>\n",
       "      <th>1</th>\n",
       "      <td>Accuracy</td>\n",
       "      <td>Philosophy model</td>\n",
       "      <td>0.992522</td>\n",
       "    </tr>\n",
       "    <tr>\n",
       "      <th>2</th>\n",
       "      <td>Precision</td>\n",
       "      <td>General model</td>\n",
       "      <td>0.720751</td>\n",
       "    </tr>\n",
       "    <tr>\n",
       "      <th>3</th>\n",
       "      <td>Precision</td>\n",
       "      <td>Philosophy model</td>\n",
       "      <td>0.784133</td>\n",
       "    </tr>\n",
       "    <tr>\n",
       "      <th>4</th>\n",
       "      <td>Recall</td>\n",
       "      <td>General model</td>\n",
       "      <td>0.232882</td>\n",
       "    </tr>\n",
       "    <tr>\n",
       "      <th>5</th>\n",
       "      <td>Recall</td>\n",
       "      <td>Philosophy model</td>\n",
       "      <td>0.371503</td>\n",
       "    </tr>\n",
       "    <tr>\n",
       "      <th>6</th>\n",
       "      <td>F1 score</td>\n",
       "      <td>General model</td>\n",
       "      <td>0.352022</td>\n",
       "    </tr>\n",
       "    <tr>\n",
       "      <th>7</th>\n",
       "      <td>F1 score</td>\n",
       "      <td>Philosophy model</td>\n",
       "      <td>0.504152</td>\n",
       "    </tr>\n",
       "  </tbody>\n",
       "</table>\n",
       "</div>"
      ],
      "text/plain": [
       "      Metric             Model     Value\n",
       "0   Accuracy     General model  0.990648\n",
       "1   Accuracy  Philosophy model  0.992522\n",
       "2  Precision     General model  0.720751\n",
       "3  Precision  Philosophy model  0.784133\n",
       "4     Recall     General model  0.232882\n",
       "5     Recall  Philosophy model  0.371503\n",
       "6   F1 score     General model  0.352022\n",
       "7   F1 score  Philosophy model  0.504152"
      ]
     },
     "execution_count": 375,
     "metadata": {},
     "output_type": "execute_result"
    }
   ],
   "source": [
    "comparison_metrics_df"
   ]
  },
  {
   "cell_type": "code",
   "execution_count": 457,
   "id": "db50ea1c",
   "metadata": {},
   "outputs": [
    {
     "data": {
      "image/png": "[encoded data removed]",
      "text/plain": [
       "<Figure size 432x432 with 1 Axes>"
      ]
     },
     "metadata": {
      "needs_background": "light"
     },
     "output_type": "display_data"
    }
   ],
   "source": [
    "comparison_metrics_img = sns.catplot(\n",
    "    data=comparison_metrics_df, kind=\"bar\",\n",
    "    x=\"Metric\", y=\"Value\", hue=\"Model\", saturation=1,\n",
    "    ci=\"sd\", palette=['lightgrey','firebrick'], height=6, legend=False\n",
    ")\n",
    "\n",
    "plt.xlabel('Metrics',fontsize=17)\n",
    "plt.ylabel('')\n",
    "plt.tick_params(axis='both', labelsize=15)\n",
    "\n",
    "\n",
    "plt.legend(loc = 2,fontsize=15, bbox_to_anchor = (0.55,0.95))\n",
    "\n",
    "plt.savefig(\"../images/comparison_metrics_img.png\", bbox_inches=\"tight\")"
   ]
  }
 ],
 "metadata": {
  "kernelspec": {
   "display_name": "Python 3",
   "language": "python",
   "name": "python3"
  },
  "language_info": {
   "codemirror_mode": {
    "name": "ipython",
    "version": 3
   },
   "file_extension": ".py",
   "mimetype": "text/x-python",
   "name": "python",
   "nbconvert_exporter": "python",
   "pygments_lexer": "ipython3",
   "version": "3.7.10"
  }
 },
 "nbformat": 4,
 "nbformat_minor": 5
}
