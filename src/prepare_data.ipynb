{
 "cells": [
  {
   "cell_type": "code",
   "execution_count": null,
   "metadata": {},
   "outputs": [],
   "source": [
    "%reload_ext autoreload\n",
    "%autoreload 2\n",
    "from IPython.core.interactiveshell import InteractiveShell\n",
    "import pathlib\n",
    "\n",
    "from data_loader import get_pdf_filepaths, load_page_and_line_indexes, load_split_data, load_raw_indexes_list\n",
    "from pdf_reader import parse_pdf\n",
    "from data_cleaner import clean_initial_indexes, add_split_data\n",
    "from data_saver import save_page_and_line_indexes, save_split_data, save_raw_indexes_list, save_aggregated_data\n",
    "from data_transformer import (\n",
    "  get_candidates_and_frequencies, \n",
    "  add_frequencies_column, \n",
    "  add_is_in_toc, \n",
    "  add_importance,\n",
    "  add_position_in_context,\n",
    "  add_is_named_entity,\n",
    "  add_length_of_word,\n",
    "  add_is_named_author,\n",
    "  add_tfidf,\n",
    "  get_raw_indexes_list,\n",
    "  add_is_in_index,\n",
    "  aggregate_by_candidate\n",
    ")\n",
    "#InteractiveShell.ast_node_interactivity = \"all\""
   ]
  },
  {
   "cell_type": "markdown",
   "metadata": {},
   "source": [
    "# Configuration variables"
   ]
  },
  {
   "cell_type": "code",
   "execution_count": null,
   "metadata": {},
   "outputs": [],
   "source": [
    "DATA_DIR_PATH = \"../data/\"\n",
    "PDF_SOURCE_DIR_PATH = DATA_DIR_PATH + \"pdf/\"\n",
    "PROCESSED_DATA_DIR_PATH = DATA_DIR_PATH + \"processed/\""
   ]
  },
  {
   "cell_type": "markdown",
   "metadata": {},
   "source": [
    "# Load data"
   ]
  },
  {
   "cell_type": "code",
   "execution_count": null,
   "metadata": {},
   "outputs": [],
   "source": [
    "file_paths = get_pdf_filepaths(PDF_SOURCE_DIR_PATH)\n",
    "file_paths"
   ]
  },
  {
   "cell_type": "markdown",
   "metadata": {},
   "source": [
    "# Raw line and page data\n"
   ]
  },
  {
   "cell_type": "code",
   "execution_count": null,
   "metadata": {},
   "outputs": [],
   "source": [
    "for file_path in file_paths[]:#insert relevant interval\n",
    "    raw_line_and_page_indexes = parse_pdf(file_path)\n",
    "\n",
    "    line_and_page_indexes = clean_initial_indexes(raw_line_and_page_indexes)\n",
    "    save_page_and_line_indexes(\n",
    "     processed_data_dir_path=PROCESSED_DATA_DIR_PATH, \n",
    "     line_and_page_indexes=line_and_page_indexes)"
   ]
  },
  {
   "cell_type": "markdown",
   "metadata": {},
   "source": [
    "# Data set split\n"
   ]
  },
  {
   "cell_type": "code",
   "execution_count": null,
   "metadata": {},
   "outputs": [],
   "source": [
    "file_path = file_paths[14]#insert relevant number\n",
    "\n",
    "line_and_page_indexes = load_page_and_line_indexes(\n",
    "  processed_data_dir_path=PROCESSED_DATA_DIR_PATH,\n",
    "  pdf_filepath=file_path)\n",
    "\n",
    "with_split_data = add_split_data(\n",
    "  file_path=file_path,\n",
    "  line_and_page_indexes=line_and_page_indexes)\n",
    "\n",
    "save_split_data(\n",
    "  processed_data_dir_path=PROCESSED_DATA_DIR_PATH,\n",
    "  split_data=with_split_data)"
   ]
  },
  {
   "cell_type": "markdown",
   "metadata": {},
   "source": [
    "# Prepare input data frames"
   ]
  },
  {
   "cell_type": "code",
   "execution_count": null,
   "metadata": {},
   "outputs": [],
   "source": [
    "with_split_data['by_page_toc']"
   ]
  },
  {
   "cell_type": "code",
   "execution_count": null,
   "metadata": {},
   "outputs": [],
   "source": [
    "with_split_data['by_page_biblio']"
   ]
  },
  {
   "cell_type": "code",
   "execution_count": null,
   "metadata": {},
   "outputs": [],
   "source": [
    "with_split_data['by_page_index']"
   ]
  },
  {
   "cell_type": "code",
   "execution_count": null,
   "metadata": {},
   "outputs": [],
   "source": [
    "split_data = load_split_data(\n",
    "    processed_data_dir_path=PROCESSED_DATA_DIR_PATH,\n",
    "    pdf_filepath=file_path  )\n",
    "\n",
    "(candidates_df, freq_ngrams) = get_candidates_and_frequencies(split_data)"
   ]
  },
  {
   "cell_type": "code",
   "execution_count": null,
   "metadata": {},
   "outputs": [],
   "source": [
    "with_frequencies = add_frequencies_column(\n",
    "  by_pages_body_df=split_data['by_page_body'],\n",
    "  candidates_df=candidates_df,\n",
    "  freq_ngrams=freq_ngrams)"
   ]
  },
  {
   "cell_type": "code",
   "execution_count": null,
   "metadata": {},
   "outputs": [],
   "source": [
    "with_is_in_toc = add_is_in_toc(\n",
    "  candidates_df=with_frequencies, \n",
    "  by_line_toc=split_data['by_line_toc'])\n"
   ]
  },
  {
   "cell_type": "code",
   "execution_count": null,
   "metadata": {},
   "outputs": [],
   "source": [
    "with_position_in_context = add_position_in_context(with_is_in_toc)"
   ]
  },
  {
   "cell_type": "code",
   "execution_count": null,
   "metadata": {},
   "outputs": [],
   "source": [
    "with_importance = add_importance(with_position_in_context)"
   ]
  },
  {
   "cell_type": "code",
   "execution_count": null,
   "metadata": {},
   "outputs": [],
   "source": [
    "with_is_named_entity = add_is_named_entity(\n",
    "  candidates_df=candidates_df,\n",
    "  df_pages_body=split_data['by_page_body'])"
   ]
  },
  {
   "cell_type": "code",
   "execution_count": null,
   "metadata": {},
   "outputs": [],
   "source": [
    "with_length_of_word = add_length_of_word(candidates_df)"
   ]
  },
  {
   "cell_type": "code",
   "execution_count": null,
   "metadata": {},
   "outputs": [],
   "source": [
    "with_is_named_author = add_is_named_author(\n",
    "  candidates_df=with_length_of_word,\n",
    "  df_pages_biblio=split_data['by_page_biblio'])"
   ]
  },
  {
   "cell_type": "code",
   "execution_count": null,
   "metadata": {},
   "outputs": [],
   "source": [
    "with_tfidf = add_tfidf(\n",
    "  candidates_df=with_is_named_author,\n",
    "  df_pages_body=split_data['by_page_body'])"
   ]
  },
  {
   "cell_type": "code",
   "execution_count": null,
   "metadata": {},
   "outputs": [],
   "source": [
    "with_tfidf.head()"
   ]
  },
  {
   "cell_type": "code",
   "execution_count": null,
   "metadata": {},
   "outputs": [],
   "source": [
    "(raw_indexes_list, updated_by_line_index) = get_raw_indexes_list(\n",
    "  df_cann_lines_index=split_data['by_line_index']\n",
    ")"
   ]
  },
  {
   "cell_type": "code",
   "execution_count": null,
   "metadata": {},
   "outputs": [],
   "source": [
    "save_raw_indexes_list(\n",
    "  processed_data_dir_path=PROCESSED_DATA_DIR_PATH,\n",
    "  pdf_filepath=file_path,\n",
    "  raw_indexes_list=raw_indexes_list)"
   ]
  },
  {
   "cell_type": "code",
   "execution_count": null,
   "metadata": {},
   "outputs": [],
   "source": [
    "clean_indexes = load_raw_indexes_list(\n",
    "  processed_data_dir_path=PROCESSED_DATA_DIR_PATH,\n",
    "  pdf_filepath=file_path)"
   ]
  },
  {
   "cell_type": "code",
   "execution_count": null,
   "metadata": {},
   "outputs": [],
   "source": [
    "with_is_in_index = add_is_in_index(\n",
    "  candidates_df=with_tfidf,\n",
    "  indexes_list=clean_indexes)"
   ]
  },
  {
   "cell_type": "code",
   "execution_count": null,
   "metadata": {},
   "outputs": [],
   "source": [
    "aggregated_df=aggregate_by_candidate(\n",
    "  candidates_df=with_is_in_index \n",
    ")"
   ]
  },
  {
   "cell_type": "code",
   "execution_count": null,
   "metadata": {},
   "outputs": [],
   "source": [
    "save_aggregated_data(\n",
    "    processed_data_dir_path=PROCESSED_DATA_DIR_PATH,\n",
    "    agg_df=aggregated_df,\n",
    "    file_name=pathlib.Path(file_path).name\n",
    ")"
   ]
  }
 ],
 "metadata": {
  "interpreter": {
   "hash": "01cb0e940888771f45517ede6c557d5279c3bc08138d07b2a04ba54b7480cc42"
  },
  "kernelspec": {
   "display_name": "Python 3",
   "language": "python",
   "name": "python3"
  },
  "language_info": {
   "codemirror_mode": {
    "name": "ipython",
    "version": 3
   },
   "file_extension": ".py",
   "mimetype": "text/x-python",
   "name": "python",
   "nbconvert_exporter": "python",
   "pygments_lexer": "ipython3",
   "version": "3.7.10"
  }
 },
 "nbformat": 4,
 "nbformat_minor": 2
}
