{
 "cells": [
  {
   "cell_type": "code",
   "execution_count": 11,
   "id": "6e1e6559",
   "metadata": {},
   "outputs": [],
   "source": [
    "from sklearn.model_selection import cross_validate\n",
    "from sklearn.model_selection import train_test_split\n",
    "from sklearn.model_selection import GridSearchCV\n",
    "from sklearn.metrics import accuracy_score,recall_score,precision_score,f1_score\n",
    "from sklearn.linear_model import LogisticRegression, LogisticRegressionCV\n",
    "from sklearn.ensemble import RandomForestClassifier\n",
    "from sklearn.metrics import confusion_matrix\n",
    "from sklearn.preprocessing import MinMaxScaler\n",
    "from imblearn.over_sampling import SMOTE\n",
    "from imblearn.under_sampling import ClusterCentroids, CondensedNearestNeighbour, RandomUnderSampler\n",
    "from sklearn.ensemble import GradientBoostingClassifier\n",
    "from xgboost import XGBClassifier\n",
    "from sklearn.decomposition import PCA\n",
    "from sklearn.svm import SVC\n",
    "\n",
    "import numpy as np\n",
    "import pandas as pd\n",
    "import seaborn as sns\n",
    "import matplotlib.pyplot as plt\n",
    "\n",
    "import pickle\n",
    "\n",
    "import pathlib\n",
    "from glob import glob\n",
    "from data_loader import get_pdf_filepaths"
   ]
  },
  {
   "cell_type": "code",
   "execution_count": 12,
   "id": "778e8495",
   "metadata": {},
   "outputs": [],
   "source": [
    "from IPython import get_ipython\n",
    "ip = get_ipython()\n",
    "ip.InteractiveTB.set_mode(mode=\"Verbose\")"
   ]
  },
  {
   "cell_type": "code",
   "execution_count": 13,
   "id": "94c9e953",
   "metadata": {},
   "outputs": [],
   "source": [
    "def get_agg_dfs_filepaths(folder_path):\n",
    "    absolute_folder_path = pathlib.Path(folder_path).resolve()\n",
    "    #print(absolute_folder_path)\n",
    "    pattern = str(absolute_folder_path / '**/aggregated.csv')\n",
    "    #print(pattern)\n",
    "    return glob(pattern)"
   ]
  },
  {
   "cell_type": "markdown",
   "id": "317f1d1b",
   "metadata": {},
   "source": [
    "# 0. Create dataset from the csvs of all books"
   ]
  },
  {
   "cell_type": "code",
   "execution_count": 14,
   "id": "3dbbab06",
   "metadata": {},
   "outputs": [],
   "source": [
    "DATA_DIR_PATH = \"../data/\"\n",
    "PDF_SOURCE_DIR_PATH = DATA_DIR_PATH + \"pdf/\"\n",
    "PROCESSED_DATA_DIR_PATH = DATA_DIR_PATH + \"processed/\""
   ]
  },
  {
   "cell_type": "code",
   "execution_count": 15,
   "id": "71204b40",
   "metadata": {},
   "outputs": [
    {
     "data": {
      "text/plain": [
       "['/Users/bertagrim/dev_projects/final_project/index_generator/data/processed/lycan_08/aggregated.csv',\n",
       " '/Users/bertagrim/dev_projects/final_project/index_generator/data/processed/2015_Book_LinearAlgebra/aggregated.csv',\n",
       " '/Users/bertagrim/dev_projects/final_project/index_generator/data/processed/2007BoolosComputability and Logic Fifth Edition/aggregated.csv',\n",
       " '/Users/bertagrim/dev_projects/final_project/index_generator/data/processed/christensen_04/aggregated.csv',\n",
       " '/Users/bertagrim/dev_projects/final_project/index_generator/data/processed/williamson_94/aggregated.csv',\n",
       " '/Users/bertagrim/dev_projects/final_project/index_generator/data/processed/2014_Book_Microeconomics/aggregated.csv',\n",
       " '/Users/bertagrim/dev_projects/final_project/index_generator/data/processed/jacobson_14/aggregated.csv',\n",
       " '/Users/bertagrim/dev_projects/final_project/index_generator/data/processed/morris_07/aggregated.csv',\n",
       " '/Users/bertagrim/dev_projects/final_project/index_generator/data/processed/moltmann_97/aggregated.csv',\n",
       " '/Users/bertagrim/dev_projects/final_project/index_generator/data/processed/zimmermann_13/aggregated.csv',\n",
       " '/Users/bertagrim/dev_projects/final_project/index_generator/data/processed/2009_Book_TheElementsOfStatisticalLearni/aggregated.csv',\n",
       " '/Users/bertagrim/dev_projects/final_project/index_generator/data/processed/peregrin_17/aggregated.csv',\n",
       " '/Users/bertagrim/dev_projects/final_project/index_generator/data/processed/linnebo_21/aggregated.csv',\n",
       " '/Users/bertagrim/dev_projects/final_project/index_generator/data/processed/2017_Book_CosmologyForTheCurious/aggregated.csv',\n",
       " '/Users/bertagrim/dev_projects/final_project/index_generator/data/processed/shapiro_97/aggregated.csv',\n",
       " '/Users/bertagrim/dev_projects/final_project/index_generator/data/processed/linnebo_18/aggregated.csv',\n",
       " '/Users/bertagrim/dev_projects/final_project/index_generator/data/processed/heather_17/aggregated.csv',\n",
       " '/Users/bertagrim/dev_projects/final_project/index_generator/data/processed/jenkins_08/aggregated.csv',\n",
       " '/Users/bertagrim/dev_projects/final_project/index_generator/data/processed/keefe_00/aggregated.csv',\n",
       " '/Users/bertagrim/dev_projects/final_project/index_generator/data/processed/winter_16/aggregated.csv',\n",
       " '/Users/bertagrim/dev_projects/final_project/index_generator/data/processed/oliver_13/aggregated.csv',\n",
       " '/Users/bertagrim/dev_projects/final_project/index_generator/data/processed/lyons_96/aggregated.csv']"
      ]
     },
     "execution_count": 15,
     "metadata": {},
     "output_type": "execute_result"
    }
   ],
   "source": [
    "file_paths = get_agg_dfs_filepaths(PROCESSED_DATA_DIR_PATH)\n",
    "file_paths"
   ]
  },
  {
   "cell_type": "code",
   "execution_count": 1,
   "id": "9e3a23e9",
   "metadata": {},
   "outputs": [
    {
     "ename": "NameError",
     "evalue": "name 'file_paths' is not defined",
     "output_type": "error",
     "traceback": [
      "\u001b[0;31m---------------------------------------------------------------------------\u001b[0m",
      "\u001b[0;31mNameError\u001b[0m                                 Traceback (most recent call last)",
      "\u001b[0;32m<ipython-input-1-0fe4f7fd71ba>\u001b[0m in \u001b[0;36m<module>\u001b[0;34m\u001b[0m\n\u001b[1;32m      1\u001b[0m \u001b[0mlist_agg_dfs\u001b[0m\u001b[0;34m=\u001b[0m\u001b[0;34m[\u001b[0m\u001b[0;34m]\u001b[0m\u001b[0;34m\u001b[0m\u001b[0;34m\u001b[0m\u001b[0m\n\u001b[0;32m----> 2\u001b[0;31m \u001b[0;32mfor\u001b[0m \u001b[0mpath\u001b[0m \u001b[0;32min\u001b[0m \u001b[0mfile_paths\u001b[0m\u001b[0;34m:\u001b[0m\u001b[0;34m\u001b[0m\u001b[0;34m\u001b[0m\u001b[0m\n\u001b[0m\u001b[1;32m      3\u001b[0m     \u001b[0maggregated_df\u001b[0m \u001b[0;34m=\u001b[0m \u001b[0mpd\u001b[0m\u001b[0;34m.\u001b[0m\u001b[0mread_csv\u001b[0m\u001b[0;34m(\u001b[0m\u001b[0mpath\u001b[0m\u001b[0;34m,\u001b[0m\u001b[0mindex_col\u001b[0m\u001b[0;34m=\u001b[0m\u001b[0;36m0\u001b[0m\u001b[0;34m)\u001b[0m\u001b[0;34m\u001b[0m\u001b[0;34m\u001b[0m\u001b[0m\n\u001b[1;32m      4\u001b[0m     \u001b[0mlist_agg_dfs\u001b[0m\u001b[0;34m.\u001b[0m\u001b[0mappend\u001b[0m\u001b[0;34m(\u001b[0m\u001b[0maggregated_df\u001b[0m\u001b[0;34m)\u001b[0m\u001b[0;34m\u001b[0m\u001b[0;34m\u001b[0m\u001b[0m\n\u001b[1;32m      5\u001b[0m \u001b[0;34m\u001b[0m\u001b[0m\n",
      "\u001b[0;31mNameError\u001b[0m: name 'file_paths' is not defined"
     ]
    }
   ],
   "source": [
    "list_agg_dfs=[]\n",
    "for path in file_paths:\n",
    "    aggregated_df = pd.read_csv(path,index_col=0)\n",
    "    list_agg_dfs.append(aggregated_df)\n",
    "    \n",
    "df = pd.concat(list_agg_dfs)"
   ]
  },
  {
   "cell_type": "code",
   "execution_count": 17,
   "id": "209d7c1a",
   "metadata": {},
   "outputs": [],
   "source": [
    "list_agg_dfs=[]\n",
    "n=0\n",
    "for path in file_paths:\n",
    "    while n<11:\n",
    "        aggregated_df = pd.read_csv(path,index_col=0)\n",
    "        list_agg_dfs.append(aggregated_df)\n",
    "        n+=1\n",
    "    \n",
    "df_s = pd.concat(list_agg_dfs)"
   ]
  },
  {
   "cell_type": "code",
   "execution_count": 18,
   "id": "ea926e8a",
   "metadata": {},
   "outputs": [
    {
     "name": "stdout",
     "output_type": "stream",
     "text": [
      "<class 'pandas.core.frame.DataFrame'>\n",
      "Int64Index: 379489 entries, 0 to 34498\n",
      "Data columns (total 11 columns):\n",
      " #   Column               Non-Null Count   Dtype  \n",
      "---  ------               --------------   -----  \n",
      " 0   candidate_keyword    379489 non-null  object \n",
      " 1   length               379489 non-null  int64  \n",
      " 2   is_named_entity      379489 non-null  int64  \n",
      " 3   is_named_author      379489 non-null  int64  \n",
      " 4   is_in_toc            379489 non-null  int64  \n",
      " 5   freq                 379489 non-null  float64\n",
      " 6   is_in_index          379489 non-null  int64  \n",
      " 7   tfidf                379489 non-null  float64\n",
      " 8   importance           379489 non-null  float64\n",
      " 9   position_in_context  379489 non-null  float64\n",
      " 10  POS                  379489 non-null  object \n",
      "dtypes: float64(4), int64(5), object(2)\n",
      "memory usage: 34.7+ MB\n"
     ]
    }
   ],
   "source": [
    "df_s.info()"
   ]
  },
  {
   "cell_type": "markdown",
   "id": "ce304b15",
   "metadata": {},
   "source": [
    "# 1. Feature engineering"
   ]
  },
  {
   "cell_type": "code",
   "execution_count": 19,
   "id": "7dbbc895",
   "metadata": {},
   "outputs": [],
   "source": [
    "df.reset_index(drop=True, inplace=True)"
   ]
  },
  {
   "cell_type": "code",
   "execution_count": 20,
   "id": "88860df4",
   "metadata": {},
   "outputs": [],
   "source": [
    "df_s.reset_index(drop=True, inplace=True)"
   ]
  },
  {
   "cell_type": "code",
   "execution_count": 21,
   "id": "2acb0372",
   "metadata": {},
   "outputs": [
    {
     "data": {
      "text/html": [
       "<div>\n",
       "<style scoped>\n",
       "    .dataframe tbody tr th:only-of-type {\n",
       "        vertical-align: middle;\n",
       "    }\n",
       "\n",
       "    .dataframe tbody tr th {\n",
       "        vertical-align: top;\n",
       "    }\n",
       "\n",
       "    .dataframe thead th {\n",
       "        text-align: right;\n",
       "    }\n",
       "</style>\n",
       "<table border=\"1\" class=\"dataframe\">\n",
       "  <thead>\n",
       "    <tr style=\"text-align: right;\">\n",
       "      <th></th>\n",
       "      <th>candidate_keyword</th>\n",
       "      <th>length</th>\n",
       "      <th>is_named_entity</th>\n",
       "      <th>is_named_author</th>\n",
       "      <th>is_in_toc</th>\n",
       "      <th>freq</th>\n",
       "      <th>is_in_index</th>\n",
       "      <th>tfidf</th>\n",
       "      <th>importance</th>\n",
       "      <th>position_in_context</th>\n",
       "    </tr>\n",
       "    <tr>\n",
       "      <th>POS</th>\n",
       "      <th></th>\n",
       "      <th></th>\n",
       "      <th></th>\n",
       "      <th></th>\n",
       "      <th></th>\n",
       "      <th></th>\n",
       "      <th></th>\n",
       "      <th></th>\n",
       "      <th></th>\n",
       "      <th></th>\n",
       "    </tr>\n",
       "  </thead>\n",
       "  <tbody>\n",
       "    <tr>\n",
       "      <th>ADJ</th>\n",
       "      <td>19629</td>\n",
       "      <td>19637</td>\n",
       "      <td>19637</td>\n",
       "      <td>19637</td>\n",
       "      <td>19637</td>\n",
       "      <td>19637</td>\n",
       "      <td>19637</td>\n",
       "      <td>19637</td>\n",
       "      <td>19637</td>\n",
       "      <td>19637</td>\n",
       "    </tr>\n",
       "    <tr>\n",
       "      <th>ADP</th>\n",
       "      <td>769</td>\n",
       "      <td>769</td>\n",
       "      <td>769</td>\n",
       "      <td>769</td>\n",
       "      <td>769</td>\n",
       "      <td>769</td>\n",
       "      <td>769</td>\n",
       "      <td>769</td>\n",
       "      <td>769</td>\n",
       "      <td>769</td>\n",
       "    </tr>\n",
       "    <tr>\n",
       "      <th>ADV</th>\n",
       "      <td>7305</td>\n",
       "      <td>7305</td>\n",
       "      <td>7305</td>\n",
       "      <td>7305</td>\n",
       "      <td>7305</td>\n",
       "      <td>7305</td>\n",
       "      <td>7305</td>\n",
       "      <td>7305</td>\n",
       "      <td>7305</td>\n",
       "      <td>7305</td>\n",
       "    </tr>\n",
       "    <tr>\n",
       "      <th>AUX</th>\n",
       "      <td>282</td>\n",
       "      <td>282</td>\n",
       "      <td>282</td>\n",
       "      <td>282</td>\n",
       "      <td>282</td>\n",
       "      <td>282</td>\n",
       "      <td>282</td>\n",
       "      <td>282</td>\n",
       "      <td>282</td>\n",
       "      <td>282</td>\n",
       "    </tr>\n",
       "    <tr>\n",
       "      <th>CCONJ</th>\n",
       "      <td>98</td>\n",
       "      <td>98</td>\n",
       "      <td>98</td>\n",
       "      <td>98</td>\n",
       "      <td>98</td>\n",
       "      <td>98</td>\n",
       "      <td>98</td>\n",
       "      <td>98</td>\n",
       "      <td>98</td>\n",
       "      <td>98</td>\n",
       "    </tr>\n",
       "    <tr>\n",
       "      <th>CHUNK</th>\n",
       "      <td>749051</td>\n",
       "      <td>749051</td>\n",
       "      <td>749051</td>\n",
       "      <td>749051</td>\n",
       "      <td>749051</td>\n",
       "      <td>749051</td>\n",
       "      <td>749051</td>\n",
       "      <td>749051</td>\n",
       "      <td>749051</td>\n",
       "      <td>749051</td>\n",
       "    </tr>\n",
       "    <tr>\n",
       "      <th>DET</th>\n",
       "      <td>167</td>\n",
       "      <td>167</td>\n",
       "      <td>167</td>\n",
       "      <td>167</td>\n",
       "      <td>167</td>\n",
       "      <td>167</td>\n",
       "      <td>167</td>\n",
       "      <td>167</td>\n",
       "      <td>167</td>\n",
       "      <td>167</td>\n",
       "    </tr>\n",
       "    <tr>\n",
       "      <th>INTJ</th>\n",
       "      <td>251</td>\n",
       "      <td>251</td>\n",
       "      <td>251</td>\n",
       "      <td>251</td>\n",
       "      <td>251</td>\n",
       "      <td>251</td>\n",
       "      <td>251</td>\n",
       "      <td>251</td>\n",
       "      <td>251</td>\n",
       "      <td>251</td>\n",
       "    </tr>\n",
       "    <tr>\n",
       "      <th>NOUN</th>\n",
       "      <td>43999</td>\n",
       "      <td>43999</td>\n",
       "      <td>43999</td>\n",
       "      <td>43999</td>\n",
       "      <td>43999</td>\n",
       "      <td>43999</td>\n",
       "      <td>43999</td>\n",
       "      <td>43999</td>\n",
       "      <td>43999</td>\n",
       "      <td>43999</td>\n",
       "    </tr>\n",
       "    <tr>\n",
       "      <th>NUM</th>\n",
       "      <td>306</td>\n",
       "      <td>306</td>\n",
       "      <td>306</td>\n",
       "      <td>306</td>\n",
       "      <td>306</td>\n",
       "      <td>306</td>\n",
       "      <td>306</td>\n",
       "      <td>306</td>\n",
       "      <td>306</td>\n",
       "      <td>306</td>\n",
       "    </tr>\n",
       "    <tr>\n",
       "      <th>PART</th>\n",
       "      <td>3</td>\n",
       "      <td>3</td>\n",
       "      <td>3</td>\n",
       "      <td>3</td>\n",
       "      <td>3</td>\n",
       "      <td>3</td>\n",
       "      <td>3</td>\n",
       "      <td>3</td>\n",
       "      <td>3</td>\n",
       "      <td>3</td>\n",
       "    </tr>\n",
       "    <tr>\n",
       "      <th>PRON</th>\n",
       "      <td>258</td>\n",
       "      <td>258</td>\n",
       "      <td>258</td>\n",
       "      <td>258</td>\n",
       "      <td>258</td>\n",
       "      <td>258</td>\n",
       "      <td>258</td>\n",
       "      <td>258</td>\n",
       "      <td>258</td>\n",
       "      <td>258</td>\n",
       "    </tr>\n",
       "    <tr>\n",
       "      <th>PROPN</th>\n",
       "      <td>7407</td>\n",
       "      <td>7407</td>\n",
       "      <td>7407</td>\n",
       "      <td>7407</td>\n",
       "      <td>7407</td>\n",
       "      <td>7407</td>\n",
       "      <td>7407</td>\n",
       "      <td>7407</td>\n",
       "      <td>7407</td>\n",
       "      <td>7407</td>\n",
       "    </tr>\n",
       "    <tr>\n",
       "      <th>PUNCT</th>\n",
       "      <td>16</td>\n",
       "      <td>16</td>\n",
       "      <td>16</td>\n",
       "      <td>16</td>\n",
       "      <td>16</td>\n",
       "      <td>16</td>\n",
       "      <td>16</td>\n",
       "      <td>16</td>\n",
       "      <td>16</td>\n",
       "      <td>16</td>\n",
       "    </tr>\n",
       "    <tr>\n",
       "      <th>SCONJ</th>\n",
       "      <td>239</td>\n",
       "      <td>239</td>\n",
       "      <td>239</td>\n",
       "      <td>239</td>\n",
       "      <td>239</td>\n",
       "      <td>239</td>\n",
       "      <td>239</td>\n",
       "      <td>239</td>\n",
       "      <td>239</td>\n",
       "      <td>239</td>\n",
       "    </tr>\n",
       "    <tr>\n",
       "      <th>SYM</th>\n",
       "      <td>4</td>\n",
       "      <td>4</td>\n",
       "      <td>4</td>\n",
       "      <td>4</td>\n",
       "      <td>4</td>\n",
       "      <td>4</td>\n",
       "      <td>4</td>\n",
       "      <td>4</td>\n",
       "      <td>4</td>\n",
       "      <td>4</td>\n",
       "    </tr>\n",
       "    <tr>\n",
       "      <th>VERB</th>\n",
       "      <td>26859</td>\n",
       "      <td>26859</td>\n",
       "      <td>26859</td>\n",
       "      <td>26859</td>\n",
       "      <td>26859</td>\n",
       "      <td>26859</td>\n",
       "      <td>26859</td>\n",
       "      <td>26859</td>\n",
       "      <td>26859</td>\n",
       "      <td>26859</td>\n",
       "    </tr>\n",
       "    <tr>\n",
       "      <th>X</th>\n",
       "      <td>228</td>\n",
       "      <td>228</td>\n",
       "      <td>228</td>\n",
       "      <td>228</td>\n",
       "      <td>228</td>\n",
       "      <td>228</td>\n",
       "      <td>228</td>\n",
       "      <td>228</td>\n",
       "      <td>228</td>\n",
       "      <td>228</td>\n",
       "    </tr>\n",
       "  </tbody>\n",
       "</table>\n",
       "</div>"
      ],
      "text/plain": [
       "       candidate_keyword  length  is_named_entity  is_named_author  is_in_toc  \\\n",
       "POS                                                                             \n",
       "ADJ                19629   19637            19637            19637      19637   \n",
       "ADP                  769     769              769              769        769   \n",
       "ADV                 7305    7305             7305             7305       7305   \n",
       "AUX                  282     282              282              282        282   \n",
       "CCONJ                 98      98               98               98         98   \n",
       "CHUNK             749051  749051           749051           749051     749051   \n",
       "DET                  167     167              167              167        167   \n",
       "INTJ                 251     251              251              251        251   \n",
       "NOUN               43999   43999            43999            43999      43999   \n",
       "NUM                  306     306              306              306        306   \n",
       "PART                   3       3                3                3          3   \n",
       "PRON                 258     258              258              258        258   \n",
       "PROPN               7407    7407             7407             7407       7407   \n",
       "PUNCT                 16      16               16               16         16   \n",
       "SCONJ                239     239              239              239        239   \n",
       "SYM                    4       4                4                4          4   \n",
       "VERB               26859   26859            26859            26859      26859   \n",
       "X                    228     228              228              228        228   \n",
       "\n",
       "         freq  is_in_index   tfidf  importance  position_in_context  \n",
       "POS                                                                  \n",
       "ADJ     19637        19637   19637       19637                19637  \n",
       "ADP       769          769     769         769                  769  \n",
       "ADV      7305         7305    7305        7305                 7305  \n",
       "AUX       282          282     282         282                  282  \n",
       "CCONJ      98           98      98          98                   98  \n",
       "CHUNK  749051       749051  749051      749051               749051  \n",
       "DET       167          167     167         167                  167  \n",
       "INTJ      251          251     251         251                  251  \n",
       "NOUN    43999        43999   43999       43999                43999  \n",
       "NUM       306          306     306         306                  306  \n",
       "PART        3            3       3           3                    3  \n",
       "PRON      258          258     258         258                  258  \n",
       "PROPN    7407         7407    7407        7407                 7407  \n",
       "PUNCT      16           16      16          16                   16  \n",
       "SCONJ     239          239     239         239                  239  \n",
       "SYM         4            4       4           4                    4  \n",
       "VERB    26859        26859   26859       26859                26859  \n",
       "X         228          228     228         228                  228  "
      ]
     },
     "execution_count": 21,
     "metadata": {},
     "output_type": "execute_result"
    }
   ],
   "source": [
    "df.groupby('POS').count()"
   ]
  },
  {
   "cell_type": "code",
   "execution_count": 22,
   "id": "957027f0",
   "metadata": {},
   "outputs": [],
   "source": [
    "df.dropna(inplace=True)"
   ]
  },
  {
   "cell_type": "code",
   "execution_count": 23,
   "id": "881bf207",
   "metadata": {},
   "outputs": [],
   "source": [
    "df_s.dropna(inplace=True)"
   ]
  },
  {
   "cell_type": "code",
   "execution_count": 24,
   "id": "0588b4b6",
   "metadata": {},
   "outputs": [],
   "source": [
    "textbook_words=['whereas', \n",
    "                'conversely', \n",
    "                'result',\n",
    "                'suggest',\n",
    "                'contrast', \n",
    "                'comparison', \n",
    "                'view', \n",
    "                'likewise',\n",
    "                'despite',\n",
    "                'while',\n",
    "                'subsequent',\n",
    "                'subsequently',\n",
    "                'overall',\n",
    "                'summary',\n",
    "                'sumarize',\n",
    "                'first',\n",
    "                'second', \n",
    "                'third',\n",
    "                'firstly',\n",
    "                'secondly', \n",
    "                'thirdly',\n",
    "                'finally',\n",
    "                'although',\n",
    "                'thus',\n",
    "                'again',\n",
    "                'further',\n",
    "                'then',\n",
    "                'besides',\n",
    "                'too',\n",
    "                'similarly',\n",
    "                'correspondingly',\n",
    "                'regarding',\n",
    "                'involved',\n",
    "                'approach',\n",
    "                'account',\n",
    "                'theory',\n",
    "                'method',\n",
    "                'required',\n",
    "                'process',\n",
    "                'research',\n",
    "                'role',\n",
    "                'significant',\n",
    "                'source',\n",
    "                'variable',\n",
    "                'issue',\n",
    "                'function',\n",
    "                'formula',\n",
    "                'formulate',\n",
    "                'phrase',\n",
    "                'factor',\n",
    "                'evidence',\n",
    "                'derived',\n",
    "                'derive',\n",
    "                'establish',\n",
    "                'concept',\n",
    "                'available',\n",
    "                'context',\n",
    "                'assume',\n",
    "                'assumption',\n",
    "                'additionally',\n",
    "                'additional',\n",
    "                'analysis',\n",
    "                'general',\n",
    "                'certain',\n",
    "                'certainly',\n",
    "                'furthermore',\n",
    "                'moreover',\n",
    "                'nonetheless',\n",
    "                'nevertheless',\n",
    "                'bibliography',\n",
    "                'prove',\n",
    "                'part',\n",
    "                'today', \n",
    "                'nowadays', \n",
    "                'actually', \n",
    "                'section', \n",
    "                'indeed', \n",
    "                'every', \n",
    "                'any', \n",
    "                'some',\n",
    "                'instance',\n",
    "                'example', \n",
    "                'therefore', \n",
    "                'definition',\n",
    "                'define',\n",
    "                'explain',\n",
    "                'explanation',\n",
    "                'introduction', \n",
    "                'conclusion',\n",
    "                'conclude',\n",
    "                'chapter', \n",
    "                'appendix', \n",
    "                'otherwise', \n",
    "                'thing',\n",
    "                'concisely',\n",
    "                'concise',\n",
    "                'brief',\n",
    "                'briefly',\n",
    "                'rather', \n",
    "                'instead', \n",
    "                'like', \n",
    "                'since', \n",
    "                'given', \n",
    "                'case', \n",
    "                'hence', \n",
    "                'iff', \n",
    "                'see', \n",
    "                'beyond', \n",
    "                'below', \n",
    "                'above', \n",
    "                'postscript',\n",
    "                'preface',\n",
    "                'index', \n",
    "                'ensure', \n",
    "                'generally', \n",
    "                'anything', \n",
    "                'something',\n",
    "                'everything',\n",
    "                'other']"
   ]
  },
  {
   "cell_type": "code",
   "execution_count": 25,
   "id": "ad5869ad",
   "metadata": {},
   "outputs": [],
   "source": [
    "dict_tbw={}\n",
    "for w in df.candidate_keyword:\n",
    "    if w in textbook_words:\n",
    "        dict_tbw[w]=1\n",
    "    else:\n",
    "        dict_tbw[w]=0"
   ]
  },
  {
   "cell_type": "code",
   "execution_count": 26,
   "id": "6871b5a3",
   "metadata": {},
   "outputs": [],
   "source": [
    "def is_a_tbw(x):\n",
    "    if w in textbook_words:\n",
    "        return 1\n",
    "    else: \n",
    "        return 0"
   ]
  },
  {
   "cell_type": "code",
   "execution_count": 14,
   "id": "25479850",
   "metadata": {
    "scrolled": true
   },
   "outputs": [],
   "source": [
    "df['is_a_textbook_word']=df.candidate_keyword.apply(lambda x: dict_tbw[x])"
   ]
  },
  {
   "cell_type": "code",
   "execution_count": 27,
   "id": "6f29cf77",
   "metadata": {
    "scrolled": true
   },
   "outputs": [],
   "source": [
    "df_s['is_a_textbook_word']=df_s.candidate_keyword.apply(lambda x: dict_tbw[x])"
   ]
  },
  {
   "cell_type": "code",
   "execution_count": 15,
   "id": "4dd28e65",
   "metadata": {},
   "outputs": [],
   "source": [
    "df_scaled = pd.get_dummies(df, columns=['POS'],\n",
    "prefix = ['POS'])"
   ]
  },
  {
   "cell_type": "code",
   "execution_count": 28,
   "id": "4dd28e65",
   "metadata": {},
   "outputs": [],
   "source": [
    "df_s_scaled = pd.get_dummies(df_s, columns=['POS'],\n",
    "prefix = ['POS'])"
   ]
  },
  {
   "cell_type": "code",
   "execution_count": 29,
   "id": "0d7b419f",
   "metadata": {},
   "outputs": [
    {
     "data": {
      "text/html": [
       "<div>\n",
       "<style scoped>\n",
       "    .dataframe tbody tr th:only-of-type {\n",
       "        vertical-align: middle;\n",
       "    }\n",
       "\n",
       "    .dataframe tbody tr th {\n",
       "        vertical-align: top;\n",
       "    }\n",
       "\n",
       "    .dataframe thead th {\n",
       "        text-align: right;\n",
       "    }\n",
       "</style>\n",
       "<table border=\"1\" class=\"dataframe\">\n",
       "  <thead>\n",
       "    <tr style=\"text-align: right;\">\n",
       "      <th></th>\n",
       "      <th>candidate_keyword</th>\n",
       "      <th>length</th>\n",
       "      <th>is_named_entity</th>\n",
       "      <th>is_named_author</th>\n",
       "      <th>is_in_toc</th>\n",
       "      <th>freq</th>\n",
       "      <th>is_in_index</th>\n",
       "      <th>tfidf</th>\n",
       "      <th>importance</th>\n",
       "      <th>position_in_context</th>\n",
       "      <th>...</th>\n",
       "      <th>POS_CHUNK</th>\n",
       "      <th>POS_DET</th>\n",
       "      <th>POS_INTJ</th>\n",
       "      <th>POS_NOUN</th>\n",
       "      <th>POS_NUM</th>\n",
       "      <th>POS_PRON</th>\n",
       "      <th>POS_PROPN</th>\n",
       "      <th>POS_SCONJ</th>\n",
       "      <th>POS_VERB</th>\n",
       "      <th>POS_X</th>\n",
       "    </tr>\n",
       "  </thead>\n",
       "  <tbody>\n",
       "    <tr>\n",
       "      <th>0</th>\n",
       "      <td>a-laying</td>\n",
       "      <td>8</td>\n",
       "      <td>0</td>\n",
       "      <td>0</td>\n",
       "      <td>0</td>\n",
       "      <td>0.000013</td>\n",
       "      <td>0</td>\n",
       "      <td>0.000000</td>\n",
       "      <td>0.662301</td>\n",
       "      <td>0.750000</td>\n",
       "      <td>...</td>\n",
       "      <td>0</td>\n",
       "      <td>0</td>\n",
       "      <td>0</td>\n",
       "      <td>1</td>\n",
       "      <td>0</td>\n",
       "      <td>0</td>\n",
       "      <td>0</td>\n",
       "      <td>0</td>\n",
       "      <td>0</td>\n",
       "      <td>0</td>\n",
       "    </tr>\n",
       "    <tr>\n",
       "      <th>1</th>\n",
       "      <td>a-laying police</td>\n",
       "      <td>15</td>\n",
       "      <td>0</td>\n",
       "      <td>0</td>\n",
       "      <td>0</td>\n",
       "      <td>0.000013</td>\n",
       "      <td>0</td>\n",
       "      <td>0.000000</td>\n",
       "      <td>0.662301</td>\n",
       "      <td>0.750000</td>\n",
       "      <td>...</td>\n",
       "      <td>1</td>\n",
       "      <td>0</td>\n",
       "      <td>0</td>\n",
       "      <td>0</td>\n",
       "      <td>0</td>\n",
       "      <td>0</td>\n",
       "      <td>0</td>\n",
       "      <td>0</td>\n",
       "      <td>0</td>\n",
       "      <td>0</td>\n",
       "    </tr>\n",
       "    <tr>\n",
       "      <th>2</th>\n",
       "      <td>aardvark</td>\n",
       "      <td>8</td>\n",
       "      <td>0</td>\n",
       "      <td>0</td>\n",
       "      <td>0</td>\n",
       "      <td>0.000013</td>\n",
       "      <td>0</td>\n",
       "      <td>0.000000</td>\n",
       "      <td>0.644323</td>\n",
       "      <td>1.000000</td>\n",
       "      <td>...</td>\n",
       "      <td>0</td>\n",
       "      <td>0</td>\n",
       "      <td>0</td>\n",
       "      <td>1</td>\n",
       "      <td>0</td>\n",
       "      <td>0</td>\n",
       "      <td>0</td>\n",
       "      <td>0</td>\n",
       "      <td>0</td>\n",
       "      <td>0</td>\n",
       "    </tr>\n",
       "    <tr>\n",
       "      <th>3</th>\n",
       "      <td>abandoned</td>\n",
       "      <td>9</td>\n",
       "      <td>0</td>\n",
       "      <td>0</td>\n",
       "      <td>0</td>\n",
       "      <td>0.000038</td>\n",
       "      <td>0</td>\n",
       "      <td>0.009811</td>\n",
       "      <td>0.449342</td>\n",
       "      <td>0.611827</td>\n",
       "      <td>...</td>\n",
       "      <td>0</td>\n",
       "      <td>0</td>\n",
       "      <td>0</td>\n",
       "      <td>0</td>\n",
       "      <td>0</td>\n",
       "      <td>0</td>\n",
       "      <td>0</td>\n",
       "      <td>0</td>\n",
       "      <td>1</td>\n",
       "      <td>0</td>\n",
       "    </tr>\n",
       "    <tr>\n",
       "      <th>4</th>\n",
       "      <td>abandoned commitment</td>\n",
       "      <td>20</td>\n",
       "      <td>0</td>\n",
       "      <td>0</td>\n",
       "      <td>0</td>\n",
       "      <td>0.000013</td>\n",
       "      <td>0</td>\n",
       "      <td>0.000000</td>\n",
       "      <td>0.392002</td>\n",
       "      <td>0.272727</td>\n",
       "      <td>...</td>\n",
       "      <td>1</td>\n",
       "      <td>0</td>\n",
       "      <td>0</td>\n",
       "      <td>0</td>\n",
       "      <td>0</td>\n",
       "      <td>0</td>\n",
       "      <td>0</td>\n",
       "      <td>0</td>\n",
       "      <td>0</td>\n",
       "      <td>0</td>\n",
       "    </tr>\n",
       "  </tbody>\n",
       "</table>\n",
       "<p>5 rows × 26 columns</p>\n",
       "</div>"
      ],
      "text/plain": [
       "      candidate_keyword  length  is_named_entity  is_named_author  is_in_toc  \\\n",
       "0              a-laying       8                0                0          0   \n",
       "1       a-laying police      15                0                0          0   \n",
       "2              aardvark       8                0                0          0   \n",
       "3             abandoned       9                0                0          0   \n",
       "4  abandoned commitment      20                0                0          0   \n",
       "\n",
       "       freq  is_in_index     tfidf  importance  position_in_context  ...  \\\n",
       "0  0.000013            0  0.000000    0.662301             0.750000  ...   \n",
       "1  0.000013            0  0.000000    0.662301             0.750000  ...   \n",
       "2  0.000013            0  0.000000    0.644323             1.000000  ...   \n",
       "3  0.000038            0  0.009811    0.449342             0.611827  ...   \n",
       "4  0.000013            0  0.000000    0.392002             0.272727  ...   \n",
       "\n",
       "   POS_CHUNK  POS_DET  POS_INTJ  POS_NOUN  POS_NUM  POS_PRON  POS_PROPN  \\\n",
       "0          0        0         0         1        0         0          0   \n",
       "1          1        0         0         0        0         0          0   \n",
       "2          0        0         0         1        0         0          0   \n",
       "3          0        0         0         0        0         0          0   \n",
       "4          1        0         0         0        0         0          0   \n",
       "\n",
       "   POS_SCONJ  POS_VERB  POS_X  \n",
       "0          0         0      0  \n",
       "1          0         0      0  \n",
       "2          0         0      0  \n",
       "3          0         1      0  \n",
       "4          0         0      0  \n",
       "\n",
       "[5 rows x 26 columns]"
      ]
     },
     "execution_count": 29,
     "metadata": {},
     "output_type": "execute_result"
    }
   ],
   "source": [
    "df_s_scaled.head()"
   ]
  },
  {
   "cell_type": "code",
   "execution_count": 17,
   "id": "1d26da84",
   "metadata": {},
   "outputs": [],
   "source": [
    "df_scaled.drop(columns=['candidate_keyword'], inplace=True)"
   ]
  },
  {
   "cell_type": "code",
   "execution_count": 30,
   "id": "1d26da84",
   "metadata": {},
   "outputs": [],
   "source": [
    "df_s_scaled.drop(columns=['candidate_keyword'], inplace=True)"
   ]
  },
  {
   "cell_type": "code",
   "execution_count": 18,
   "id": "8373c548",
   "metadata": {},
   "outputs": [],
   "source": [
    "df_scaled_columns = df_scaled.columns"
   ]
  },
  {
   "cell_type": "code",
   "execution_count": 31,
   "id": "8373c548",
   "metadata": {},
   "outputs": [],
   "source": [
    "df_s_scaled_columns = df_s_scaled.columns"
   ]
  },
  {
   "cell_type": "code",
   "execution_count": 20,
   "id": "771ecee3",
   "metadata": {},
   "outputs": [],
   "source": [
    "scaler = MinMaxScaler() "
   ]
  },
  {
   "cell_type": "code",
   "execution_count": 21,
   "id": "3dea07b3",
   "metadata": {},
   "outputs": [],
   "source": [
    "#not sure about this (do I need to concat or what?)\n",
    "df_scaled = scaler.fit_transform(df_scaled)\n",
    "df_scaled = pd.DataFrame(df_scaled, columns= df_scaled_columns)"
   ]
  },
  {
   "cell_type": "code",
   "execution_count": 22,
   "id": "804be99e",
   "metadata": {},
   "outputs": [],
   "source": [
    "df_scaled=df_scaled.rename(columns={\"is_in_index\": \"target\"})"
   ]
  },
  {
   "cell_type": "code",
   "execution_count": 23,
   "id": "a1fa23f3",
   "metadata": {},
   "outputs": [
    {
     "data": {
      "text/html": [
       "<div>\n",
       "<style scoped>\n",
       "    .dataframe tbody tr th:only-of-type {\n",
       "        vertical-align: middle;\n",
       "    }\n",
       "\n",
       "    .dataframe tbody tr th {\n",
       "        vertical-align: top;\n",
       "    }\n",
       "\n",
       "    .dataframe thead th {\n",
       "        text-align: right;\n",
       "    }\n",
       "</style>\n",
       "<table border=\"1\" class=\"dataframe\">\n",
       "  <thead>\n",
       "    <tr style=\"text-align: right;\">\n",
       "      <th></th>\n",
       "      <th>count</th>\n",
       "      <th>mean</th>\n",
       "      <th>std</th>\n",
       "      <th>min</th>\n",
       "      <th>25%</th>\n",
       "      <th>50%</th>\n",
       "      <th>75%</th>\n",
       "      <th>max</th>\n",
       "    </tr>\n",
       "  </thead>\n",
       "  <tbody>\n",
       "    <tr>\n",
       "      <th>length</th>\n",
       "      <td>856871.0</td>\n",
       "      <td>0.212469</td>\n",
       "      <td>0.077972</td>\n",
       "      <td>0.0</td>\n",
       "      <td>0.166667</td>\n",
       "      <td>0.216667</td>\n",
       "      <td>0.266667</td>\n",
       "      <td>1.0</td>\n",
       "    </tr>\n",
       "    <tr>\n",
       "      <th>is_named_entity</th>\n",
       "      <td>856871.0</td>\n",
       "      <td>0.009262</td>\n",
       "      <td>0.095791</td>\n",
       "      <td>0.0</td>\n",
       "      <td>0.000000</td>\n",
       "      <td>0.000000</td>\n",
       "      <td>0.000000</td>\n",
       "      <td>1.0</td>\n",
       "    </tr>\n",
       "    <tr>\n",
       "      <th>is_named_author</th>\n",
       "      <td>856871.0</td>\n",
       "      <td>0.002269</td>\n",
       "      <td>0.047577</td>\n",
       "      <td>0.0</td>\n",
       "      <td>0.000000</td>\n",
       "      <td>0.000000</td>\n",
       "      <td>0.000000</td>\n",
       "      <td>1.0</td>\n",
       "    </tr>\n",
       "    <tr>\n",
       "      <th>is_in_toc</th>\n",
       "      <td>856871.0</td>\n",
       "      <td>0.003747</td>\n",
       "      <td>0.061101</td>\n",
       "      <td>0.0</td>\n",
       "      <td>0.000000</td>\n",
       "      <td>0.000000</td>\n",
       "      <td>0.000000</td>\n",
       "      <td>1.0</td>\n",
       "    </tr>\n",
       "    <tr>\n",
       "      <th>freq</th>\n",
       "      <td>856871.0</td>\n",
       "      <td>0.000985</td>\n",
       "      <td>0.006721</td>\n",
       "      <td>0.0</td>\n",
       "      <td>0.000183</td>\n",
       "      <td>0.000280</td>\n",
       "      <td>0.000524</td>\n",
       "      <td>1.0</td>\n",
       "    </tr>\n",
       "    <tr>\n",
       "      <th>target</th>\n",
       "      <td>856871.0</td>\n",
       "      <td>0.010909</td>\n",
       "      <td>0.103877</td>\n",
       "      <td>0.0</td>\n",
       "      <td>0.000000</td>\n",
       "      <td>0.000000</td>\n",
       "      <td>0.000000</td>\n",
       "      <td>1.0</td>\n",
       "    </tr>\n",
       "    <tr>\n",
       "      <th>tfidf</th>\n",
       "      <td>856871.0</td>\n",
       "      <td>0.006953</td>\n",
       "      <td>0.031325</td>\n",
       "      <td>0.0</td>\n",
       "      <td>0.000000</td>\n",
       "      <td>0.000000</td>\n",
       "      <td>0.000000</td>\n",
       "      <td>1.0</td>\n",
       "    </tr>\n",
       "    <tr>\n",
       "      <th>importance</th>\n",
       "      <td>856871.0</td>\n",
       "      <td>0.607713</td>\n",
       "      <td>0.120286</td>\n",
       "      <td>0.0</td>\n",
       "      <td>0.531377</td>\n",
       "      <td>0.614473</td>\n",
       "      <td>0.692015</td>\n",
       "      <td>1.0</td>\n",
       "    </tr>\n",
       "    <tr>\n",
       "      <th>position_in_context</th>\n",
       "      <td>856871.0</td>\n",
       "      <td>0.446067</td>\n",
       "      <td>0.262398</td>\n",
       "      <td>0.0</td>\n",
       "      <td>0.230769</td>\n",
       "      <td>0.441026</td>\n",
       "      <td>0.650000</td>\n",
       "      <td>1.0</td>\n",
       "    </tr>\n",
       "    <tr>\n",
       "      <th>is_a_textbook_word</th>\n",
       "      <td>856871.0</td>\n",
       "      <td>0.002368</td>\n",
       "      <td>0.048604</td>\n",
       "      <td>0.0</td>\n",
       "      <td>0.000000</td>\n",
       "      <td>0.000000</td>\n",
       "      <td>0.000000</td>\n",
       "      <td>1.0</td>\n",
       "    </tr>\n",
       "    <tr>\n",
       "      <th>POS_ADJ</th>\n",
       "      <td>856871.0</td>\n",
       "      <td>0.022908</td>\n",
       "      <td>0.149610</td>\n",
       "      <td>0.0</td>\n",
       "      <td>0.000000</td>\n",
       "      <td>0.000000</td>\n",
       "      <td>0.000000</td>\n",
       "      <td>1.0</td>\n",
       "    </tr>\n",
       "    <tr>\n",
       "      <th>POS_ADP</th>\n",
       "      <td>856871.0</td>\n",
       "      <td>0.000897</td>\n",
       "      <td>0.029944</td>\n",
       "      <td>0.0</td>\n",
       "      <td>0.000000</td>\n",
       "      <td>0.000000</td>\n",
       "      <td>0.000000</td>\n",
       "      <td>1.0</td>\n",
       "    </tr>\n",
       "    <tr>\n",
       "      <th>POS_ADV</th>\n",
       "      <td>856871.0</td>\n",
       "      <td>0.008525</td>\n",
       "      <td>0.091938</td>\n",
       "      <td>0.0</td>\n",
       "      <td>0.000000</td>\n",
       "      <td>0.000000</td>\n",
       "      <td>0.000000</td>\n",
       "      <td>1.0</td>\n",
       "    </tr>\n",
       "    <tr>\n",
       "      <th>POS_AUX</th>\n",
       "      <td>856871.0</td>\n",
       "      <td>0.000329</td>\n",
       "      <td>0.018138</td>\n",
       "      <td>0.0</td>\n",
       "      <td>0.000000</td>\n",
       "      <td>0.000000</td>\n",
       "      <td>0.000000</td>\n",
       "      <td>1.0</td>\n",
       "    </tr>\n",
       "    <tr>\n",
       "      <th>POS_CCONJ</th>\n",
       "      <td>856871.0</td>\n",
       "      <td>0.000114</td>\n",
       "      <td>0.010694</td>\n",
       "      <td>0.0</td>\n",
       "      <td>0.000000</td>\n",
       "      <td>0.000000</td>\n",
       "      <td>0.000000</td>\n",
       "      <td>1.0</td>\n",
       "    </tr>\n",
       "    <tr>\n",
       "      <th>POS_CHUNK</th>\n",
       "      <td>856871.0</td>\n",
       "      <td>0.874170</td>\n",
       "      <td>0.331658</td>\n",
       "      <td>0.0</td>\n",
       "      <td>1.000000</td>\n",
       "      <td>1.000000</td>\n",
       "      <td>1.000000</td>\n",
       "      <td>1.0</td>\n",
       "    </tr>\n",
       "    <tr>\n",
       "      <th>POS_DET</th>\n",
       "      <td>856871.0</td>\n",
       "      <td>0.000195</td>\n",
       "      <td>0.013959</td>\n",
       "      <td>0.0</td>\n",
       "      <td>0.000000</td>\n",
       "      <td>0.000000</td>\n",
       "      <td>0.000000</td>\n",
       "      <td>1.0</td>\n",
       "    </tr>\n",
       "    <tr>\n",
       "      <th>POS_INTJ</th>\n",
       "      <td>856871.0</td>\n",
       "      <td>0.000293</td>\n",
       "      <td>0.017113</td>\n",
       "      <td>0.0</td>\n",
       "      <td>0.000000</td>\n",
       "      <td>0.000000</td>\n",
       "      <td>0.000000</td>\n",
       "      <td>1.0</td>\n",
       "    </tr>\n",
       "    <tr>\n",
       "      <th>POS_NOUN</th>\n",
       "      <td>856871.0</td>\n",
       "      <td>0.051348</td>\n",
       "      <td>0.220708</td>\n",
       "      <td>0.0</td>\n",
       "      <td>0.000000</td>\n",
       "      <td>0.000000</td>\n",
       "      <td>0.000000</td>\n",
       "      <td>1.0</td>\n",
       "    </tr>\n",
       "    <tr>\n",
       "      <th>POS_NUM</th>\n",
       "      <td>856871.0</td>\n",
       "      <td>0.000357</td>\n",
       "      <td>0.018894</td>\n",
       "      <td>0.0</td>\n",
       "      <td>0.000000</td>\n",
       "      <td>0.000000</td>\n",
       "      <td>0.000000</td>\n",
       "      <td>1.0</td>\n",
       "    </tr>\n",
       "    <tr>\n",
       "      <th>POS_PART</th>\n",
       "      <td>856871.0</td>\n",
       "      <td>0.000004</td>\n",
       "      <td>0.001871</td>\n",
       "      <td>0.0</td>\n",
       "      <td>0.000000</td>\n",
       "      <td>0.000000</td>\n",
       "      <td>0.000000</td>\n",
       "      <td>1.0</td>\n",
       "    </tr>\n",
       "    <tr>\n",
       "      <th>POS_PRON</th>\n",
       "      <td>856871.0</td>\n",
       "      <td>0.000301</td>\n",
       "      <td>0.017350</td>\n",
       "      <td>0.0</td>\n",
       "      <td>0.000000</td>\n",
       "      <td>0.000000</td>\n",
       "      <td>0.000000</td>\n",
       "      <td>1.0</td>\n",
       "    </tr>\n",
       "    <tr>\n",
       "      <th>POS_PROPN</th>\n",
       "      <td>856871.0</td>\n",
       "      <td>0.008644</td>\n",
       "      <td>0.092572</td>\n",
       "      <td>0.0</td>\n",
       "      <td>0.000000</td>\n",
       "      <td>0.000000</td>\n",
       "      <td>0.000000</td>\n",
       "      <td>1.0</td>\n",
       "    </tr>\n",
       "    <tr>\n",
       "      <th>POS_PUNCT</th>\n",
       "      <td>856871.0</td>\n",
       "      <td>0.000019</td>\n",
       "      <td>0.004321</td>\n",
       "      <td>0.0</td>\n",
       "      <td>0.000000</td>\n",
       "      <td>0.000000</td>\n",
       "      <td>0.000000</td>\n",
       "      <td>1.0</td>\n",
       "    </tr>\n",
       "    <tr>\n",
       "      <th>POS_SCONJ</th>\n",
       "      <td>856871.0</td>\n",
       "      <td>0.000279</td>\n",
       "      <td>0.016699</td>\n",
       "      <td>0.0</td>\n",
       "      <td>0.000000</td>\n",
       "      <td>0.000000</td>\n",
       "      <td>0.000000</td>\n",
       "      <td>1.0</td>\n",
       "    </tr>\n",
       "    <tr>\n",
       "      <th>POS_SYM</th>\n",
       "      <td>856871.0</td>\n",
       "      <td>0.000005</td>\n",
       "      <td>0.002161</td>\n",
       "      <td>0.0</td>\n",
       "      <td>0.000000</td>\n",
       "      <td>0.000000</td>\n",
       "      <td>0.000000</td>\n",
       "      <td>1.0</td>\n",
       "    </tr>\n",
       "    <tr>\n",
       "      <th>POS_VERB</th>\n",
       "      <td>856871.0</td>\n",
       "      <td>0.031345</td>\n",
       "      <td>0.174250</td>\n",
       "      <td>0.0</td>\n",
       "      <td>0.000000</td>\n",
       "      <td>0.000000</td>\n",
       "      <td>0.000000</td>\n",
       "      <td>1.0</td>\n",
       "    </tr>\n",
       "    <tr>\n",
       "      <th>POS_X</th>\n",
       "      <td>856871.0</td>\n",
       "      <td>0.000266</td>\n",
       "      <td>0.016310</td>\n",
       "      <td>0.0</td>\n",
       "      <td>0.000000</td>\n",
       "      <td>0.000000</td>\n",
       "      <td>0.000000</td>\n",
       "      <td>1.0</td>\n",
       "    </tr>\n",
       "  </tbody>\n",
       "</table>\n",
       "</div>"
      ],
      "text/plain": [
       "                        count      mean       std  min       25%       50%  \\\n",
       "length               856871.0  0.212469  0.077972  0.0  0.166667  0.216667   \n",
       "is_named_entity      856871.0  0.009262  0.095791  0.0  0.000000  0.000000   \n",
       "is_named_author      856871.0  0.002269  0.047577  0.0  0.000000  0.000000   \n",
       "is_in_toc            856871.0  0.003747  0.061101  0.0  0.000000  0.000000   \n",
       "freq                 856871.0  0.000985  0.006721  0.0  0.000183  0.000280   \n",
       "target               856871.0  0.010909  0.103877  0.0  0.000000  0.000000   \n",
       "tfidf                856871.0  0.006953  0.031325  0.0  0.000000  0.000000   \n",
       "importance           856871.0  0.607713  0.120286  0.0  0.531377  0.614473   \n",
       "position_in_context  856871.0  0.446067  0.262398  0.0  0.230769  0.441026   \n",
       "is_a_textbook_word   856871.0  0.002368  0.048604  0.0  0.000000  0.000000   \n",
       "POS_ADJ              856871.0  0.022908  0.149610  0.0  0.000000  0.000000   \n",
       "POS_ADP              856871.0  0.000897  0.029944  0.0  0.000000  0.000000   \n",
       "POS_ADV              856871.0  0.008525  0.091938  0.0  0.000000  0.000000   \n",
       "POS_AUX              856871.0  0.000329  0.018138  0.0  0.000000  0.000000   \n",
       "POS_CCONJ            856871.0  0.000114  0.010694  0.0  0.000000  0.000000   \n",
       "POS_CHUNK            856871.0  0.874170  0.331658  0.0  1.000000  1.000000   \n",
       "POS_DET              856871.0  0.000195  0.013959  0.0  0.000000  0.000000   \n",
       "POS_INTJ             856871.0  0.000293  0.017113  0.0  0.000000  0.000000   \n",
       "POS_NOUN             856871.0  0.051348  0.220708  0.0  0.000000  0.000000   \n",
       "POS_NUM              856871.0  0.000357  0.018894  0.0  0.000000  0.000000   \n",
       "POS_PART             856871.0  0.000004  0.001871  0.0  0.000000  0.000000   \n",
       "POS_PRON             856871.0  0.000301  0.017350  0.0  0.000000  0.000000   \n",
       "POS_PROPN            856871.0  0.008644  0.092572  0.0  0.000000  0.000000   \n",
       "POS_PUNCT            856871.0  0.000019  0.004321  0.0  0.000000  0.000000   \n",
       "POS_SCONJ            856871.0  0.000279  0.016699  0.0  0.000000  0.000000   \n",
       "POS_SYM              856871.0  0.000005  0.002161  0.0  0.000000  0.000000   \n",
       "POS_VERB             856871.0  0.031345  0.174250  0.0  0.000000  0.000000   \n",
       "POS_X                856871.0  0.000266  0.016310  0.0  0.000000  0.000000   \n",
       "\n",
       "                          75%  max  \n",
       "length               0.266667  1.0  \n",
       "is_named_entity      0.000000  1.0  \n",
       "is_named_author      0.000000  1.0  \n",
       "is_in_toc            0.000000  1.0  \n",
       "freq                 0.000524  1.0  \n",
       "target               0.000000  1.0  \n",
       "tfidf                0.000000  1.0  \n",
       "importance           0.692015  1.0  \n",
       "position_in_context  0.650000  1.0  \n",
       "is_a_textbook_word   0.000000  1.0  \n",
       "POS_ADJ              0.000000  1.0  \n",
       "POS_ADP              0.000000  1.0  \n",
       "POS_ADV              0.000000  1.0  \n",
       "POS_AUX              0.000000  1.0  \n",
       "POS_CCONJ            0.000000  1.0  \n",
       "POS_CHUNK            1.000000  1.0  \n",
       "POS_DET              0.000000  1.0  \n",
       "POS_INTJ             0.000000  1.0  \n",
       "POS_NOUN             0.000000  1.0  \n",
       "POS_NUM              0.000000  1.0  \n",
       "POS_PART             0.000000  1.0  \n",
       "POS_PRON             0.000000  1.0  \n",
       "POS_PROPN            0.000000  1.0  \n",
       "POS_PUNCT            0.000000  1.0  \n",
       "POS_SCONJ            0.000000  1.0  \n",
       "POS_SYM              0.000000  1.0  \n",
       "POS_VERB             0.000000  1.0  \n",
       "POS_X                0.000000  1.0  "
      ]
     },
     "execution_count": 23,
     "metadata": {},
     "output_type": "execute_result"
    }
   ],
   "source": [
    "df_scaled.describe().T"
   ]
  },
  {
   "cell_type": "code",
   "execution_count": 25,
   "id": "e219b96d",
   "metadata": {},
   "outputs": [],
   "source": [
    "df_scaled.to_csv(\"../data/final_scaled.csv\", encoding = 'utf-8')"
   ]
  },
  {
   "cell_type": "markdown",
   "id": "d94338ce",
   "metadata": {},
   "source": [
    "# 2. Quick EDA"
   ]
  },
  {
   "cell_type": "code",
   "execution_count": 26,
   "id": "d180470b",
   "metadata": {},
   "outputs": [
    {
     "name": "stdout",
     "output_type": "stream",
     "text": [
      "<class 'pandas.core.frame.DataFrame'>\n",
      "Int64Index: 856871 entries, 0 to 856870\n",
      "Data columns (total 28 columns):\n",
      " #   Column               Non-Null Count   Dtype  \n",
      "---  ------               --------------   -----  \n",
      " 0   length               856871 non-null  float64\n",
      " 1   is_named_entity      856871 non-null  float64\n",
      " 2   is_named_author      856871 non-null  float64\n",
      " 3   is_in_toc            856871 non-null  float64\n",
      " 4   freq                 856871 non-null  float64\n",
      " 5   target               856871 non-null  float64\n",
      " 6   tfidf                856871 non-null  float64\n",
      " 7   importance           856871 non-null  float64\n",
      " 8   position_in_context  856871 non-null  float64\n",
      " 9   is_a_textbook_word   856871 non-null  float64\n",
      " 10  POS_ADJ              856871 non-null  float64\n",
      " 11  POS_ADP              856871 non-null  float64\n",
      " 12  POS_ADV              856871 non-null  float64\n",
      " 13  POS_AUX              856871 non-null  float64\n",
      " 14  POS_CCONJ            856871 non-null  float64\n",
      " 15  POS_CHUNK            856871 non-null  float64\n",
      " 16  POS_DET              856871 non-null  float64\n",
      " 17  POS_INTJ             856871 non-null  float64\n",
      " 18  POS_NOUN             856871 non-null  float64\n",
      " 19  POS_NUM              856871 non-null  float64\n",
      " 20  POS_PART             856871 non-null  float64\n",
      " 21  POS_PRON             856871 non-null  float64\n",
      " 22  POS_PROPN            856871 non-null  float64\n",
      " 23  POS_PUNCT            856871 non-null  float64\n",
      " 24  POS_SCONJ            856871 non-null  float64\n",
      " 25  POS_SYM              856871 non-null  float64\n",
      " 26  POS_VERB             856871 non-null  float64\n",
      " 27  POS_X                856871 non-null  float64\n",
      "dtypes: float64(28)\n",
      "memory usage: 189.6 MB\n"
     ]
    }
   ],
   "source": [
    "path = '../data/final_scaled.csv'\n",
    "df_scaled = pd.read_csv(path,index_col=0)\n",
    "df_scaled.info()"
   ]
  },
  {
   "cell_type": "markdown",
   "id": "13d20747",
   "metadata": {},
   "source": [
    "### Pairplot all columns"
   ]
  },
  {
   "cell_type": "code",
   "execution_count": null,
   "id": "c387f4e1",
   "metadata": {},
   "outputs": [],
   "source": [
    "g = sns.pairplot(df_scaled, y_vars= df_scaled.columns.values, x_vars=\"target\")\n",
    "g.fig.set_size_inches(7,14)"
   ]
  },
  {
   "cell_type": "code",
   "execution_count": null,
   "id": "30a07e4a",
   "metadata": {},
   "outputs": [],
   "source": [
    "pairplot=sns.pairplot(df_scaled, hue='target')"
   ]
  },
  {
   "cell_type": "code",
   "execution_count": null,
   "id": "aa8876d0",
   "metadata": {},
   "outputs": [],
   "source": [
    "pairplot"
   ]
  },
  {
   "cell_type": "code",
   "execution_count": null,
   "id": "c21a2d49",
   "metadata": {},
   "outputs": [],
   "source": [
    "pairplot.figure.savefig(\"..images/images/pairplot.png\")"
   ]
  },
  {
   "cell_type": "markdown",
   "id": "0cf2ba74",
   "metadata": {},
   "source": [
    "### Boxplots"
   ]
  },
  {
   "cell_type": "code",
   "execution_count": null,
   "id": "f2090733",
   "metadata": {},
   "outputs": [],
   "source": [
    "for column in df_scaled.drop(['target'], axis=1):\n",
    "    plt.figure()\n",
    "    df_scaled.boxplot([column])"
   ]
  },
  {
   "cell_type": "markdown",
   "id": "b5f4d36c",
   "metadata": {},
   "source": [
    "### Correlation heatmap"
   ]
  },
  {
   "cell_type": "code",
   "execution_count": 27,
   "id": "104e955d",
   "metadata": {},
   "outputs": [
    {
     "data": {
      "image/png": "[encoded data removed]",
      "text/plain": [
       "<Figure size 288x720 with 2 Axes>"
      ]
     },
     "metadata": {
      "needs_background": "light"
     },
     "output_type": "display_data"
    }
   ],
   "source": [
    "plt.figure(figsize=(4, 10))\n",
    "\n",
    "heatmap = sns.heatmap(df_scaled.corr()[['target']].sort_values(by='target', ascending=False), \n",
    "                      vmin=-1, \n",
    "                      vmax=1,\n",
    "                      annot=True,\n",
    "                      cmap='BrBG')\n",
    "\n",
    "heatmap.set_title('Index Correlation', fontdict={'fontsize':18}, pad=16);\n",
    "\n",
    "plt.show()"
   ]
  },
  {
   "cell_type": "code",
   "execution_count": 30,
   "id": "b5540ef7",
   "metadata": {},
   "outputs": [],
   "source": [
    "heatmap.figure.savefig(\"../images/heatmap.png\", bbox_inches=\"tight\")"
   ]
  },
  {
   "cell_type": "markdown",
   "id": "f70b3682",
   "metadata": {},
   "source": [
    "# 3. Train and test the models"
   ]
  },
  {
   "cell_type": "code",
   "execution_count": 63,
   "id": "c96473d9",
   "metadata": {},
   "outputs": [],
   "source": [
    "X = df_scaled.drop('target', axis= 1)\n",
    "y = df_scaled.target"
   ]
  },
  {
   "cell_type": "code",
   "execution_count": 64,
   "id": "c821f737",
   "metadata": {},
   "outputs": [],
   "source": [
    "X_train, X_test, y_train, y_test = train_test_split(X, y, test_size=0.3,\n",
    "                                                    random_state=42)"
   ]
  },
  {
   "cell_type": "code",
   "execution_count": 72,
   "id": "d03fd6ee",
   "metadata": {},
   "outputs": [
    {
     "name": "stdout",
     "output_type": "stream",
     "text": [
      "<class 'pandas.core.frame.DataFrame'>\n",
      "Int64Index: 856871 entries, 0 to 856870\n",
      "Data columns (total 28 columns):\n",
      " #   Column               Non-Null Count   Dtype  \n",
      "---  ------               --------------   -----  \n",
      " 0   length               856871 non-null  float64\n",
      " 1   is_named_entity      856871 non-null  float64\n",
      " 2   is_named_author      856871 non-null  float64\n",
      " 3   is_in_toc            856871 non-null  float64\n",
      " 4   freq                 856871 non-null  float64\n",
      " 5   target               856871 non-null  float64\n",
      " 6   tfidf                856871 non-null  float64\n",
      " 7   importance           856871 non-null  float64\n",
      " 8   position_in_context  856871 non-null  float64\n",
      " 9   is_a_textbook_word   856871 non-null  float64\n",
      " 10  POS_ADJ              856871 non-null  float64\n",
      " 11  POS_ADP              856871 non-null  float64\n",
      " 12  POS_ADV              856871 non-null  float64\n",
      " 13  POS_AUX              856871 non-null  float64\n",
      " 14  POS_CCONJ            856871 non-null  float64\n",
      " 15  POS_CHUNK            856871 non-null  float64\n",
      " 16  POS_DET              856871 non-null  float64\n",
      " 17  POS_INTJ             856871 non-null  float64\n",
      " 18  POS_NOUN             856871 non-null  float64\n",
      " 19  POS_NUM              856871 non-null  float64\n",
      " 20  POS_PART             856871 non-null  float64\n",
      " 21  POS_PRON             856871 non-null  float64\n",
      " 22  POS_PROPN            856871 non-null  float64\n",
      " 23  POS_PUNCT            856871 non-null  float64\n",
      " 24  POS_SCONJ            856871 non-null  float64\n",
      " 25  POS_SYM              856871 non-null  float64\n",
      " 26  POS_VERB             856871 non-null  float64\n",
      " 27  POS_X                856871 non-null  float64\n",
      "dtypes: float64(28)\n",
      "memory usage: 189.6 MB\n"
     ]
    }
   ],
   "source": [
    "df_scaled.info()"
   ]
  },
  {
   "cell_type": "markdown",
   "id": "ee247cc0",
   "metadata": {},
   "source": [
    "## Oversampling"
   ]
  },
  {
   "cell_type": "code",
   "execution_count": 73,
   "id": "773b0c05",
   "metadata": {},
   "outputs": [],
   "source": [
    "#smote = SMOTE(random_state=42)"
   ]
  },
  {
   "cell_type": "code",
   "execution_count": 74,
   "id": "edc89c50",
   "metadata": {},
   "outputs": [],
   "source": [
    "#X_sm,y_sm=smote.fit_resample(X_train, y_train)"
   ]
  },
  {
   "cell_type": "code",
   "execution_count": 75,
   "id": "33d78395",
   "metadata": {},
   "outputs": [],
   "source": [
    "#pickle.dump(X_sm, open('../models/X_sm.sav', 'wb'))\n",
    "#pickle.dump(y_sm, open('../models/y_sm.sav', 'wb'))"
   ]
  },
  {
   "cell_type": "code",
   "execution_count": 76,
   "id": "bdb50af6",
   "metadata": {},
   "outputs": [],
   "source": [
    "X_sm = pickle.load(open('../models/X_sm.sav', 'rb'))\n",
    "y_sm = pickle.load(open('../models/y_sm.sav', 'rb'))"
   ]
  },
  {
   "cell_type": "code",
   "execution_count": 87,
   "id": "6fd87f3b",
   "metadata": {},
   "outputs": [
    {
     "name": "stdout",
     "output_type": "stream",
     "text": [
      "\n",
      "Before OVER-sampling\n",
      " 0.0    593266\n",
      "1.0      6543\n",
      "Name: target, dtype: int64\n"
     ]
    }
   ],
   "source": [
    "print('\\nBefore OVER-sampling\\n', y_train.value_counts())"
   ]
  },
  {
   "cell_type": "code",
   "execution_count": 88,
   "id": "68959740",
   "metadata": {},
   "outputs": [
    {
     "name": "stdout",
     "output_type": "stream",
     "text": [
      "\n",
      "After OVER-sampling\n",
      " 0.0    593266\n",
      "1.0    593266\n",
      "Name: target, dtype: int64\n"
     ]
    }
   ],
   "source": [
    "print('\\nAfter OVER-sampling\\n', y_sm.value_counts())"
   ]
  },
  {
   "cell_type": "markdown",
   "id": "916ed230",
   "metadata": {},
   "source": [
    "## Undersampling"
   ]
  },
  {
   "cell_type": "code",
   "execution_count": null,
   "id": "9f5becb1",
   "metadata": {},
   "outputs": [],
   "source": [
    "sampler = ClusterCentroids()\n",
    "X_cc, y_cc = sampler.fit_resample(X_train, y_train)"
   ]
  },
  {
   "cell_type": "code",
   "execution_count": null,
   "id": "de21d20a",
   "metadata": {},
   "outputs": [],
   "source": [
    "pickle.dump(X_cc, open('../models/X_cc.sav', 'wb'))\n",
    "pickle.dump(y_cc, open('../models/y_cc.sav', 'wb'))"
   ]
  },
  {
   "cell_type": "code",
   "execution_count": null,
   "id": "66e450ba",
   "metadata": {},
   "outputs": [],
   "source": [
    "X_cc = pickle.load(open('../models/X_cc.sav', 'rb'))\n",
    "y_cc = pickle.load(open('../models/y_cc.sav', 'rb'))"
   ]
  },
  {
   "cell_type": "code",
   "execution_count": null,
   "id": "21663b43",
   "metadata": {},
   "outputs": [],
   "source": [
    "print('\\nBefore UNDER-sampling\\n', y_train.value_counts())\n",
    "print('\\nAfter UNDER-resampling\\n', y_cc.value_counts())"
   ]
  },
  {
   "cell_type": "markdown",
   "id": "0e393b73",
   "metadata": {},
   "source": [
    "## 3.1. Logistic regression"
   ]
  },
  {
   "cell_type": "code",
   "execution_count": null,
   "id": "a8430638",
   "metadata": {},
   "outputs": [],
   "source": [
    "model_LR = LogisticRegression(random_state=42)"
   ]
  },
  {
   "cell_type": "code",
   "execution_count": null,
   "id": "9d2dab1b",
   "metadata": {},
   "outputs": [],
   "source": [
    "params_LR = {'penalty': ['l1', 'l2'],'C':[0.001,.009,0.01,.09,1,5,10,25]}"
   ]
  },
  {
   "cell_type": "code",
   "execution_count": null,
   "id": "4c0abdef",
   "metadata": {},
   "outputs": [],
   "source": [
    "grid_search_cv_LR = GridSearchCV(model_LR, params_LR, \n",
    "                              scoring=\"accuracy\",\n",
    "                              n_jobs=-1, verbose=1, cv=10)\n",
    "\n",
    "grid_search_cv_LR.fit(X_train, y_train)"
   ]
  },
  {
   "cell_type": "code",
   "execution_count": null,
   "id": "b0c87acf",
   "metadata": {},
   "outputs": [],
   "source": [
    "grid_search_cv_LR.best_params_"
   ]
  },
  {
   "cell_type": "code",
   "execution_count": null,
   "id": "c54f1aea",
   "metadata": {},
   "outputs": [],
   "source": [
    "log_reg = LogisticRegression(random_state=42, penalty='l2', C=5, max_iter=200)"
   ]
  },
  {
   "cell_type": "code",
   "execution_count": null,
   "id": "ea8986c1",
   "metadata": {},
   "outputs": [],
   "source": [
    "log_reg.fit(X_train, y_train)\n",
    "\n",
    "y_pred_LR = log_reg.predict(X_test)"
   ]
  },
  {
   "cell_type": "markdown",
   "id": "818063ca",
   "metadata": {},
   "source": [
    "#### Metrics"
   ]
  },
  {
   "cell_type": "code",
   "execution_count": null,
   "id": "361f9891",
   "metadata": {},
   "outputs": [],
   "source": [
    "print('Accuracy Score : ' + str(accuracy_score(y_test,y_pred_LR)))\n",
    "print('Precision Score : ' + str(precision_score(y_test,y_pred_LR)))\n",
    "print('Recall Score : ' + str(recall_score(y_test,y_pred_LR)))\n",
    "print('F1 Score : ' + str(f1_score(y_test,y_pred_LR)))"
   ]
  },
  {
   "cell_type": "code",
   "execution_count": null,
   "id": "1461288b",
   "metadata": {},
   "outputs": [],
   "source": [
    "print('Confusion Matrix : \\n' + str(confusion_matrix(y_test,y_pred_LR)))"
   ]
  },
  {
   "cell_type": "code",
   "execution_count": null,
   "id": "f15b7743",
   "metadata": {},
   "outputs": [],
   "source": [
    "#another way of doing logistic regression with cv (I think the same thing does not exist for random forest):\n",
    "log_reg_cv = LogisticRegressionCV(random_state=42)\n",
    "\n",
    "log_reg_cv.fit(X_train, y_train)\n",
    "\n",
    "y_pred_logcv = log_reg_cv.predict(X_test)"
   ]
  },
  {
   "cell_type": "markdown",
   "id": "88e6e1f2",
   "metadata": {},
   "source": [
    "#### Explainability"
   ]
  },
  {
   "cell_type": "code",
   "execution_count": null,
   "id": "70f4690b",
   "metadata": {},
   "outputs": [],
   "source": [
    "plt.figure(figsize=(12,8))\n",
    "plt.barh(X.columns,log_reg.coef_[0]) #potser log_ref_cv?\n",
    "plt.title(\"Coefficient values\")\n",
    "plt.show()"
   ]
  },
  {
   "cell_type": "code",
   "execution_count": null,
   "id": "c03e17b7",
   "metadata": {},
   "outputs": [],
   "source": [
    "y_proba = log_reg.predict_proba(X_test)#check what this is"
   ]
  },
  {
   "cell_type": "code",
   "execution_count": null,
   "id": "4d6334fc",
   "metadata": {},
   "outputs": [],
   "source": [
    "plt.figure(figsize=(12,8))\n",
    "plt.plot(np.sort(y_proba[:,0]))\n",
    "plt.axhline(0.5, c='r')\n",
    "plt.show()"
   ]
  },
  {
   "cell_type": "markdown",
   "id": "e9f1f54b",
   "metadata": {},
   "source": [
    "### 3.2. Random forest"
   ]
  },
  {
   "cell_type": "code",
   "execution_count": null,
   "id": "9b15a166",
   "metadata": {},
   "outputs": [],
   "source": [
    "model_RF = RandomForestClassifier(random_state=42)"
   ]
  },
  {
   "cell_type": "code",
   "execution_count": null,
   "id": "75c66369",
   "metadata": {},
   "outputs": [],
   "source": [
    "params_RF = {'n_estimators': [50, 100, 200],\n",
    "               'max_features': ['auto', 'sqrt'],\n",
    "               'max_depth': [50, 100],\n",
    "               #'min_samples_split': [2, 5, 10],\n",
    "               #'min_samples_leaf': [1, 2, 4],\n",
    "               'bootstrap': [True, False]}"
   ]
  },
  {
   "cell_type": "code",
   "execution_count": null,
   "id": "26fa4eac",
   "metadata": {},
   "outputs": [],
   "source": [
    "grid_search_cv_RF = GridSearchCV(model_RF, params_RF, \n",
    "                              scoring=\"f1\",\n",
    "                              n_jobs=-1, verbose=1, cv=10)\n",
    "\n",
    "grid_search_cv_RF.fit(X_train, y_train)"
   ]
  },
  {
   "cell_type": "code",
   "execution_count": null,
   "id": "9aa444ff",
   "metadata": {},
   "outputs": [],
   "source": [
    "grid_search_cv_RF.best_params_"
   ]
  },
  {
   "cell_type": "code",
   "execution_count": null,
   "id": "0725329e",
   "metadata": {},
   "outputs": [],
   "source": [
    "rand_forest = RandomForestClassifier(n_estimators=100, random_state=42)"
   ]
  },
  {
   "cell_type": "code",
   "execution_count": null,
   "id": "d50ac779",
   "metadata": {},
   "outputs": [],
   "source": [
    "rand_forest.fit(X_train, y_train)"
   ]
  },
  {
   "cell_type": "code",
   "execution_count": null,
   "id": "335a38d8",
   "metadata": {},
   "outputs": [],
   "source": [
    "y_pred_RF = rand_forest.predict(X_test)"
   ]
  },
  {
   "cell_type": "markdown",
   "id": "34684215",
   "metadata": {},
   "source": [
    "#### Metrics"
   ]
  },
  {
   "cell_type": "code",
   "execution_count": null,
   "id": "47555aa6",
   "metadata": {},
   "outputs": [],
   "source": [
    "print('Accuracy Score : ' + str(accuracy_score(y_test,y_pred_RF)))\n",
    "print('Precision Score : ' + str(precision_score(y_test,y_pred_RF)))\n",
    "print('Recall Score : ' + str(recall_score(y_test,y_pred_RF)))\n",
    "print('F1 Score : ' + str(f1_score(y_test,y_pred_RF)))"
   ]
  },
  {
   "cell_type": "code",
   "execution_count": null,
   "id": "dab37572",
   "metadata": {},
   "outputs": [],
   "source": [
    "print('Confusion Matrix : \\n' + str(confusion_matrix(y_test,y_pred_RF)))"
   ]
  },
  {
   "cell_type": "markdown",
   "id": "39871b27",
   "metadata": {},
   "source": [
    "#### Explainability"
   ]
  },
  {
   "cell_type": "code",
   "execution_count": null,
   "id": "e0f02acc",
   "metadata": {},
   "outputs": [],
   "source": [
    "importance = rand_forest.feature_importances_\n",
    "\n",
    "list_of_importance=zip(X.columns.tolist(), importance.tolist())\n",
    "\n",
    "print(list(list_of_importance))"
   ]
  },
  {
   "cell_type": "code",
   "execution_count": null,
   "id": "3dbb642f",
   "metadata": {},
   "outputs": [],
   "source": [
    "plt.figure(figsize=(10, 6))\n",
    "\n",
    "arr = [x for x in range(len(importance))]\n",
    "labels = X.columns.tolist()\n",
    "plt.bar(arr, importance)\n",
    "plt.title('Feature importance RandomForest')\n",
    "plt.xticks(arr, labels, rotation=90)\n",
    "plt.show()\n",
    "#sort it"
   ]
  },
  {
   "cell_type": "markdown",
   "id": "b5515120",
   "metadata": {},
   "source": [
    "# RandomForest with under and oversampling"
   ]
  },
  {
   "cell_type": "code",
   "execution_count": null,
   "id": "0d7780a2",
   "metadata": {},
   "outputs": [],
   "source": [
    "rand_forest_sm.fit(X_sm, y_sm)"
   ]
  },
  {
   "cell_type": "code",
   "execution_count": null,
   "id": "cd389ef4",
   "metadata": {},
   "outputs": [],
   "source": [
    "y_sm_RF = rand_forest_sm.predict(X_test)"
   ]
  },
  {
   "cell_type": "code",
   "execution_count": null,
   "id": "6a540f6f",
   "metadata": {},
   "outputs": [],
   "source": [
    "print('Accuracy Score : ' + str(accuracy_score(y_test,y_sm_RF)))\n",
    "print('Precision Score : ' + str(precision_score(y_test,y_sm_RF)))\n",
    "print('Recall Score : ' + str(recall_score(y_test,y_sm_RF)))\n",
    "print('F1 Score : ' + str(f1_score(y_test,y_sm_RF)))"
   ]
  },
  {
   "cell_type": "code",
   "execution_count": null,
   "id": "a676fea7",
   "metadata": {},
   "outputs": [],
   "source": [
    "rand_forest_cc.fit(X_cc, y_cc)"
   ]
  },
  {
   "cell_type": "code",
   "execution_count": null,
   "id": "b54171b2",
   "metadata": {},
   "outputs": [],
   "source": [
    "y_cc_RF = rand_forest_cc.predict(X_test)"
   ]
  },
  {
   "cell_type": "code",
   "execution_count": null,
   "id": "af34c38a",
   "metadata": {},
   "outputs": [],
   "source": [
    "print('Accuracy Score : ' + str(accuracy_score(y_test,y_cc_RF)))\n",
    "print('Precision Score : ' + str(precision_score(y_test,y_cc_RF)))\n",
    "print('Recall Score : ' + str(recall_score(y_test,y_cc_RF)))\n",
    "print('F1 Score : ' + str(f1_score(y_test,y_cc_RF)))"
   ]
  },
  {
   "cell_type": "code",
   "execution_count": null,
   "id": "41735a5c",
   "metadata": {},
   "outputs": [],
   "source": [
    "lr_list = [0.05, 0.075, 0.1, 0.25, 0.5, 0.75, 1, 0.0001]\n",
    "\n",
    "for learning_rate in lr_list:\n",
    "    gb_clf = GradientBoostingClassifier(n_estimators=20, learning_rate=learning_rate, max_features=2, max_depth=2, random_state=0)\n",
    "    gb_clf.fit(X_train, y_train)\n",
    "    print(\"Learning rate: \", learning_rate)\n",
    "    print(\"Accuracy score (training): {0:.3f}\".format(gb_clf.score(X_train, y_train)))"
   ]
  },
  {
   "cell_type": "code",
   "execution_count": null,
   "id": "d90e7cd0",
   "metadata": {},
   "outputs": [],
   "source": [
    "gb_clf = GradientBoostingClassifier(random_state=42)\n",
    "gb_clf.fit(X_train, y_train)"
   ]
  },
  {
   "cell_type": "code",
   "execution_count": null,
   "id": "dbad6459",
   "metadata": {},
   "outputs": [],
   "source": [
    "y_gbcl = gb_clf.predict(X_test)"
   ]
  },
  {
   "cell_type": "code",
   "execution_count": null,
   "id": "40f07c7b",
   "metadata": {},
   "outputs": [],
   "source": [
    "print('Accuracy Score : ' + str(accuracy_score(y_test,y_gbcl)))\n",
    "print('Precision Score : ' + str(precision_score(y_test,y_gbcl)))\n",
    "print('Recall Score : ' + str(recall_score(y_test,y_gbcl)))\n",
    "print('F1 Score : ' + str(f1_score(y_test,y_gbcl)))"
   ]
  },
  {
   "cell_type": "code",
   "execution_count": null,
   "id": "e71156de",
   "metadata": {},
   "outputs": [],
   "source": [
    "gb_clf = GradientBoostingClassifier(random_state=42)\n",
    "gb_clf.fit(X_sm, y_sm)"
   ]
  },
  {
   "cell_type": "code",
   "execution_count": null,
   "id": "0577bfda",
   "metadata": {},
   "outputs": [],
   "source": [
    "y_sm_gbcl = gb_clf.predict(X_test)"
   ]
  },
  {
   "cell_type": "code",
   "execution_count": null,
   "id": "70fdea5a",
   "metadata": {},
   "outputs": [],
   "source": [
    "print('Accuracy Score : ' + str(accuracy_score(y_test,y_sm_gbcl)))\n",
    "print('Precision Score : ' + str(precision_score(y_test,y_sm_gbcl)))\n",
    "print('Recall Score : ' + str(recall_score(y_test,y_sm_gbcl)))\n",
    "print('F1 Score : ' + str(f1_score(y_test,y_sm_gbcl)))"
   ]
  },
  {
   "cell_type": "markdown",
   "id": "61fa1985",
   "metadata": {},
   "source": [
    "# PCA for reduction of dataset"
   ]
  },
  {
   "cell_type": "code",
   "execution_count": null,
   "id": "1cbf946e",
   "metadata": {},
   "outputs": [],
   "source": [
    "# Instantiate the model\n",
    "pca = PCA(n_components=5)\n",
    "\n",
    "# Fit the model with the scaled data\n",
    "pca.fit(X_cc)"
   ]
  },
  {
   "cell_type": "code",
   "execution_count": null,
   "id": "44783968",
   "metadata": {},
   "outputs": [],
   "source": [
    "X_pca = pca.transform(X_cc)"
   ]
  },
  {
   "cell_type": "code",
   "execution_count": null,
   "id": "18457a39",
   "metadata": {},
   "outputs": [],
   "source": [
    "X_pca.shape"
   ]
  },
  {
   "cell_type": "code",
   "execution_count": null,
   "id": "58872ab1",
   "metadata": {},
   "outputs": [],
   "source": [
    "X_pca = pd.DataFrame(X_pca, columns = ['PC1', 'PC2', 'PC3', 'PC4', 'PC5'])\n",
    "X_pca.head()"
   ]
  },
  {
   "cell_type": "markdown",
   "id": "dbc630c1",
   "metadata": {},
   "source": [
    "# SVM with previous PCA"
   ]
  },
  {
   "cell_type": "code",
   "execution_count": null,
   "id": "b5328bc7",
   "metadata": {},
   "outputs": [],
   "source": [
    "X_train_pca, X_test_pca, y_train_pca, y_test_pca = train_test_split(X_pca, y_cc, \n",
    "                                                    test_size=0.3, \n",
    "                                                    random_state=42)"
   ]
  },
  {
   "cell_type": "code",
   "execution_count": null,
   "id": "a1853980",
   "metadata": {},
   "outputs": [],
   "source": [
    "svc = SVC()"
   ]
  },
  {
   "cell_type": "code",
   "execution_count": null,
   "id": "132e8031",
   "metadata": {},
   "outputs": [],
   "source": [
    "svc.fit(X_train_pca,y_train_pca)"
   ]
  },
  {
   "cell_type": "code",
   "execution_count": null,
   "id": "6b823066",
   "metadata": {},
   "outputs": [],
   "source": [
    "y_pca_svc = gb_clf.predict(X_test)"
   ]
  },
  {
   "cell_type": "code",
   "execution_count": null,
   "id": "07348379",
   "metadata": {},
   "outputs": [],
   "source": [
    "print('Accuracy Score : ' + str(accuracy_score(y_test_pca,y_sm_gbcl)))\n",
    "print('Precision Score : ' + str(precision_score(y_test_pca,y_sm_gbcl)))\n",
    "print('Recall Score : ' + str(recall_score(y_test_pca,y_sm_gbcl)))\n",
    "print('F1 Score : ' + str(f1_score(y_test_pca,y_sm_gbcl)))"
   ]
  },
  {
   "cell_type": "code",
   "execution_count": null,
   "id": "071137e0",
   "metadata": {},
   "outputs": [],
   "source": [
    "#todo: \n",
    "#think well about the metrics: what do I prefer\n",
    "#check ways to reduce the data set\n",
    "#keep track of the metrics and do some visualization on the variation betwen different models"
   ]
  },
  {
   "cell_type": "code",
   "execution_count": null,
   "id": "b690c6f1",
   "metadata": {},
   "outputs": [],
   "source": [
    "#things to try:\n",
    "#try with only non-technical books -- see if I get better metrics\n",
    "#try SVM (with fewer samples)\n",
    "#reduce dataset with PCA"
   ]
  }
 ],
 "metadata": {
  "kernelspec": {
   "display_name": "Python 3",
   "language": "python",
   "name": "python3"
  },
  "language_info": {
   "codemirror_mode": {
    "name": "ipython",
    "version": 3
   },
   "file_extension": ".py",
   "mimetype": "text/x-python",
   "name": "python",
   "nbconvert_exporter": "python",
   "pygments_lexer": "ipython3",
   "version": "3.7.10"
  }
 },
 "nbformat": 4,
 "nbformat_minor": 5
}
