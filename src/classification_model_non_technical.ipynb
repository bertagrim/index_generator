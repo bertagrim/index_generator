{
 "cells": [
  {
   "cell_type": "code",
   "execution_count": null,
   "id": "f598b9cc",
   "metadata": {},
   "outputs": [],
   "source": [
    "from sklearn.model_selection import cross_validate\n",
    "from sklearn.model_selection import train_test_split\n",
    "from sklearn.model_selection import GridSearchCV\n",
    "from sklearn.metrics import accuracy_score,recall_score,precision_score,f1_score\n",
    "from sklearn.linear_model import LogisticRegression, LogisticRegressionCV\n",
    "from sklearn.ensemble import RandomForestClassifier\n",
    "from sklearn.metrics import confusion_matrix\n",
    "from sklearn.preprocessing import MinMaxScaler\n",
    "from imblearn.over_sampling import SMOTE\n",
    "from imblearn.under_sampling import ClusterCentroids, CondensedNearestNeighbour, RandomUnderSampler\n",
    "from sklearn.ensemble import GradientBoostingClassifier\n",
    "from xgboost import XGBClassifier\n",
    "from sklearn.decomposition import PCA\n",
    "from sklearn.svm import SVC\n",
    "\n",
    "import numpy as np\n",
    "import pandas as pd\n",
    "import seaborn as sns\n",
    "import matplotlib.pyplot as plt\n",
    "\n",
    "import pathlib\n",
    "from glob import glob\n",
    "from data_loader import get_pdf_filepaths, load_page_and_line_indexes, load_split_data, load_raw_indexes_list#, get_processed_folders_filepaths"
   ]
  },
  {
   "cell_type": "code",
   "execution_count": null,
   "id": "6e27ff3b",
   "metadata": {},
   "outputs": [],
   "source": [
    "def get_agg_dfs_filepaths_non_technical(folder_path):\n",
    "    absolute_folder_path = pathlib.Path(folder_path).resolve()\n",
    "    #print(absolute_folder_path)\n",
    "    pattern = str(absolute_folder_path / 'non-technical/**/aggregated.csv')\n",
    "    #print(pattern)\n",
    "    return glob(pattern)"
   ]
  }
 ],
 "metadata": {
  "kernelspec": {
   "display_name": "Python 3",
   "language": "python",
   "name": "python3"
  },
  "language_info": {
   "codemirror_mode": {
    "name": "ipython",
    "version": 3
   },
   "file_extension": ".py",
   "mimetype": "text/x-python",
   "name": "python",
   "nbconvert_exporter": "python",
   "pygments_lexer": "ipython3",
   "version": "3.7.10"
  }
 },
 "nbformat": 4,
 "nbformat_minor": 5
}
