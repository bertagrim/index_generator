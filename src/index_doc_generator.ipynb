{
 "cells": [
  {
   "cell_type": "code",
   "execution_count": null,
   "id": "dfdbd01c",
   "metadata": {},
   "outputs": [],
   "source": [
    "import pandas as pd\n",
    "import numpy as np\n",
    "import io\n",
    "import os\n",
    "import shutil\n",
    "\n",
    "import re\n",
    "from sentence_splitter import SentenceSplitter\n",
    "splitter = SentenceSplitter(language=\"en\")\n",
    "\n",
    "import string\n",
    "\n",
    "from typing import Dict\n",
    "import fitz\n",
    "import sys\n",
    "import mdutils\n",
    "import mdpdf\n",
    "\n",
    "import pickle\n",
    "\n",
    "from sklearn.preprocessing import MinMaxScaler\n"
   ]
  },
  {
   "cell_type": "markdown",
   "id": "19f00e99",
   "metadata": {},
   "source": [
    "# 1. Get aggregated csv of relevant book"
   ]
  },
  {
   "cell_type": "code",
   "execution_count": null,
   "id": "d8a7354b",
   "metadata": {
    "scrolled": true
   },
   "outputs": [],
   "source": [
    "#TODO: parametritzar\n",
    "path = '../data/processed/jenkins_08/aggregated.csv'\n",
    "df_aggregated = pd.read_csv(path,index_col=0)\n",
    "df_aggregated.head()"
   ]
  },
  {
   "cell_type": "markdown",
   "id": "65f50410",
   "metadata": {},
   "source": [
    "# 2. Data cleaning and feature engineering"
   ]
  },
  {
   "cell_type": "code",
   "execution_count": null,
   "id": "51188fa3",
   "metadata": {},
   "outputs": [],
   "source": [
    "df_aggregated.info()"
   ]
  },
  {
   "cell_type": "code",
   "execution_count": null,
   "id": "6793c9fb",
   "metadata": {},
   "outputs": [],
   "source": [
    "df_aggregated.dropna(inplace=True)"
   ]
  },
  {
   "cell_type": "code",
   "execution_count": null,
   "id": "25d9cba6",
   "metadata": {},
   "outputs": [],
   "source": [
    "textbook_words=['whereas', \n",
    "                'conversely', \n",
    "                'result',\n",
    "                'suggest',\n",
    "                'contrast', \n",
    "                'comparison', \n",
    "                'view', \n",
    "                'likewise',\n",
    "                'despite',\n",
    "                'while',\n",
    "                'subsequent',\n",
    "                'subsequently',\n",
    "                'overall',\n",
    "                'summary',\n",
    "                'sumarize',\n",
    "                'first',\n",
    "                'second', \n",
    "                'third',\n",
    "                'firstly',\n",
    "                'secondly', \n",
    "                'thirdly',\n",
    "                'finally',\n",
    "                'although',\n",
    "                'thus',\n",
    "                'again',\n",
    "                'further',\n",
    "                'then',\n",
    "                'besides',\n",
    "                'too',\n",
    "                'similarly',\n",
    "                'correspondingly',\n",
    "                'regarding',\n",
    "                'involved',\n",
    "                'approach',\n",
    "                'account',\n",
    "                'theory',\n",
    "                'method',\n",
    "                'required',\n",
    "                'process',\n",
    "                'research',\n",
    "                'role',\n",
    "                'significant',\n",
    "                'source',\n",
    "                'variable',\n",
    "                'issue',\n",
    "                'function',\n",
    "                'formula',\n",
    "                'formulate',\n",
    "                'phrase',\n",
    "                'factor',\n",
    "                'evidence',\n",
    "                'derived',\n",
    "                'derive',\n",
    "                'establish',\n",
    "                'concept',\n",
    "                'available',\n",
    "                'context',\n",
    "                'assume',\n",
    "                'assumption',\n",
    "                'additionally',\n",
    "                'additional',\n",
    "                'analysis',\n",
    "                'general',\n",
    "                'certain',\n",
    "                'certainly',\n",
    "                'furthermore',\n",
    "                'moreover',\n",
    "                'nonetheless',\n",
    "                'nevertheless',\n",
    "                'bibliography',\n",
    "                'prove',\n",
    "                'part',\n",
    "                'today', \n",
    "                'nowadays', \n",
    "                'actually', \n",
    "                'section', \n",
    "                'indeed', \n",
    "                'every', \n",
    "                'any', \n",
    "                'some',\n",
    "                'instance',\n",
    "                'example', \n",
    "                'therefore', \n",
    "                'definition',\n",
    "                'define',\n",
    "                'explain',\n",
    "                'explanation',\n",
    "                'introduction', \n",
    "                'conclusion',\n",
    "                'conclude',\n",
    "                'chapter', \n",
    "                'appendix', \n",
    "                'otherwise', \n",
    "                'thing',\n",
    "                'concisely',\n",
    "                'concise',\n",
    "                'brief',\n",
    "                'briefly',\n",
    "                'rather', \n",
    "                'instead', \n",
    "                'like', \n",
    "                'since', \n",
    "                'given', \n",
    "                'case', \n",
    "                'hence', \n",
    "                'iff', \n",
    "                'see', \n",
    "                'beyond', \n",
    "                'below', \n",
    "                'above', \n",
    "                'postscript',\n",
    "                'preface',\n",
    "                'index', \n",
    "                'ensure', \n",
    "                'generally', \n",
    "                'anything', \n",
    "                'something',\n",
    "                'everything',\n",
    "                'other']"
   ]
  },
  {
   "cell_type": "code",
   "execution_count": null,
   "id": "310be416",
   "metadata": {},
   "outputs": [],
   "source": [
    "dict_tbw={}\n",
    "for w in df_aggregated.candidate_keyword:\n",
    "    if w in textbook_words:\n",
    "        dict_tbw[w]=1\n",
    "    else:\n",
    "        dict_tbw[w]=0"
   ]
  },
  {
   "cell_type": "code",
   "execution_count": null,
   "id": "48ef8f55",
   "metadata": {},
   "outputs": [],
   "source": [
    "def is_a_tbw(x):\n",
    "    if w in textbook_words:\n",
    "        return 1\n",
    "    else: \n",
    "        return 0"
   ]
  },
  {
   "cell_type": "code",
   "execution_count": null,
   "id": "5758cff8",
   "metadata": {},
   "outputs": [],
   "source": [
    "df_aggregated['is_a_textbook_word']=df_aggregated.candidate_keyword.apply(lambda x: dict_tbw[x])"
   ]
  },
  {
   "cell_type": "code",
   "execution_count": null,
   "id": "228ef450",
   "metadata": {},
   "outputs": [],
   "source": [
    "df_candidates=df_aggregated['candidate_keyword']"
   ]
  },
  {
   "cell_type": "code",
   "execution_count": null,
   "id": "8b301ee8",
   "metadata": {},
   "outputs": [],
   "source": [
    "df_aggregated_scaled = pd.get_dummies(df_aggregated, columns=['POS'],\n",
    "prefix = ['POS'])"
   ]
  },
  {
   "cell_type": "code",
   "execution_count": null,
   "id": "a51993af",
   "metadata": {},
   "outputs": [],
   "source": [
    "df_aggregated_scaled.drop(columns=['candidate_keyword'], inplace=True)"
   ]
  },
  {
   "cell_type": "code",
   "execution_count": null,
   "id": "dde7c1b0",
   "metadata": {},
   "outputs": [],
   "source": [
    "df_aggregated_scaled_columns = df_aggregated_scaled.columns"
   ]
  },
  {
   "cell_type": "code",
   "execution_count": null,
   "id": "55d9f8f9",
   "metadata": {},
   "outputs": [],
   "source": [
    "scaler = MinMaxScaler() "
   ]
  },
  {
   "cell_type": "code",
   "execution_count": null,
   "id": "f315f72d",
   "metadata": {},
   "outputs": [],
   "source": [
    "df_aggregated_scaled = scaler.fit_transform(df_aggregated_scaled)\n",
    "df_aggregated_scaled = pd.DataFrame(df_aggregated_scaled, columns= df_aggregated_scaled_columns)"
   ]
  },
  {
   "cell_type": "code",
   "execution_count": null,
   "id": "80d21823",
   "metadata": {},
   "outputs": [],
   "source": [
    "df_aggregated_scaled=df_aggregated_scaled.rename(columns={\"is_in_index\": \"target\"})"
   ]
  },
  {
   "cell_type": "code",
   "execution_count": null,
   "id": "8e62430f",
   "metadata": {},
   "outputs": [],
   "source": [
    "df_aggregated_scaled=df_aggregated_scaled.drop(columns=['POS_SYM', \n",
    "                                        'POS_PART', \n",
    "                                        'POS_PUNCT', \n",
    "                                        'POS_INTJ', \n",
    "                                        'POS_DET',\n",
    "                                        'POS_AUX',\n",
    "                                        'POS_SCONJ',\n",
    "                                        'POS_CCONJ',\n",
    "                                        'POS_X',\n",
    "                                        'POS_PRON',\n",
    "                                        'POS_ADP',\n",
    "                                        'POS_NUM'], errors='ignore')"
   ]
  },
  {
   "cell_type": "code",
   "execution_count": null,
   "id": "577d5aaa",
   "metadata": {},
   "outputs": [],
   "source": [
    "df_aggregated_scaled.head()"
   ]
  },
  {
   "cell_type": "code",
   "execution_count": null,
   "id": "3f378118",
   "metadata": {},
   "outputs": [],
   "source": [
    "df_aggregated_scaled.info()"
   ]
  },
  {
   "cell_type": "code",
   "execution_count": null,
   "id": "ac4f43ad",
   "metadata": {},
   "outputs": [],
   "source": [
    "#todo: parametritzar\n",
    "df_aggregated_scaled.to_csv(\"../data/processed/jenkins_08/df_aggregated_scaled.csv\", encoding = 'utf-8')"
   ]
  },
  {
   "cell_type": "markdown",
   "id": "403584f3",
   "metadata": {},
   "source": [
    "# 3. Make prediction"
   ]
  },
  {
   "cell_type": "code",
   "execution_count": null,
   "id": "512cf505",
   "metadata": {},
   "outputs": [],
   "source": [
    "X = df_aggregated_scaled.drop('target', axis= 1)\n",
    "y = df_aggregated_scaled.target"
   ]
  },
  {
   "cell_type": "code",
   "execution_count": null,
   "id": "950c80e2",
   "metadata": {},
   "outputs": [],
   "source": [
    "xgb_mod = pickle.load(open('../models/xgb_mod.sav', 'rb'))"
   ]
  },
  {
   "cell_type": "code",
   "execution_count": null,
   "id": "75ad68f3",
   "metadata": {},
   "outputs": [],
   "source": [
    "xgb_mod_s = pickle.load(open('../models/xgb_mod_s.sav', 'rb'))"
   ]
  },
  {
   "cell_type": "code",
   "execution_count": null,
   "id": "483a0ea2",
   "metadata": {},
   "outputs": [],
   "source": [
    "y_pred = xgb_mod.predict(X)"
   ]
  },
  {
   "cell_type": "code",
   "execution_count": null,
   "id": "a5591b54",
   "metadata": {},
   "outputs": [],
   "source": [
    "y_pred_s = xgb_mod_s.predict(X)"
   ]
  },
  {
   "cell_type": "code",
   "execution_count": null,
   "id": "80a5e74b",
   "metadata": {},
   "outputs": [],
   "source": [
    "is_in_index=pd.DataFrame(y_pred)"
   ]
  },
  {
   "cell_type": "code",
   "execution_count": null,
   "id": "b504e6bb",
   "metadata": {},
   "outputs": [],
   "source": [
    "results_df=pd.concat([df_candidates, is_in_index], axis=1)"
   ]
  },
  {
   "cell_type": "code",
   "execution_count": null,
   "id": "53448b36",
   "metadata": {},
   "outputs": [],
   "source": [
    "results_df.rename(columns={0:'is_in_index'},inplace=True)"
   ]
  },
  {
   "cell_type": "code",
   "execution_count": null,
   "id": "9b30756b",
   "metadata": {},
   "outputs": [],
   "source": [
    "results_df.head()"
   ]
  },
  {
   "cell_type": "markdown",
   "id": "beac3001",
   "metadata": {},
   "source": [
    "# 4. Generate draft index"
   ]
  },
  {
   "cell_type": "code",
   "execution_count": null,
   "id": "7a7be489",
   "metadata": {},
   "outputs": [],
   "source": [
    "def get_line_numbers_concat(line_nums):\n",
    "    seq = []\n",
    "    final = []\n",
    "    last = 0\n",
    "\n",
    "    for index, val in enumerate(line_nums):\n",
    "\n",
    "        if last + 1 == val or last + 2 == val or index == 0:\n",
    "            seq.append(val)\n",
    "            last = val\n",
    "        else:\n",
    "            if len(seq) > 1:\n",
    "                final.append(str(seq[0]) + '-' + str(seq[len(seq)-1]))\n",
    "            else:\n",
    "                final.append(str(seq[0]))\n",
    "            seq = []\n",
    "            seq.append(val)\n",
    "            last = val\n",
    "\n",
    "        if index == len(line_nums) - 1:\n",
    "            if len(seq) > 1:\n",
    "                final.append(str(seq[0]) + '-' + str(seq[len(seq)-1]))\n",
    "            else:\n",
    "                final.append(str(seq[0]))\n",
    "\n",
    "    final_str = ', '.join(map(str, final))\n",
    "    return final_str"
   ]
  },
  {
   "cell_type": "markdown",
   "id": "ac571861",
   "metadata": {},
   "source": [
    "## 4.1. Get draft in md"
   ]
  },
  {
   "cell_type": "code",
   "execution_count": null,
   "id": "a2d1a6a6",
   "metadata": {},
   "outputs": [],
   "source": [
    "def get_markdown_index(candidates_dataframe, pages_body_dataframe):\n",
    "    keywords=candidates_dataframe[candidates_dataframe.is_in_index==1]['candidate_keyword'].tolist()\n",
    "    dict_pagination={}\n",
    "    for kw in keywords:\n",
    "        pages_kw=pages_body_dataframe[pages_body_dataframe['clean_content'].str.contains(kw)]\n",
    "        pages=pages_kw['real_page_num'].tolist()\n",
    "        dict_pagination[kw]=get_line_numbers_concat(pages)\n",
    "    md_string='## Index\\n'\n",
    "    last_unigram=''\n",
    "    for word in dict_pagination:\n",
    "        if len(word.split(' '))==1:\n",
    "            md_string+='- '+word+' '+dict_pagination[word]+'\\n'\n",
    "            last_unigram=word\n",
    "        else:\n",
    "            if last_unigram in word.split(' '):\n",
    "                md_string+='    - '+word+' '+dict_pagination[word]+'\\n'\n",
    "            else:\n",
    "                md_string+='- '+word+' '+dict_pagination[word]+'\\n'                \n",
    "    return md_string"
   ]
  },
  {
   "cell_type": "code",
   "execution_count": null,
   "id": "68422680",
   "metadata": {},
   "outputs": [],
   "source": [
    "#TODO: parametritzar\n",
    "path = '../data/processed/jenkins_08/by_page_body.csv'\n",
    "pages_df = pd.read_csv(path,index_col=0)\n",
    "pages_df.info()"
   ]
  },
  {
   "cell_type": "code",
   "execution_count": null,
   "id": "8bf80af5",
   "metadata": {},
   "outputs": [],
   "source": [
    "md_string=get_markdown_index(results_df, pages_df)"
   ]
  },
  {
   "cell_type": "code",
   "execution_count": null,
   "id": "e1418611",
   "metadata": {},
   "outputs": [],
   "source": [
    "#TODO: parametritzar\n",
    "f=open('../data/processed/jenkins_08/markdown_index.md', 'w')\n",
    "f.write(md_string)\n",
    "f.close()"
   ]
  },
  {
   "cell_type": "markdown",
   "id": "cf3f26b2",
   "metadata": {},
   "source": [
    "## 4.2. Get draft in txt for edition by human indexer"
   ]
  },
  {
   "cell_type": "code",
   "execution_count": null,
   "id": "c1e3bef0",
   "metadata": {},
   "outputs": [],
   "source": [
    "def get_txt_index(candidates_dataframe, pages_body_dataframe):\n",
    "    keywords=candidates_dataframe[candidates_dataframe.is_in_index==1]['candidate_keyword'].tolist()\n",
    "    dict_pagination={}\n",
    "    for kw in keywords:\n",
    "        pages_kw=pages_body_dataframe[pages_body_dataframe['clean_content'].str.contains(kw)]\n",
    "        pages=pages_kw['real_page_num'].tolist()\n",
    "        dict_pagination[kw]=get_line_numbers_concat(pages)\n",
    "    txt_string='Index\\n\\n'\n",
    "    last_unigram=''\n",
    "    for word in dict_pagination:\n",
    "        if len(word.split(' '))==1:\n",
    "            txt_string+='- '+word+' '+dict_pagination[word]+'\\n\\n'\n",
    "            last_unigram=word\n",
    "        else:\n",
    "            if last_unigram in word.split(' '):\n",
    "                txt_string+='    - '+word+' '+dict_pagination[word]+'\\n\\n'\n",
    "            else:\n",
    "                txt_string+='- '+word+' '+dict_pagination[word]+'\\n\\n'      \n",
    "    return txt_string"
   ]
  },
  {
   "cell_type": "code",
   "execution_count": null,
   "id": "fb678c51",
   "metadata": {},
   "outputs": [],
   "source": [
    "txt_string=get_txt_index(results_df, pages_df)"
   ]
  },
  {
   "cell_type": "code",
   "execution_count": null,
   "id": "30e7bd4b",
   "metadata": {},
   "outputs": [],
   "source": [
    "#todo: parametritzar\n",
    "f=open('../data/processed/jenkins_08/txt_index.txt', 'w')\n",
    "f.write(txt_string)\n",
    "f.close()"
   ]
  }
 ],
 "metadata": {
  "kernelspec": {
   "display_name": "Python 3",
   "language": "python",
   "name": "python3"
  },
  "language_info": {
   "codemirror_mode": {
    "name": "ipython",
    "version": 3
   },
   "file_extension": ".py",
   "mimetype": "text/x-python",
   "name": "python",
   "nbconvert_exporter": "python",
   "pygments_lexer": "ipython3",
   "version": "3.7.10"
  }
 },
 "nbformat": 4,
 "nbformat_minor": 5
}
